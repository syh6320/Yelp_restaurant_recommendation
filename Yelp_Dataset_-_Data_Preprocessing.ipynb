{
 "cells": [
  {
   "cell_type": "markdown",
   "metadata": {},
   "source": [
    "# Yelp Data Challenge - Data Preprocessing"
   ]
  },
  {
   "cell_type": "markdown",
   "metadata": {},
   "source": [
    "## Dataset Introduction\n",
    "\n",
    "The Challenge Dataset:\n",
    "\n",
    "    4.1M reviews and 947K tips by 1M users for 144K businesses\n",
    "    1.1M business attributes, e.g., hours, parking availability, ambience.\n",
    "    Aggregated check-ins over time for each of the 125K businesses\n",
    "    200,000 pictures from the included businesses\n",
    "\n",
    "Cities:\n",
    "\n",
    "    U.K.: Edinburgh\n",
    "    Germany: Karlsruhe\n",
    "    Canada: Montreal and Waterloo\n",
    "    U.S.: Pittsburgh, Charlotte, Urbana-Champaign, Phoenix, Las Vegas, Madison, Cleveland\n",
    "\n",
    "Files:\n",
    "\n",
    "    yelp_academic_dataset_business.json\n",
    "    yelp_academic_dataset_checkin.json\n",
    "    yelp_academic_dataset_review.json\n",
    "    yelp_academic_dataset_tip.json\n",
    "    yelp_academic_dataset_user.json\n",
    "\n",
    "Notes on the Dataset\n",
    "    Each file is composed of a single object type, one json-object per-line."
   ]
  },
  {
   "cell_type": "markdown",
   "metadata": {},
   "source": [
    "## Read business and review data from json file and load to Pandas DataFrame"
   ]
  },
  {
   "cell_type": "code",
   "execution_count": 1,
   "metadata": {
    "collapsed": false
   },
   "outputs": [],
   "source": [
    "import json\n",
    "import pandas as pd\n",
    "import numpy as np"
   ]
  },
  {
   "cell_type": "markdown",
   "metadata": {},
   "source": [
    "#### Business Data"
   ]
  },
  {
   "cell_type": "code",
   "execution_count": 2,
   "metadata": {
    "collapsed": false
   },
   "outputs": [],
   "source": [
    "with open('data/yelp_academic_dataset_business.json') as f:\n",
    "    df_business = pd.DataFrame(json.loads(line) for line in f)"
   ]
  },
  {
   "cell_type": "code",
   "execution_count": 3,
   "metadata": {
    "collapsed": false
   },
   "outputs": [
    {
     "name": "stdout",
     "output_type": "stream",
     "text": [
      "<class 'pandas.core.frame.DataFrame'>\n",
      "RangeIndex: 144072 entries, 0 to 144071\n",
      "Data columns (total 16 columns):\n",
      "address         144072 non-null object\n",
      "attributes      127162 non-null object\n",
      "business_id     144072 non-null object\n",
      "categories      143747 non-null object\n",
      "city            144072 non-null object\n",
      "hours           102464 non-null object\n",
      "is_open         144072 non-null int64\n",
      "latitude        144072 non-null float64\n",
      "longitude       144072 non-null float64\n",
      "name            144072 non-null object\n",
      "neighborhood    144072 non-null object\n",
      "postal_code     144072 non-null object\n",
      "review_count    144072 non-null int64\n",
      "stars           144072 non-null float64\n",
      "state           144072 non-null object\n",
      "type            144072 non-null object\n",
      "dtypes: float64(3), int64(2), object(11)\n",
      "memory usage: 17.6+ MB\n"
     ]
    }
   ],
   "source": [
    "df_business.info()"
   ]
  },
  {
   "cell_type": "code",
   "execution_count": 7,
   "metadata": {
    "collapsed": false
   },
   "outputs": [
    {
     "data": {
      "text/html": [
       "<div>\n",
       "<style>\n",
       "    .dataframe thead tr:only-child th {\n",
       "        text-align: right;\n",
       "    }\n",
       "\n",
       "    .dataframe thead th {\n",
       "        text-align: left;\n",
       "    }\n",
       "\n",
       "    .dataframe tbody tr th {\n",
       "        vertical-align: top;\n",
       "    }\n",
       "</style>\n",
       "<table border=\"1\" class=\"dataframe\">\n",
       "  <thead>\n",
       "    <tr style=\"text-align: right;\">\n",
       "      <th></th>\n",
       "      <th>address</th>\n",
       "      <th>attributes</th>\n",
       "      <th>business_id</th>\n",
       "      <th>categories</th>\n",
       "      <th>city</th>\n",
       "      <th>hours</th>\n",
       "      <th>is_open</th>\n",
       "      <th>latitude</th>\n",
       "      <th>longitude</th>\n",
       "      <th>name</th>\n",
       "      <th>neighborhood</th>\n",
       "      <th>postal_code</th>\n",
       "      <th>review_count</th>\n",
       "      <th>stars</th>\n",
       "      <th>state</th>\n",
       "      <th>type</th>\n",
       "    </tr>\n",
       "  </thead>\n",
       "  <tbody>\n",
       "    <tr>\n",
       "      <th>0</th>\n",
       "      <td>227 E Baseline Rd, Ste J2</td>\n",
       "      <td>[BikeParking: True, BusinessAcceptsBitcoin: Fa...</td>\n",
       "      <td>0DI8Dt2PJp07XkVvIElIcQ</td>\n",
       "      <td>[Tobacco Shops, Nightlife, Vape Shops, Shopping]</td>\n",
       "      <td>Tempe</td>\n",
       "      <td>[Monday 11:0-21:0, Tuesday 11:0-21:0, Wednesda...</td>\n",
       "      <td>0</td>\n",
       "      <td>33.378214</td>\n",
       "      <td>-111.936102</td>\n",
       "      <td>Innovative Vapors</td>\n",
       "      <td></td>\n",
       "      <td>85283</td>\n",
       "      <td>17</td>\n",
       "      <td>4.5</td>\n",
       "      <td>AZ</td>\n",
       "      <td>business</td>\n",
       "    </tr>\n",
       "    <tr>\n",
       "      <th>1</th>\n",
       "      <td>495 S Grand Central Pkwy</td>\n",
       "      <td>[BusinessAcceptsBitcoin: False, BusinessAccept...</td>\n",
       "      <td>LTlCaCGZE14GuaUXUGbamg</td>\n",
       "      <td>[Caterers, Grocery, Food, Event Planning &amp; Ser...</td>\n",
       "      <td>Las Vegas</td>\n",
       "      <td>[Monday 0:0-0:0, Tuesday 0:0-0:0, Wednesday 0:...</td>\n",
       "      <td>1</td>\n",
       "      <td>36.192284</td>\n",
       "      <td>-115.159272</td>\n",
       "      <td>Cut and Taste</td>\n",
       "      <td></td>\n",
       "      <td>89106</td>\n",
       "      <td>9</td>\n",
       "      <td>5.0</td>\n",
       "      <td>NV</td>\n",
       "      <td>business</td>\n",
       "    </tr>\n",
       "  </tbody>\n",
       "</table>\n",
       "</div>"
      ],
      "text/plain": [
       "                     address  \\\n",
       "0  227 E Baseline Rd, Ste J2   \n",
       "1   495 S Grand Central Pkwy   \n",
       "\n",
       "                                          attributes             business_id  \\\n",
       "0  [BikeParking: True, BusinessAcceptsBitcoin: Fa...  0DI8Dt2PJp07XkVvIElIcQ   \n",
       "1  [BusinessAcceptsBitcoin: False, BusinessAccept...  LTlCaCGZE14GuaUXUGbamg   \n",
       "\n",
       "                                          categories       city  \\\n",
       "0   [Tobacco Shops, Nightlife, Vape Shops, Shopping]      Tempe   \n",
       "1  [Caterers, Grocery, Food, Event Planning & Ser...  Las Vegas   \n",
       "\n",
       "                                               hours  is_open   latitude  \\\n",
       "0  [Monday 11:0-21:0, Tuesday 11:0-21:0, Wednesda...        0  33.378214   \n",
       "1  [Monday 0:0-0:0, Tuesday 0:0-0:0, Wednesday 0:...        1  36.192284   \n",
       "\n",
       "    longitude               name neighborhood postal_code  review_count  \\\n",
       "0 -111.936102  Innovative Vapors                    85283            17   \n",
       "1 -115.159272      Cut and Taste                    89106             9   \n",
       "\n",
       "   stars state      type  \n",
       "0    4.5    AZ  business  \n",
       "1    5.0    NV  business  "
      ]
     },
     "execution_count": 7,
     "metadata": {},
     "output_type": "execute_result"
    }
   ],
   "source": [
    "df_business.head(2)"
   ]
  },
  {
   "cell_type": "code",
   "execution_count": 4,
   "metadata": {
    "collapsed": true
   },
   "outputs": [],
   "source": [
    "# save data as csv for further use\n",
    "# df_business.to_csv('data/yelp_academic_dataset_business.csv', index = False, encoding = 'utf-8')"
   ]
  },
  {
   "cell_type": "markdown",
   "metadata": {},
   "source": [
    "#### Checkin Data"
   ]
  },
  {
   "cell_type": "code",
   "execution_count": null,
   "metadata": {
    "collapsed": false
   },
   "outputs": [],
   "source": [
    "# with open(file_checkin, encoding = \"utf8\") as f:\n",
    "#      df_checkin = pd.DataFrame(json.loads(line) for line in f)\n",
    "# df_checkin.head(2)"
   ]
  },
  {
   "cell_type": "markdown",
   "metadata": {},
   "source": [
    "#### Review Data"
   ]
  },
  {
   "cell_type": "code",
   "execution_count": 5,
   "metadata": {
    "collapsed": false
   },
   "outputs": [],
   "source": [
    "# we've transformed json file to csv by json2csv\n",
    "df_review = pd.read_csv(\"data/yelp_academic_dataset_review.csv\")"
   ]
  },
  {
   "cell_type": "code",
   "execution_count": 6,
   "metadata": {
    "collapsed": false,
    "scrolled": true
   },
   "outputs": [
    {
     "data": {
      "text/html": [
       "<div>\n",
       "<style>\n",
       "    .dataframe thead tr:only-child th {\n",
       "        text-align: right;\n",
       "    }\n",
       "\n",
       "    .dataframe thead th {\n",
       "        text-align: left;\n",
       "    }\n",
       "\n",
       "    .dataframe tbody tr th {\n",
       "        vertical-align: top;\n",
       "    }\n",
       "</style>\n",
       "<table border=\"1\" class=\"dataframe\">\n",
       "  <thead>\n",
       "    <tr style=\"text-align: right;\">\n",
       "      <th></th>\n",
       "      <th>funny</th>\n",
       "      <th>user_id</th>\n",
       "      <th>review_id</th>\n",
       "      <th>text</th>\n",
       "      <th>business_id</th>\n",
       "      <th>stars</th>\n",
       "      <th>date</th>\n",
       "      <th>useful</th>\n",
       "      <th>type</th>\n",
       "      <th>cool</th>\n",
       "    </tr>\n",
       "  </thead>\n",
       "  <tbody>\n",
       "    <tr>\n",
       "      <th>0</th>\n",
       "      <td>0</td>\n",
       "      <td>KpkOkG6RIf4Ra25Lhhxf1A</td>\n",
       "      <td>NxL8SIC5yqOdnlXCg18IBg</td>\n",
       "      <td>If you enjoy service by someone who is as comp...</td>\n",
       "      <td>2aFiy99vNLklCx3T_tGS9A</td>\n",
       "      <td>5</td>\n",
       "      <td>2011-10-10</td>\n",
       "      <td>0</td>\n",
       "      <td>review</td>\n",
       "      <td>0</td>\n",
       "    </tr>\n",
       "    <tr>\n",
       "      <th>1</th>\n",
       "      <td>0</td>\n",
       "      <td>bQ7fQq1otn9hKX-gXRsrgA</td>\n",
       "      <td>pXbbIgOXvLuTi_SPs1hQEQ</td>\n",
       "      <td>After being on the phone with Verizon Wireless...</td>\n",
       "      <td>2aFiy99vNLklCx3T_tGS9A</td>\n",
       "      <td>5</td>\n",
       "      <td>2010-12-29</td>\n",
       "      <td>1</td>\n",
       "      <td>review</td>\n",
       "      <td>0</td>\n",
       "    </tr>\n",
       "  </tbody>\n",
       "</table>\n",
       "</div>"
      ],
      "text/plain": [
       "   funny                 user_id               review_id  \\\n",
       "0      0  KpkOkG6RIf4Ra25Lhhxf1A  NxL8SIC5yqOdnlXCg18IBg   \n",
       "1      0  bQ7fQq1otn9hKX-gXRsrgA  pXbbIgOXvLuTi_SPs1hQEQ   \n",
       "\n",
       "                                                text             business_id  \\\n",
       "0  If you enjoy service by someone who is as comp...  2aFiy99vNLklCx3T_tGS9A   \n",
       "1  After being on the phone with Verizon Wireless...  2aFiy99vNLklCx3T_tGS9A   \n",
       "\n",
       "   stars        date  useful    type  cool  \n",
       "0      5  2011-10-10       0  review     0  \n",
       "1      5  2010-12-29       1  review     0  "
      ]
     },
     "execution_count": 6,
     "metadata": {},
     "output_type": "execute_result"
    }
   ],
   "source": [
    "df_review.head(2)"
   ]
  },
  {
   "cell_type": "code",
   "execution_count": 8,
   "metadata": {
    "collapsed": false
   },
   "outputs": [
    {
     "name": "stdout",
     "output_type": "stream",
     "text": [
      "<class 'pandas.core.frame.DataFrame'>\n",
      "RangeIndex: 4153150 entries, 0 to 4153149\n",
      "Data columns (total 10 columns):\n",
      "funny          int64\n",
      "user_id        object\n",
      "review_id      object\n",
      "text           object\n",
      "business_id    object\n",
      "stars          int64\n",
      "date           object\n",
      "useful         int64\n",
      "type           object\n",
      "cool           int64\n",
      "dtypes: int64(4), object(6)\n",
      "memory usage: 316.9+ MB\n"
     ]
    }
   ],
   "source": [
    "# df_review.shape\n",
    "df_review.info()"
   ]
  },
  {
   "cell_type": "markdown",
   "metadata": {},
   "source": [
    "#### Tip Data"
   ]
  },
  {
   "cell_type": "code",
   "execution_count": null,
   "metadata": {
    "collapsed": false
   },
   "outputs": [],
   "source": [
    "# with open(file_tip, encoding = \"utf8\") as f:\n",
    "#     df_tip = pd.DataFrame(json.loads(line) for line in f)\n",
    "# df_tip.head(2)"
   ]
  },
  {
   "cell_type": "markdown",
   "metadata": {},
   "source": [
    "#### User Data"
   ]
  },
  {
   "cell_type": "code",
   "execution_count": null,
   "metadata": {
    "collapsed": false
   },
   "outputs": [],
   "source": [
    "# with open(file_user, encoding = \"utf8\") as f:\n",
    "#     df_user = pd.DataFrame(json.loads(line) for line in f)\n",
    "# df_user.head(2)"
   ]
  },
  {
   "cell_type": "code",
   "execution_count": null,
   "metadata": {
    "collapsed": false,
    "scrolled": true
   },
   "outputs": [],
   "source": [
    "# df_user = pd.read_csv(file_user)\n",
    "# df_user.head(6)"
   ]
  },
  {
   "cell_type": "markdown",
   "metadata": {},
   "source": [
    "## Filter data by city and category"
   ]
  },
  {
   "cell_type": "markdown",
   "metadata": {},
   "source": [
    "#### Create filters/masks\n",
    "\n",
    "* create filters that selects business \n",
    "    * that are located in \"Las Vegas\"\n",
    "    * that contains \"Restaurants\" in their category (You may need to filter null categories first)"
   ]
  },
  {
   "cell_type": "code",
   "execution_count": 16,
   "metadata": {
    "collapsed": true
   },
   "outputs": [],
   "source": [
    "# Create Pandas DataFrame filters\n",
    "def business_LV_Res(df):\n",
    "    lv_df = df[(df.city == \"Las Vegas\") & (df.categories.notnull())]\n",
    "    lv_res_df = lv_df[lv_df.categories.apply(lambda x: 'Restaurants' in x)]\n",
    "    return lv_res_df.reset_index(drop = True)"
   ]
  },
  {
   "cell_type": "code",
   "execution_count": 17,
   "metadata": {
    "collapsed": false
   },
   "outputs": [],
   "source": [
    "# Create filtered DataFrame\n",
    "df_business_filter = business_LV_Res(df_business)"
   ]
  },
  {
   "cell_type": "code",
   "execution_count": 18,
   "metadata": {
    "collapsed": false
   },
   "outputs": [
    {
     "data": {
      "text/html": [
       "<div>\n",
       "<style>\n",
       "    .dataframe thead tr:only-child th {\n",
       "        text-align: right;\n",
       "    }\n",
       "\n",
       "    .dataframe thead th {\n",
       "        text-align: left;\n",
       "    }\n",
       "\n",
       "    .dataframe tbody tr th {\n",
       "        vertical-align: top;\n",
       "    }\n",
       "</style>\n",
       "<table border=\"1\" class=\"dataframe\">\n",
       "  <thead>\n",
       "    <tr style=\"text-align: right;\">\n",
       "      <th></th>\n",
       "      <th>address</th>\n",
       "      <th>attributes</th>\n",
       "      <th>business_id</th>\n",
       "      <th>categories</th>\n",
       "      <th>city</th>\n",
       "      <th>hours</th>\n",
       "      <th>is_open</th>\n",
       "      <th>latitude</th>\n",
       "      <th>longitude</th>\n",
       "      <th>name</th>\n",
       "      <th>neighborhood</th>\n",
       "      <th>postal_code</th>\n",
       "      <th>review_count</th>\n",
       "      <th>stars</th>\n",
       "      <th>state</th>\n",
       "      <th>type</th>\n",
       "    </tr>\n",
       "  </thead>\n",
       "  <tbody>\n",
       "    <tr>\n",
       "      <th>0</th>\n",
       "      <td>4811 S Rainbow Blvd</td>\n",
       "      <td>[Alcohol: full_bar, BusinessAcceptsCreditCards...</td>\n",
       "      <td>saWZO6hB4B8P-mIzS1--Xw</td>\n",
       "      <td>[Persian/Iranian, Restaurants, Ethnic Food, Fo...</td>\n",
       "      <td>Las Vegas</td>\n",
       "      <td>None</td>\n",
       "      <td>0</td>\n",
       "      <td>36.101020</td>\n",
       "      <td>-115.244312</td>\n",
       "      <td>Kabob Palace</td>\n",
       "      <td>Spring Valley</td>\n",
       "      <td>89103</td>\n",
       "      <td>15</td>\n",
       "      <td>2.5</td>\n",
       "      <td>NV</td>\n",
       "      <td>business</td>\n",
       "    </tr>\n",
       "    <tr>\n",
       "      <th>1</th>\n",
       "      <td>4972 S Maryland Pkwy, Ste 22</td>\n",
       "      <td>[Alcohol: none, Ambience: {'romantic': False, ...</td>\n",
       "      <td>hMh9XOwNQcu31NAOCqhAEw</td>\n",
       "      <td>[Restaurants, Vegetarian, Indian]</td>\n",
       "      <td>Las Vegas</td>\n",
       "      <td>None</td>\n",
       "      <td>1</td>\n",
       "      <td>36.099142</td>\n",
       "      <td>-115.136192</td>\n",
       "      <td>Taste of India</td>\n",
       "      <td>Southeast</td>\n",
       "      <td>89119</td>\n",
       "      <td>33</td>\n",
       "      <td>3.5</td>\n",
       "      <td>NV</td>\n",
       "      <td>business</td>\n",
       "    </tr>\n",
       "    <tr>\n",
       "      <th>2</th>\n",
       "      <td>2053 Pama Ln</td>\n",
       "      <td>[Ambience: {'romantic': False, 'intimate': Fal...</td>\n",
       "      <td>pmJqSsCfgbo3TxPWpQNLIw</td>\n",
       "      <td>[American (New), Cafes, Restaurants]</td>\n",
       "      <td>Las Vegas</td>\n",
       "      <td>[Wednesday 10:0-14:0, Thursday 10:0-14:0, Frid...</td>\n",
       "      <td>0</td>\n",
       "      <td>36.065839</td>\n",
       "      <td>-115.123944</td>\n",
       "      <td>Artisanal Foods Cafe</td>\n",
       "      <td>Southeast</td>\n",
       "      <td>89119</td>\n",
       "      <td>35</td>\n",
       "      <td>4.5</td>\n",
       "      <td>NV</td>\n",
       "      <td>business</td>\n",
       "    </tr>\n",
       "  </tbody>\n",
       "</table>\n",
       "</div>"
      ],
      "text/plain": [
       "                        address  \\\n",
       "0           4811 S Rainbow Blvd   \n",
       "1  4972 S Maryland Pkwy, Ste 22   \n",
       "2                  2053 Pama Ln   \n",
       "\n",
       "                                          attributes             business_id  \\\n",
       "0  [Alcohol: full_bar, BusinessAcceptsCreditCards...  saWZO6hB4B8P-mIzS1--Xw   \n",
       "1  [Alcohol: none, Ambience: {'romantic': False, ...  hMh9XOwNQcu31NAOCqhAEw   \n",
       "2  [Ambience: {'romantic': False, 'intimate': Fal...  pmJqSsCfgbo3TxPWpQNLIw   \n",
       "\n",
       "                                          categories       city  \\\n",
       "0  [Persian/Iranian, Restaurants, Ethnic Food, Fo...  Las Vegas   \n",
       "1                  [Restaurants, Vegetarian, Indian]  Las Vegas   \n",
       "2               [American (New), Cafes, Restaurants]  Las Vegas   \n",
       "\n",
       "                                               hours  is_open   latitude  \\\n",
       "0                                               None        0  36.101020   \n",
       "1                                               None        1  36.099142   \n",
       "2  [Wednesday 10:0-14:0, Thursday 10:0-14:0, Frid...        0  36.065839   \n",
       "\n",
       "    longitude                  name   neighborhood postal_code  review_count  \\\n",
       "0 -115.244312          Kabob Palace  Spring Valley       89103            15   \n",
       "1 -115.136192        Taste of India      Southeast       89119            33   \n",
       "2 -115.123944  Artisanal Foods Cafe      Southeast       89119            35   \n",
       "\n",
       "   stars state      type  \n",
       "0    2.5    NV  business  \n",
       "1    3.5    NV  business  \n",
       "2    4.5    NV  business  "
      ]
     },
     "execution_count": 18,
     "metadata": {},
     "output_type": "execute_result"
    }
   ],
   "source": [
    "df_business_filter.head(3)"
   ]
  },
  {
   "cell_type": "markdown",
   "metadata": {},
   "source": [
    "#### Keep relevant columns\n",
    "\n",
    "* only keep some useful columns\n",
    "    * business_id\n",
    "    * name\n",
    "    * categories\n",
    "    * stars"
   ]
  },
  {
   "cell_type": "code",
   "execution_count": 19,
   "metadata": {
    "collapsed": true
   },
   "outputs": [],
   "source": [
    "selected_features = [u'business_id', u'name', u'categories', u'stars']"
   ]
  },
  {
   "cell_type": "code",
   "execution_count": 20,
   "metadata": {
    "collapsed": true
   },
   "outputs": [],
   "source": [
    "# Make a DataFrame that contains only the abovementioned columns, and name it as df_selected_business\n",
    "df_selected_business = df_business_filter[selected_features]"
   ]
  },
  {
   "cell_type": "code",
   "execution_count": 21,
   "metadata": {
    "collapsed": false,
    "scrolled": true
   },
   "outputs": [
    {
     "name": "stderr",
     "output_type": "stream",
     "text": [
      "G:\\Anaconda2\\lib\\site-packages\\pandas\\core\\frame.py:2746: SettingWithCopyWarning: \n",
      "A value is trying to be set on a copy of a slice from a DataFrame\n",
      "\n",
      "See the caveats in the documentation: http://pandas.pydata.org/pandas-docs/stable/indexing.html#indexing-view-versus-copy\n",
      "  **kwargs)\n"
     ]
    }
   ],
   "source": [
    "# Rename the column name \"stars\" to \"bus_stars\" to avoid naming conflicts with review dataset\n",
    "df_selected_business.rename(columns = {\"stars\":\"bus_stars\"}, inplace = True)"
   ]
  },
  {
   "cell_type": "code",
   "execution_count": 22,
   "metadata": {
    "collapsed": false
   },
   "outputs": [
    {
     "data": {
      "text/plain": [
       "Index([u'business_id', u'name', u'categories', u'bus_stars'], dtype='object')"
      ]
     },
     "execution_count": 22,
     "metadata": {},
     "output_type": "execute_result"
    }
   ],
   "source": [
    "# Inspect your DataFrame\n",
    "df_selected_business.columns"
   ]
  },
  {
   "cell_type": "code",
   "execution_count": 23,
   "metadata": {
    "collapsed": false
   },
   "outputs": [
    {
     "name": "stdout",
     "output_type": "stream",
     "text": [
      "<class 'pandas.core.frame.DataFrame'>\n",
      "RangeIndex: 5431 entries, 0 to 5430\n",
      "Data columns (total 4 columns):\n",
      "business_id    5431 non-null object\n",
      "name           5431 non-null object\n",
      "categories     5431 non-null object\n",
      "bus_stars      5431 non-null float64\n",
      "dtypes: float64(1), object(3)\n",
      "memory usage: 169.8+ KB\n"
     ]
    }
   ],
   "source": [
    "df_selected_business.info()"
   ]
  },
  {
   "cell_type": "markdown",
   "metadata": {},
   "source": [
    "#### Save results to csv files"
   ]
  },
  {
   "cell_type": "code",
   "execution_count": 24,
   "metadata": {
    "collapsed": false
   },
   "outputs": [],
   "source": [
    "# Save to ./data/selected_business.csv for your next task\n",
    "df_selected_business.to_csv(\"data/selected_business.csv\", index = False, encoding = 'utf-8')"
   ]
  },
  {
   "cell_type": "code",
   "execution_count": 25,
   "metadata": {
    "collapsed": false,
    "scrolled": true
   },
   "outputs": [],
   "source": [
    "# Try reload the csv file to check if everything works fine\n",
    "# df_selected_business = pd.read_csv(\"data/selected_business.csv\")"
   ]
  },
  {
   "cell_type": "markdown",
   "metadata": {},
   "source": [
    "### Use the \"business_id\" column to filter review data\n",
    "\n",
    "* We want to make a DataFrame that contain and only contain the reviews about the business entities we just obtained"
   ]
  },
  {
   "cell_type": "markdown",
   "metadata": {},
   "source": [
    "#### Prepare dataframes to be joined, - on business_id"
   ]
  },
  {
   "cell_type": "code",
   "execution_count": 26,
   "metadata": {
    "collapsed": true
   },
   "outputs": [],
   "source": [
    "# Prepare the business dataframe and set index to column \"business_id\", and name it as df_left\n",
    "df_left = df_selected_business.set_index(\"business_id\")"
   ]
  },
  {
   "cell_type": "code",
   "execution_count": 29,
   "metadata": {
    "collapsed": true
   },
   "outputs": [],
   "source": [
    "# Prepare the review dataframe and set index to column \"business_id\", and name it as df_right\n",
    "df_right = df_review.set_index(\"business_id\")"
   ]
  },
  {
   "cell_type": "markdown",
   "metadata": {},
   "source": [
    "#### Join! and reset index"
   ]
  },
  {
   "cell_type": "code",
   "execution_count": 30,
   "metadata": {
    "collapsed": false
   },
   "outputs": [],
   "source": [
    "# Join df_left and df_right. What type of join?\n",
    "bus_join_rev_df = df_left.join(df_right, how = 'inner')"
   ]
  },
  {
   "cell_type": "code",
   "execution_count": 31,
   "metadata": {
    "collapsed": false
   },
   "outputs": [
    {
     "data": {
      "text/html": [
       "<div>\n",
       "<style>\n",
       "    .dataframe thead tr:only-child th {\n",
       "        text-align: right;\n",
       "    }\n",
       "\n",
       "    .dataframe thead th {\n",
       "        text-align: left;\n",
       "    }\n",
       "\n",
       "    .dataframe tbody tr th {\n",
       "        vertical-align: top;\n",
       "    }\n",
       "</style>\n",
       "<table border=\"1\" class=\"dataframe\">\n",
       "  <thead>\n",
       "    <tr style=\"text-align: right;\">\n",
       "      <th></th>\n",
       "      <th>name</th>\n",
       "      <th>categories</th>\n",
       "      <th>bus_stars</th>\n",
       "      <th>funny</th>\n",
       "      <th>user_id</th>\n",
       "      <th>review_id</th>\n",
       "      <th>text</th>\n",
       "      <th>stars</th>\n",
       "      <th>date</th>\n",
       "      <th>useful</th>\n",
       "      <th>type</th>\n",
       "      <th>cool</th>\n",
       "    </tr>\n",
       "    <tr>\n",
       "      <th>business_id</th>\n",
       "      <th></th>\n",
       "      <th></th>\n",
       "      <th></th>\n",
       "      <th></th>\n",
       "      <th></th>\n",
       "      <th></th>\n",
       "      <th></th>\n",
       "      <th></th>\n",
       "      <th></th>\n",
       "      <th></th>\n",
       "      <th></th>\n",
       "      <th></th>\n",
       "    </tr>\n",
       "  </thead>\n",
       "  <tbody>\n",
       "    <tr>\n",
       "      <th>--9e1ONYQuAa-CB_Rrw7Tw</th>\n",
       "      <td>Delmonico Steakhouse</td>\n",
       "      <td>[Steakhouses, Restaurants, Cajun/Creole]</td>\n",
       "      <td>4.0</td>\n",
       "      <td>0</td>\n",
       "      <td>0XVzm4kVIAaH4eQAxWbhvw</td>\n",
       "      <td>nCqdz-NW64KazpxqnDr0sQ</td>\n",
       "      <td>I mainly went for the ceasar salad prepared ta...</td>\n",
       "      <td>1</td>\n",
       "      <td>2015-06-26</td>\n",
       "      <td>0</td>\n",
       "      <td>review</td>\n",
       "      <td>0</td>\n",
       "    </tr>\n",
       "    <tr>\n",
       "      <th>--9e1ONYQuAa-CB_Rrw7Tw</th>\n",
       "      <td>Delmonico Steakhouse</td>\n",
       "      <td>[Steakhouses, Restaurants, Cajun/Creole]</td>\n",
       "      <td>4.0</td>\n",
       "      <td>1</td>\n",
       "      <td>5aFBj0emFzoXsUcKbDQZiA</td>\n",
       "      <td>pa4MASGD-2EFoR_rGDZILw</td>\n",
       "      <td>\"WOW!!!\" that's what she said... literally! lo...</td>\n",
       "      <td>5</td>\n",
       "      <td>2010-03-25</td>\n",
       "      <td>1</td>\n",
       "      <td>review</td>\n",
       "      <td>1</td>\n",
       "    </tr>\n",
       "  </tbody>\n",
       "</table>\n",
       "</div>"
      ],
      "text/plain": [
       "                                        name  \\\n",
       "business_id                                    \n",
       "--9e1ONYQuAa-CB_Rrw7Tw  Delmonico Steakhouse   \n",
       "--9e1ONYQuAa-CB_Rrw7Tw  Delmonico Steakhouse   \n",
       "\n",
       "                                                      categories  bus_stars  \\\n",
       "business_id                                                                   \n",
       "--9e1ONYQuAa-CB_Rrw7Tw  [Steakhouses, Restaurants, Cajun/Creole]        4.0   \n",
       "--9e1ONYQuAa-CB_Rrw7Tw  [Steakhouses, Restaurants, Cajun/Creole]        4.0   \n",
       "\n",
       "                        funny                 user_id               review_id  \\\n",
       "business_id                                                                     \n",
       "--9e1ONYQuAa-CB_Rrw7Tw      0  0XVzm4kVIAaH4eQAxWbhvw  nCqdz-NW64KazpxqnDr0sQ   \n",
       "--9e1ONYQuAa-CB_Rrw7Tw      1  5aFBj0emFzoXsUcKbDQZiA  pa4MASGD-2EFoR_rGDZILw   \n",
       "\n",
       "                                                                     text  \\\n",
       "business_id                                                                 \n",
       "--9e1ONYQuAa-CB_Rrw7Tw  I mainly went for the ceasar salad prepared ta...   \n",
       "--9e1ONYQuAa-CB_Rrw7Tw  \"WOW!!!\" that's what she said... literally! lo...   \n",
       "\n",
       "                        stars        date  useful    type  cool  \n",
       "business_id                                                      \n",
       "--9e1ONYQuAa-CB_Rrw7Tw      1  2015-06-26       0  review     0  \n",
       "--9e1ONYQuAa-CB_Rrw7Tw      5  2010-03-25       1  review     1  "
      ]
     },
     "execution_count": 31,
     "metadata": {},
     "output_type": "execute_result"
    }
   ],
   "source": [
    "bus_join_rev_df.head(2)"
   ]
  },
  {
   "cell_type": "code",
   "execution_count": 33,
   "metadata": {
    "collapsed": false
   },
   "outputs": [],
   "source": [
    "# reset the index \n",
    "bus_join_rev_df.reset_index(inplace = True)"
   ]
  },
  {
   "cell_type": "markdown",
   "metadata": {},
   "source": [
    "#### We further filter data by date, e.g. keep comments from last 2 years"
   ]
  },
  {
   "cell_type": "code",
   "execution_count": 34,
   "metadata": {
    "collapsed": false,
    "scrolled": true
   },
   "outputs": [],
   "source": [
    "# Make a filter that selects date after 2015-01-20\n",
    "df_final = bus_join_rev_df[(bus_join_rev_df.date > u'2015-01-20')]"
   ]
  },
  {
   "cell_type": "code",
   "execution_count": 36,
   "metadata": {
    "collapsed": false
   },
   "outputs": [],
   "source": [
    "df_final.reset_index(inplace = True, drop = True)"
   ]
  },
  {
   "cell_type": "markdown",
   "metadata": {},
   "source": [
    "#### Take a glance at the final dataset"
   ]
  },
  {
   "cell_type": "code",
   "execution_count": 38,
   "metadata": {
    "collapsed": false
   },
   "outputs": [
    {
     "name": "stdout",
     "output_type": "stream",
     "text": [
      "<class 'pandas.core.frame.DataFrame'>\n",
      "RangeIndex: 347619 entries, 0 to 347618\n",
      "Data columns (total 13 columns):\n",
      "business_id    347619 non-null object\n",
      "name           347619 non-null object\n",
      "categories     347619 non-null object\n",
      "bus_stars      347619 non-null float64\n",
      "funny          347619 non-null int64\n",
      "user_id        347619 non-null object\n",
      "review_id      347619 non-null object\n",
      "text           347619 non-null object\n",
      "stars          347619 non-null int64\n",
      "date           347619 non-null object\n",
      "useful         347619 non-null int64\n",
      "type           347619 non-null object\n",
      "cool           347619 non-null int64\n",
      "dtypes: float64(1), int64(4), object(8)\n",
      "memory usage: 34.5+ MB\n"
     ]
    }
   ],
   "source": [
    "df_final.info()"
   ]
  },
  {
   "cell_type": "code",
   "execution_count": 37,
   "metadata": {
    "collapsed": true
   },
   "outputs": [],
   "source": [
    "import matplotlib.pyplot as plt\n",
    "\n",
    "% matplotlib inline"
   ]
  },
  {
   "cell_type": "code",
   "execution_count": 46,
   "metadata": {
    "collapsed": false,
    "scrolled": true
   },
   "outputs": [],
   "source": [
    "group = bus_join_rev_df.groupby(\"business_id\").agg({\"user_id\": \"count\", \n",
    "                                            \"bus_stars\": \"mean\", \n",
    "                                            \"stars\": \"mean\"})"
   ]
  },
  {
   "cell_type": "code",
   "execution_count": 53,
   "metadata": {
    "collapsed": false
   },
   "outputs": [
    {
     "data": {
      "text/plain": [
       "Index([u'user_id', u'bus_stars', u'stars'], dtype='object')"
      ]
     },
     "execution_count": 53,
     "metadata": {},
     "output_type": "execute_result"
    }
   ],
   "source": [
    "group.columns"
   ]
  },
  {
   "cell_type": "code",
   "execution_count": 68,
   "metadata": {
    "collapsed": false,
    "scrolled": true
   },
   "outputs": [
    {
     "data": {
      "text/html": [
       "<div>\n",
       "<style>\n",
       "    .dataframe thead tr:only-child th {\n",
       "        text-align: right;\n",
       "    }\n",
       "\n",
       "    .dataframe thead th {\n",
       "        text-align: left;\n",
       "    }\n",
       "\n",
       "    .dataframe tbody tr th {\n",
       "        vertical-align: top;\n",
       "    }\n",
       "</style>\n",
       "<table border=\"1\" class=\"dataframe\">\n",
       "  <thead>\n",
       "    <tr style=\"text-align: right;\">\n",
       "      <th></th>\n",
       "      <th>user_id</th>\n",
       "      <th>bus_stars</th>\n",
       "      <th>stars</th>\n",
       "    </tr>\n",
       "    <tr>\n",
       "      <th>business_id</th>\n",
       "      <th></th>\n",
       "      <th></th>\n",
       "      <th></th>\n",
       "    </tr>\n",
       "  </thead>\n",
       "  <tbody>\n",
       "    <tr>\n",
       "      <th>4JNXUYY8wbaaDmk3BPzlWw</th>\n",
       "      <td>6414</td>\n",
       "      <td>4.0</td>\n",
       "      <td>4.113969</td>\n",
       "    </tr>\n",
       "    <tr>\n",
       "      <th>RESDUcs7fIiihp38-d6_6g</th>\n",
       "      <td>5715</td>\n",
       "      <td>4.0</td>\n",
       "      <td>3.788451</td>\n",
       "    </tr>\n",
       "    <tr>\n",
       "      <th>K7lWdNUhCbcnEvI0NhGewg</th>\n",
       "      <td>5216</td>\n",
       "      <td>3.5</td>\n",
       "      <td>3.716449</td>\n",
       "    </tr>\n",
       "    <tr>\n",
       "      <th>cYwJA2A6I12KNkm2rtXd5g</th>\n",
       "      <td>5116</td>\n",
       "      <td>4.0</td>\n",
       "      <td>3.878812</td>\n",
       "    </tr>\n",
       "    <tr>\n",
       "      <th>DkYS3arLOhA8si5uUEmHOw</th>\n",
       "      <td>4655</td>\n",
       "      <td>4.5</td>\n",
       "      <td>4.266810</td>\n",
       "    </tr>\n",
       "    <tr>\n",
       "      <th>hihud--QRriCYZw1zZvW4g</th>\n",
       "      <td>4120</td>\n",
       "      <td>4.5</td>\n",
       "      <td>4.671602</td>\n",
       "    </tr>\n",
       "    <tr>\n",
       "      <th>eoHdUeQDNgQ6WYEnP2aiRw</th>\n",
       "      <td>3911</td>\n",
       "      <td>3.0</td>\n",
       "      <td>3.050626</td>\n",
       "    </tr>\n",
       "    <tr>\n",
       "      <th>f4x1YBxkLrZg652xt2KR5g</th>\n",
       "      <td>3881</td>\n",
       "      <td>4.0</td>\n",
       "      <td>3.880186</td>\n",
       "    </tr>\n",
       "    <tr>\n",
       "      <th>2weQS-RnoOBhb1KsHKyoSQ</th>\n",
       "      <td>3676</td>\n",
       "      <td>3.5</td>\n",
       "      <td>3.641186</td>\n",
       "    </tr>\n",
       "    <tr>\n",
       "      <th>ujHiaprwCQ5ewziu0Vi9rw</th>\n",
       "      <td>3482</td>\n",
       "      <td>3.5</td>\n",
       "      <td>3.463240</td>\n",
       "    </tr>\n",
       "    <tr>\n",
       "      <th>KskYqH1Bi7Z_61pH6Om8pg</th>\n",
       "      <td>3458</td>\n",
       "      <td>4.0</td>\n",
       "      <td>4.222961</td>\n",
       "    </tr>\n",
       "    <tr>\n",
       "      <th>rcaPajgKOJC2vo_l3xa42A</th>\n",
       "      <td>3292</td>\n",
       "      <td>4.0</td>\n",
       "      <td>3.975091</td>\n",
       "    </tr>\n",
       "    <tr>\n",
       "      <th>iCQpiavjjPzJ5_3gPD5Ebg</th>\n",
       "      <td>3258</td>\n",
       "      <td>4.0</td>\n",
       "      <td>4.123696</td>\n",
       "    </tr>\n",
       "    <tr>\n",
       "      <th>El4FC8jcawUVgw_0EIcbaQ</th>\n",
       "      <td>3016</td>\n",
       "      <td>3.0</td>\n",
       "      <td>3.053382</td>\n",
       "    </tr>\n",
       "    <tr>\n",
       "      <th>g8OnV26ywJlZpezdBnOWUQ</th>\n",
       "      <td>2835</td>\n",
       "      <td>4.0</td>\n",
       "      <td>3.789418</td>\n",
       "    </tr>\n",
       "    <tr>\n",
       "      <th>XZbuPXdyA0ZtTu3AzqtQhg</th>\n",
       "      <td>2771</td>\n",
       "      <td>4.0</td>\n",
       "      <td>3.988091</td>\n",
       "    </tr>\n",
       "    <tr>\n",
       "      <th>7sPNbCx7vGAaH7SbNPZ6oA</th>\n",
       "      <td>2735</td>\n",
       "      <td>4.0</td>\n",
       "      <td>4.065814</td>\n",
       "    </tr>\n",
       "    <tr>\n",
       "      <th>OETh78qcgDltvHULowwhJg</th>\n",
       "      <td>2700</td>\n",
       "      <td>4.0</td>\n",
       "      <td>4.024815</td>\n",
       "    </tr>\n",
       "    <tr>\n",
       "      <th>P7pxQFqr7yBKMMI2J51udw</th>\n",
       "      <td>2474</td>\n",
       "      <td>4.0</td>\n",
       "      <td>3.850849</td>\n",
       "    </tr>\n",
       "    <tr>\n",
       "      <th>JDZ6_yycNQFTpUZzLIKHUg</th>\n",
       "      <td>2316</td>\n",
       "      <td>4.5</td>\n",
       "      <td>4.533679</td>\n",
       "    </tr>\n",
       "    <tr>\n",
       "      <th>Cni2l-VKG_pdospJ6xliXQ</th>\n",
       "      <td>2313</td>\n",
       "      <td>4.0</td>\n",
       "      <td>3.842629</td>\n",
       "    </tr>\n",
       "    <tr>\n",
       "      <th>3kdSl5mo9dWC4clrQjEDGg</th>\n",
       "      <td>2303</td>\n",
       "      <td>4.5</td>\n",
       "      <td>4.465914</td>\n",
       "    </tr>\n",
       "    <tr>\n",
       "      <th>XXW_OFaYQkkGOGniujZFHg</th>\n",
       "      <td>2260</td>\n",
       "      <td>4.0</td>\n",
       "      <td>3.939823</td>\n",
       "    </tr>\n",
       "    <tr>\n",
       "      <th>yfxDa8RFOvJPQh0rNtakHA</th>\n",
       "      <td>2247</td>\n",
       "      <td>3.5</td>\n",
       "      <td>3.382733</td>\n",
       "    </tr>\n",
       "    <tr>\n",
       "      <th>NvKNe9DnQavC9GstglcBJQ</th>\n",
       "      <td>2218</td>\n",
       "      <td>4.0</td>\n",
       "      <td>3.878720</td>\n",
       "    </tr>\n",
       "    <tr>\n",
       "      <th>YJ8ljUhLsz6CtT_2ORNFmg</th>\n",
       "      <td>2111</td>\n",
       "      <td>3.5</td>\n",
       "      <td>3.269067</td>\n",
       "    </tr>\n",
       "    <tr>\n",
       "      <th>QJatAcxYgK1Zp9BRZMAx7g</th>\n",
       "      <td>2091</td>\n",
       "      <td>4.0</td>\n",
       "      <td>3.919177</td>\n",
       "    </tr>\n",
       "    <tr>\n",
       "      <th>HhVmDybpU7L50Kb5A0jXTg</th>\n",
       "      <td>2067</td>\n",
       "      <td>3.5</td>\n",
       "      <td>3.479923</td>\n",
       "    </tr>\n",
       "    <tr>\n",
       "      <th>ECOkEVUodMLUxvI0PMI4gQ</th>\n",
       "      <td>2056</td>\n",
       "      <td>3.0</td>\n",
       "      <td>3.103599</td>\n",
       "    </tr>\n",
       "    <tr>\n",
       "      <th>fL-b760btOaGa85OJ9ut3w</th>\n",
       "      <td>1996</td>\n",
       "      <td>4.5</td>\n",
       "      <td>4.420341</td>\n",
       "    </tr>\n",
       "    <tr>\n",
       "      <th>...</th>\n",
       "      <td>...</td>\n",
       "      <td>...</td>\n",
       "      <td>...</td>\n",
       "    </tr>\n",
       "    <tr>\n",
       "      <th>3Fr9RZ8Hfz1iWk51C2RMWg</th>\n",
       "      <td>3</td>\n",
       "      <td>2.0</td>\n",
       "      <td>2.000000</td>\n",
       "    </tr>\n",
       "    <tr>\n",
       "      <th>4srfPk1s8nlm1YusyDUbjg</th>\n",
       "      <td>3</td>\n",
       "      <td>2.0</td>\n",
       "      <td>2.000000</td>\n",
       "    </tr>\n",
       "    <tr>\n",
       "      <th>BIwjYT9nqbkF7kbzne-tmQ</th>\n",
       "      <td>3</td>\n",
       "      <td>2.0</td>\n",
       "      <td>2.000000</td>\n",
       "    </tr>\n",
       "    <tr>\n",
       "      <th>CcMi0EM4KFqa_4hVe1oN3g</th>\n",
       "      <td>3</td>\n",
       "      <td>2.0</td>\n",
       "      <td>2.000000</td>\n",
       "    </tr>\n",
       "    <tr>\n",
       "      <th>H99aadKfIQ3RZ6joDn7FuQ</th>\n",
       "      <td>3</td>\n",
       "      <td>2.0</td>\n",
       "      <td>2.000000</td>\n",
       "    </tr>\n",
       "    <tr>\n",
       "      <th>KPsu_1Q9XYRKWs_ZBTtlTg</th>\n",
       "      <td>3</td>\n",
       "      <td>2.0</td>\n",
       "      <td>2.000000</td>\n",
       "    </tr>\n",
       "    <tr>\n",
       "      <th>fZM-vnMe00UbFbbo03uSDQ</th>\n",
       "      <td>3</td>\n",
       "      <td>2.0</td>\n",
       "      <td>2.000000</td>\n",
       "    </tr>\n",
       "    <tr>\n",
       "      <th>kYtk8YSBtSuwXcvfoRMyoA</th>\n",
       "      <td>3</td>\n",
       "      <td>2.0</td>\n",
       "      <td>2.000000</td>\n",
       "    </tr>\n",
       "    <tr>\n",
       "      <th>ltELYeBXsbkQPlH16e-mOg</th>\n",
       "      <td>3</td>\n",
       "      <td>2.0</td>\n",
       "      <td>2.000000</td>\n",
       "    </tr>\n",
       "    <tr>\n",
       "      <th>ytYtMuk0URV6tk9m0zhDoA</th>\n",
       "      <td>3</td>\n",
       "      <td>2.0</td>\n",
       "      <td>2.000000</td>\n",
       "    </tr>\n",
       "    <tr>\n",
       "      <th>zcgArjObRzQRH6MaqTPDmQ</th>\n",
       "      <td>3</td>\n",
       "      <td>2.0</td>\n",
       "      <td>2.000000</td>\n",
       "    </tr>\n",
       "    <tr>\n",
       "      <th>zqQ9yqNh0EtCIXATGlBS0A</th>\n",
       "      <td>3</td>\n",
       "      <td>2.0</td>\n",
       "      <td>2.000000</td>\n",
       "    </tr>\n",
       "    <tr>\n",
       "      <th>8menaxER6kxM_Lyi5tBmSA</th>\n",
       "      <td>3</td>\n",
       "      <td>1.5</td>\n",
       "      <td>1.666667</td>\n",
       "    </tr>\n",
       "    <tr>\n",
       "      <th>NlpsCKu8FiGo2BvZSZdpFg</th>\n",
       "      <td>3</td>\n",
       "      <td>1.5</td>\n",
       "      <td>1.666667</td>\n",
       "    </tr>\n",
       "    <tr>\n",
       "      <th>QP2c6C_xk6nSiLgaVuq2hQ</th>\n",
       "      <td>3</td>\n",
       "      <td>1.5</td>\n",
       "      <td>1.666667</td>\n",
       "    </tr>\n",
       "    <tr>\n",
       "      <th>Ziqzfvpp2cpZAu0OwjiD5w</th>\n",
       "      <td>3</td>\n",
       "      <td>1.5</td>\n",
       "      <td>1.666667</td>\n",
       "    </tr>\n",
       "    <tr>\n",
       "      <th>_t7g5RusswFMlAe01aoj4Q</th>\n",
       "      <td>3</td>\n",
       "      <td>1.5</td>\n",
       "      <td>1.666667</td>\n",
       "    </tr>\n",
       "    <tr>\n",
       "      <th>arCvIfuSjFqqe7-wbo96nQ</th>\n",
       "      <td>3</td>\n",
       "      <td>1.5</td>\n",
       "      <td>1.666667</td>\n",
       "    </tr>\n",
       "    <tr>\n",
       "      <th>f_vIr9vzQv0USejCvcawcg</th>\n",
       "      <td>3</td>\n",
       "      <td>1.5</td>\n",
       "      <td>1.666667</td>\n",
       "    </tr>\n",
       "    <tr>\n",
       "      <th>u12EUBQJoPDtyPQyKa7zTw</th>\n",
       "      <td>3</td>\n",
       "      <td>1.5</td>\n",
       "      <td>1.666667</td>\n",
       "    </tr>\n",
       "    <tr>\n",
       "      <th>vJIuDBdu01vCA8y1fwR1OQ</th>\n",
       "      <td>3</td>\n",
       "      <td>1.5</td>\n",
       "      <td>1.666667</td>\n",
       "    </tr>\n",
       "    <tr>\n",
       "      <th>wRHGn5Hc6Oizlappi3SmMQ</th>\n",
       "      <td>3</td>\n",
       "      <td>1.5</td>\n",
       "      <td>1.666667</td>\n",
       "    </tr>\n",
       "    <tr>\n",
       "      <th>UN_48kF4j4jjHQXLbQhaZw</th>\n",
       "      <td>3</td>\n",
       "      <td>1.5</td>\n",
       "      <td>1.333333</td>\n",
       "    </tr>\n",
       "    <tr>\n",
       "      <th>YIUcqm086eWtNgZeB39_Ww</th>\n",
       "      <td>3</td>\n",
       "      <td>1.5</td>\n",
       "      <td>1.333333</td>\n",
       "    </tr>\n",
       "    <tr>\n",
       "      <th>o_PJyAnngdzxpC5WDyqtyA</th>\n",
       "      <td>3</td>\n",
       "      <td>1.5</td>\n",
       "      <td>1.333333</td>\n",
       "    </tr>\n",
       "    <tr>\n",
       "      <th>45IHzSJj49HJn32G3j6H_A</th>\n",
       "      <td>3</td>\n",
       "      <td>1.0</td>\n",
       "      <td>1.000000</td>\n",
       "    </tr>\n",
       "    <tr>\n",
       "      <th>M7ZuMAutAtvplANHiOz_ug</th>\n",
       "      <td>3</td>\n",
       "      <td>1.0</td>\n",
       "      <td>1.000000</td>\n",
       "    </tr>\n",
       "    <tr>\n",
       "      <th>W3h2jT0S-0986_B-ETFKmA</th>\n",
       "      <td>3</td>\n",
       "      <td>1.0</td>\n",
       "      <td>1.000000</td>\n",
       "    </tr>\n",
       "    <tr>\n",
       "      <th>i8K4qY1VA13eWRQ_zbmuTw</th>\n",
       "      <td>3</td>\n",
       "      <td>1.0</td>\n",
       "      <td>1.000000</td>\n",
       "    </tr>\n",
       "    <tr>\n",
       "      <th>l_eFv9Q9Q8RBLqfJJXi9ug</th>\n",
       "      <td>3</td>\n",
       "      <td>1.0</td>\n",
       "      <td>1.000000</td>\n",
       "    </tr>\n",
       "  </tbody>\n",
       "</table>\n",
       "<p>5431 rows × 3 columns</p>\n",
       "</div>"
      ],
      "text/plain": [
       "                        user_id  bus_stars     stars\n",
       "business_id                                         \n",
       "4JNXUYY8wbaaDmk3BPzlWw     6414        4.0  4.113969\n",
       "RESDUcs7fIiihp38-d6_6g     5715        4.0  3.788451\n",
       "K7lWdNUhCbcnEvI0NhGewg     5216        3.5  3.716449\n",
       "cYwJA2A6I12KNkm2rtXd5g     5116        4.0  3.878812\n",
       "DkYS3arLOhA8si5uUEmHOw     4655        4.5  4.266810\n",
       "hihud--QRriCYZw1zZvW4g     4120        4.5  4.671602\n",
       "eoHdUeQDNgQ6WYEnP2aiRw     3911        3.0  3.050626\n",
       "f4x1YBxkLrZg652xt2KR5g     3881        4.0  3.880186\n",
       "2weQS-RnoOBhb1KsHKyoSQ     3676        3.5  3.641186\n",
       "ujHiaprwCQ5ewziu0Vi9rw     3482        3.5  3.463240\n",
       "KskYqH1Bi7Z_61pH6Om8pg     3458        4.0  4.222961\n",
       "rcaPajgKOJC2vo_l3xa42A     3292        4.0  3.975091\n",
       "iCQpiavjjPzJ5_3gPD5Ebg     3258        4.0  4.123696\n",
       "El4FC8jcawUVgw_0EIcbaQ     3016        3.0  3.053382\n",
       "g8OnV26ywJlZpezdBnOWUQ     2835        4.0  3.789418\n",
       "XZbuPXdyA0ZtTu3AzqtQhg     2771        4.0  3.988091\n",
       "7sPNbCx7vGAaH7SbNPZ6oA     2735        4.0  4.065814\n",
       "OETh78qcgDltvHULowwhJg     2700        4.0  4.024815\n",
       "P7pxQFqr7yBKMMI2J51udw     2474        4.0  3.850849\n",
       "JDZ6_yycNQFTpUZzLIKHUg     2316        4.5  4.533679\n",
       "Cni2l-VKG_pdospJ6xliXQ     2313        4.0  3.842629\n",
       "3kdSl5mo9dWC4clrQjEDGg     2303        4.5  4.465914\n",
       "XXW_OFaYQkkGOGniujZFHg     2260        4.0  3.939823\n",
       "yfxDa8RFOvJPQh0rNtakHA     2247        3.5  3.382733\n",
       "NvKNe9DnQavC9GstglcBJQ     2218        4.0  3.878720\n",
       "YJ8ljUhLsz6CtT_2ORNFmg     2111        3.5  3.269067\n",
       "QJatAcxYgK1Zp9BRZMAx7g     2091        4.0  3.919177\n",
       "HhVmDybpU7L50Kb5A0jXTg     2067        3.5  3.479923\n",
       "ECOkEVUodMLUxvI0PMI4gQ     2056        3.0  3.103599\n",
       "fL-b760btOaGa85OJ9ut3w     1996        4.5  4.420341\n",
       "...                         ...        ...       ...\n",
       "3Fr9RZ8Hfz1iWk51C2RMWg        3        2.0  2.000000\n",
       "4srfPk1s8nlm1YusyDUbjg        3        2.0  2.000000\n",
       "BIwjYT9nqbkF7kbzne-tmQ        3        2.0  2.000000\n",
       "CcMi0EM4KFqa_4hVe1oN3g        3        2.0  2.000000\n",
       "H99aadKfIQ3RZ6joDn7FuQ        3        2.0  2.000000\n",
       "KPsu_1Q9XYRKWs_ZBTtlTg        3        2.0  2.000000\n",
       "fZM-vnMe00UbFbbo03uSDQ        3        2.0  2.000000\n",
       "kYtk8YSBtSuwXcvfoRMyoA        3        2.0  2.000000\n",
       "ltELYeBXsbkQPlH16e-mOg        3        2.0  2.000000\n",
       "ytYtMuk0URV6tk9m0zhDoA        3        2.0  2.000000\n",
       "zcgArjObRzQRH6MaqTPDmQ        3        2.0  2.000000\n",
       "zqQ9yqNh0EtCIXATGlBS0A        3        2.0  2.000000\n",
       "8menaxER6kxM_Lyi5tBmSA        3        1.5  1.666667\n",
       "NlpsCKu8FiGo2BvZSZdpFg        3        1.5  1.666667\n",
       "QP2c6C_xk6nSiLgaVuq2hQ        3        1.5  1.666667\n",
       "Ziqzfvpp2cpZAu0OwjiD5w        3        1.5  1.666667\n",
       "_t7g5RusswFMlAe01aoj4Q        3        1.5  1.666667\n",
       "arCvIfuSjFqqe7-wbo96nQ        3        1.5  1.666667\n",
       "f_vIr9vzQv0USejCvcawcg        3        1.5  1.666667\n",
       "u12EUBQJoPDtyPQyKa7zTw        3        1.5  1.666667\n",
       "vJIuDBdu01vCA8y1fwR1OQ        3        1.5  1.666667\n",
       "wRHGn5Hc6Oizlappi3SmMQ        3        1.5  1.666667\n",
       "UN_48kF4j4jjHQXLbQhaZw        3        1.5  1.333333\n",
       "YIUcqm086eWtNgZeB39_Ww        3        1.5  1.333333\n",
       "o_PJyAnngdzxpC5WDyqtyA        3        1.5  1.333333\n",
       "45IHzSJj49HJn32G3j6H_A        3        1.0  1.000000\n",
       "M7ZuMAutAtvplANHiOz_ug        3        1.0  1.000000\n",
       "W3h2jT0S-0986_B-ETFKmA        3        1.0  1.000000\n",
       "i8K4qY1VA13eWRQ_zbmuTw        3        1.0  1.000000\n",
       "l_eFv9Q9Q8RBLqfJJXi9ug        3        1.0  1.000000\n",
       "\n",
       "[5431 rows x 3 columns]"
      ]
     },
     "execution_count": 68,
     "metadata": {},
     "output_type": "execute_result"
    }
   ],
   "source": [
    "group.sort_values(by = ['user_id','stars','bus_stars'], ascending = [False,False,False])"
   ]
  },
  {
   "cell_type": "markdown",
   "metadata": {},
   "source": [
    "## Save your preprocessed dataset to csv file"
   ]
  },
  {
   "cell_type": "code",
   "execution_count": 69,
   "metadata": {
    "collapsed": true
   },
   "outputs": [],
   "source": [
    "# Save to ./data/last_2_years_restaurant_reviews.csv for your next task\n",
    "df_final.to_csv(\"data/last_2_years_restaurant_reviews.csv\", index = False, encoding = 'utf-8')"
   ]
  },
  {
   "cell_type": "code",
   "execution_count": null,
   "metadata": {
    "collapsed": true
   },
   "outputs": [],
   "source": []
  }
 ],
 "metadata": {
  "anaconda-cloud": {},
  "kernelspec": {
   "display_name": "Python 2",
   "language": "python",
   "name": "python2"
  },
  "language_info": {
   "codemirror_mode": {
    "name": "ipython",
    "version": 2
   },
   "file_extension": ".py",
   "mimetype": "text/x-python",
   "name": "python",
   "nbconvert_exporter": "python",
   "pygments_lexer": "ipython2",
   "version": "2.7.13"
  }
 },
 "nbformat": 4,
 "nbformat_minor": 1
}
