{
 "cells": [
  {
   "cell_type": "markdown",
   "metadata": {},
   "source": [
    "# Yelp Data Challenge - Restaurant Recommender"
   ]
  },
  {
   "cell_type": "code",
   "execution_count": 1,
   "metadata": {
    "collapsed": true
   },
   "outputs": [],
   "source": [
    "import pandas as pd\n",
    "import numpy as np\n",
    "import matplotlib.pyplot as plt\n",
    "% matplotlib inline\n",
    "plt.style.use(\"ggplot\")"
   ]
  },
  {
   "cell_type": "code",
   "execution_count": 2,
   "metadata": {
    "collapsed": true
   },
   "outputs": [],
   "source": [
    "df = pd.read_csv('data/last_2_years_restaurant_reviews.csv')"
   ]
  },
  {
   "cell_type": "code",
   "execution_count": 3,
   "metadata": {
    "collapsed": false,
    "scrolled": true
   },
   "outputs": [
    {
     "data": {
      "text/html": [
       "<div>\n",
       "<table border=\"1\" class=\"dataframe\">\n",
       "  <thead>\n",
       "    <tr style=\"text-align: right;\">\n",
       "      <th></th>\n",
       "      <th>funny</th>\n",
       "      <th>user_id</th>\n",
       "      <th>name</th>\n",
       "      <th>index</th>\n",
       "      <th>text</th>\n",
       "      <th>avg_stars</th>\n",
       "      <th>business_id</th>\n",
       "      <th>stars</th>\n",
       "      <th>date</th>\n",
       "      <th>useful</th>\n",
       "      <th>type</th>\n",
       "      <th>review_id</th>\n",
       "      <th>categories</th>\n",
       "      <th>cool</th>\n",
       "    </tr>\n",
       "  </thead>\n",
       "  <tbody>\n",
       "    <tr>\n",
       "      <th>0</th>\n",
       "      <td>0</td>\n",
       "      <td>0XVzm4kVIAaH4eQAxWbhvw</td>\n",
       "      <td>Delmonico Steakhouse</td>\n",
       "      <td>0</td>\n",
       "      <td>I mainly went for the ceasar salad prepared ta...</td>\n",
       "      <td>4.0</td>\n",
       "      <td>--9e1ONYQuAa-CB_Rrw7Tw</td>\n",
       "      <td>1</td>\n",
       "      <td>2015-06-26</td>\n",
       "      <td>0</td>\n",
       "      <td>review</td>\n",
       "      <td>nCqdz-NW64KazpxqnDr0sQ</td>\n",
       "      <td>[Steakhouses, Restaurants, Cajun/Creole]</td>\n",
       "      <td>0</td>\n",
       "    </tr>\n",
       "    <tr>\n",
       "      <th>1</th>\n",
       "      <td>0</td>\n",
       "      <td>2aeNFntqY2QDZLADNo8iQQ</td>\n",
       "      <td>Delmonico Steakhouse</td>\n",
       "      <td>4</td>\n",
       "      <td>Nice atmosphere and wonderful service. I had t...</td>\n",
       "      <td>4.0</td>\n",
       "      <td>--9e1ONYQuAa-CB_Rrw7Tw</td>\n",
       "      <td>4</td>\n",
       "      <td>2015-06-29</td>\n",
       "      <td>0</td>\n",
       "      <td>review</td>\n",
       "      <td>iwx6s6yQxc7yjS7NFANZig</td>\n",
       "      <td>[Steakhouses, Restaurants, Cajun/Creole]</td>\n",
       "      <td>0</td>\n",
       "    </tr>\n",
       "  </tbody>\n",
       "</table>\n",
       "</div>"
      ],
      "text/plain": [
       "   funny                 user_id                  name  index  \\\n",
       "0      0  0XVzm4kVIAaH4eQAxWbhvw  Delmonico Steakhouse      0   \n",
       "1      0  2aeNFntqY2QDZLADNo8iQQ  Delmonico Steakhouse      4   \n",
       "\n",
       "                                                text  avg_stars  \\\n",
       "0  I mainly went for the ceasar salad prepared ta...        4.0   \n",
       "1  Nice atmosphere and wonderful service. I had t...        4.0   \n",
       "\n",
       "              business_id  stars        date  useful    type  \\\n",
       "0  --9e1ONYQuAa-CB_Rrw7Tw      1  2015-06-26       0  review   \n",
       "1  --9e1ONYQuAa-CB_Rrw7Tw      4  2015-06-29       0  review   \n",
       "\n",
       "                review_id                                categories  cool  \n",
       "0  nCqdz-NW64KazpxqnDr0sQ  [Steakhouses, Restaurants, Cajun/Creole]     0  \n",
       "1  iwx6s6yQxc7yjS7NFANZig  [Steakhouses, Restaurants, Cajun/Creole]     0  "
      ]
     },
     "execution_count": 3,
     "metadata": {},
     "output_type": "execute_result"
    }
   ],
   "source": [
    "df.head(2)"
   ]
  },
  {
   "cell_type": "code",
   "execution_count": 4,
   "metadata": {
    "collapsed": false,
    "scrolled": true
   },
   "outputs": [
    {
     "name": "stdout",
     "output_type": "stream",
     "text": [
      "<class 'pandas.core.frame.DataFrame'>\n",
      "RangeIndex: 347619 entries, 0 to 347618\n",
      "Data columns (total 14 columns):\n",
      "funny          347619 non-null int64\n",
      "user_id        347619 non-null object\n",
      "name           347619 non-null object\n",
      "index          347619 non-null int64\n",
      "text           347619 non-null object\n",
      "avg_stars      347619 non-null float64\n",
      "business_id    347619 non-null object\n",
      "stars          347619 non-null int64\n",
      "date           347619 non-null object\n",
      "useful         347619 non-null int64\n",
      "type           347619 non-null object\n",
      "review_id      347619 non-null object\n",
      "categories     347619 non-null object\n",
      "cool           347619 non-null int64\n",
      "dtypes: float64(1), int64(5), object(8)\n",
      "memory usage: 37.1+ MB\n"
     ]
    }
   ],
   "source": [
    "df.info()"
   ]
  },
  {
   "cell_type": "markdown",
   "metadata": {},
   "source": [
    "## 1. Clean data and get rating data "
   ]
  },
  {
   "cell_type": "markdown",
   "metadata": {},
   "source": [
    "#### Select relevant columns in the original dataframe"
   ]
  },
  {
   "cell_type": "code",
   "execution_count": 5,
   "metadata": {
    "collapsed": false,
    "scrolled": true
   },
   "outputs": [],
   "source": [
    "# Get business_id, user_id, stars for recommender\n",
    "rating_df = df[[\"user_id\",\"business_id\", \"stars\"]]"
   ]
  },
  {
   "cell_type": "markdown",
   "metadata": {},
   "source": [
    "#### There are many users that haven't given many reviews, exclude these users from the item-item similarity recommender\n",
    "\n",
    "**Q**: How do we recommend to these users anyways? it's like cold start problem, we can use content-based, populairity recommendations"
   ]
  },
  {
   "cell_type": "code",
   "execution_count": 6,
   "metadata": {
    "collapsed": false,
    "scrolled": true
   },
   "outputs": [
    {
     "name": "stdout",
     "output_type": "stream",
     "text": [
      "user_id\n",
      "---1lKK3aKOuomHnwAkAow     4\n",
      "--0sXNBv6IizZXuV-nl0Aw     1\n",
      "--2bpE5vyR-2hAP7sZZ4lA     1\n",
      "--2vR0DIsmQ6WfcSzKWigw     2\n",
      "--3WaS23LcIXtxyFULJHTA     3\n",
      "--56mD0sm1eOogphi2FFLw     2\n",
      "--6u02ZqjZRnwtX3t9bZtQ     1\n",
      "--9yZb1OLNN18HyDXgZrJA     1\n",
      "--CIuK7sUpaNzalLAlHJKA     1\n",
      "--DxiDMQgN08E5gTM0aj7Q     1\n",
      "--EeOyjMPIklMo8fN2GdWQ     1\n",
      "--FL8jpOVyPYGpyRN007vg     1\n",
      "--IFH_sbTkfXxbXO4nSEyQ     1\n",
      "--J3HPoNe-IJ0xE10Z_sDg     1\n",
      "--KC9gVPd0pTqvlV4AwN6g     1\n",
      "--LUapetRSkZpFZ2d-MXLQ     8\n",
      "--MO0Mi5MlB9A-59HYcteA     1\n",
      "--PJ1FuEoTEo-3Cxf_izRg     2\n",
      "--QdTWzjRUHa_OkQw-ug8g     1\n",
      "--RlSfc-QmcHFGHyX6aVjA    10\n",
      "--VFHSTk6Hd3U6D1jYPXAw     1\n",
      "--W0Zo_aIlD-7JzfHI4IqQ     1\n",
      "--XroDUidjD1PcmgahDk2w     1\n",
      "--YMdHqsfs5ZJpAPtIuyKw     1\n",
      "--ZNfWKj1VyVElRx6-g1fg    10\n",
      "--_H9j6ggxvqhh9nPofZwg     1\n",
      "--df41HLpRbMhMuViA9pFA     1\n",
      "--fpTdHQOGWGbAjk9SUyeA     1\n",
      "--i0PK1aTXScdV2UkNDkSQ     1\n",
      "--kMhfqxhJ7sEDiRCSKO0A     1\n",
      "                          ..\n",
      "zzK4WWQhMbnuY77kG-45PA     1\n",
      "zzKQjelI5GDwrWqDmz_CIQ     1\n",
      "zzL4E_gdoSCtgNhW4BPY8w     1\n",
      "zzMJLd3cWBM6HT8eMbOGbA     9\n",
      "zzMirMopUwCs-kNr6Z8TLA     2\n",
      "zzN7pQyJB0nbNOXAVZ96EA     1\n",
      "zzNDm2chjIw0WAN21CRPWg     1\n",
      "zzNfaC_IYs0y6IHIDu7g_g     1\n",
      "zzOd64i66_Z5roGjXmwCXA     1\n",
      "zzPMQhJ8_ImffFr3vU-irg     1\n",
      "zzPebwK0-dhDo7eSZDRKJg     1\n",
      "zzQ_Q8jC2X5lpRb8dcpovw     2\n",
      "zzQaykmAnVqfjOxm_XlHhg     1\n",
      "zzRsxXA2tQNmWex66mdVhA     1\n",
      "zzUtFJbDv-oZsC293iJ0Qw     1\n",
      "zzWBpLt0O8gf3Llw-aa7ag     1\n",
      "zzWJHo-LJjhm4Q3N4S7WnA     1\n",
      "zzYF64kl9es4c16fv68OIQ     1\n",
      "zz_JmbEltGnJTocrW84xTw     1\n",
      "zzaq5Fn1U2Feut3dGxidNg     6\n",
      "zzbBAfbQxGTaHhyVVB4rZg     2\n",
      "zzchaUFyh1POp24Y5muYEQ     1\n",
      "zzhB7A-ZQfaJ8KJhAvf_rA     1\n",
      "zzj2TtQg8LIpz9hMK1gQEQ     1\n",
      "zzlt7bnzpb8Z2aqQ0q2Ikg     1\n",
      "zzmOO3R--Yo59kI5_6In8A     2\n",
      "zzqKFafizTSmzY6v2rzhcg     1\n",
      "zzrZ8gFESj5pe-SFZ-h0lw     1\n",
      "zzxZoMmjbUjXcWZzrE3PIw     1\n",
      "zzzhFxwfzL56CQVnw8piTw     1\n",
      "dtype: int64\n"
     ]
    }
   ],
   "source": [
    "# To be implemented\n",
    "num_user_rev = rating_df.groupby(by = \"user_id\").size()\n",
    "print num_user_rev"
   ]
  },
  {
   "cell_type": "code",
   "execution_count": 7,
   "metadata": {
    "collapsed": false
   },
   "outputs": [
    {
     "name": "stdout",
     "output_type": "stream",
     "text": [
      "1\n",
      "581\n",
      "1.0\n"
     ]
    }
   ],
   "source": [
    "print num_user_rev.min()\n",
    "print num_user_rev.max()\n",
    "print num_user_rev.median()"
   ]
  },
  {
   "cell_type": "code",
   "execution_count": 8,
   "metadata": {
    "collapsed": false,
    "scrolled": true
   },
   "outputs": [
    {
     "data": {
      "text/plain": [
       "1      104501\n",
       "2       25901\n",
       "3       11431\n",
       "4        5821\n",
       "5        3542\n",
       "6        2275\n",
       "7        1545\n",
       "8        1028\n",
       "9         843\n",
       "10        594\n",
       "11        460\n",
       "12        368\n",
       "13        291\n",
       "14        225\n",
       "15        197\n",
       "16        176\n",
       "18        157\n",
       "17        135\n",
       "19         95\n",
       "20         95\n",
       "21         72\n",
       "22         70\n",
       "23         69\n",
       "29         56\n",
       "25         53\n",
       "27         53\n",
       "24         52\n",
       "28         43\n",
       "30         34\n",
       "26         30\n",
       "        ...  \n",
       "100         1\n",
       "109         1\n",
       "102         1\n",
       "231         1\n",
       "104         1\n",
       "111         1\n",
       "113         1\n",
       "132         1\n",
       "114         1\n",
       "115         1\n",
       "119         1\n",
       "221         1\n",
       "121         1\n",
       "91          1\n",
       "77          1\n",
       "57          1\n",
       "63          1\n",
       "581         1\n",
       "72          1\n",
       "160         1\n",
       "158         1\n",
       "79          1\n",
       "215         1\n",
       "81          1\n",
       "153         1\n",
       "83          1\n",
       "84          1\n",
       "179         1\n",
       "148         1\n",
       "123         1\n",
       "dtype: int64"
      ]
     },
     "execution_count": 8,
     "metadata": {},
     "output_type": "execute_result"
    }
   ],
   "source": [
    "num_user_rev.value_counts()"
   ]
  },
  {
   "cell_type": "code",
   "execution_count": 9,
   "metadata": {
    "collapsed": false
   },
   "outputs": [],
   "source": [
    "# filtering out users with less than 20 reviews\n",
    "users = num_user_rev.index[(num_user_rev >= 20)]"
   ]
  },
  {
   "cell_type": "code",
   "execution_count": 10,
   "metadata": {
    "collapsed": true
   },
   "outputs": [],
   "source": [
    "fil_rating_df = rating_df[(rating_df.user_id.isin(users))]"
   ]
  },
  {
   "cell_type": "code",
   "execution_count": 11,
   "metadata": {
    "collapsed": false,
    "scrolled": true
   },
   "outputs": [
    {
     "data": {
      "text/plain": [
       "user_id\n",
       "-2gOxVWcnBr5DclrrsWXCA    33\n",
       "-4JDJeFS0YAYSiSvIshGLQ    24\n",
       "-50XWnmQGqBgEI-9ANvLlg    74\n",
       "-594af_E7Z9VVjQc9pJK3g    65\n",
       "-5ye1ya0wRQhNRF9NfQ1fA    22\n",
       "-C-l8EHSLXtZZVfUAUhsPA    20\n",
       "-EJorVxe7h2GSxdiRyMmDA    52\n",
       "-IM1qwYck6nqKizjCzR_ww    20\n",
       "-KeEr7ZLjbOskY6GGE54hQ    38\n",
       "-Ox7QPz0G56GOzT0ex-f5Q    22\n",
       "-PAOMIe7lqq1x5GB1pcKMg    26\n",
       "-SWRw9-1ARVKLAWE0Sxw1Q    38\n",
       "-YLiMJ0xeWxqny9O9YKzoA    22\n",
       "-YV1yESQXqR3vpIgBjKDsw    22\n",
       "-Z0uXJn_uP3U0h-e31sTKw    21\n",
       "-d1-LUHXVOw2t3bdJHg26Q    23\n",
       "-gSz76_bKNJsKM2adr12yw    38\n",
       "-gzqF2ucnXwHf64_k2Hoxg    22\n",
       "-hYYjAXSAa657rY0ANtTGQ    22\n",
       "-j-8EX-ebLXybLAdDQOGzw    22\n",
       "-ki-qIZHP4zZ2D49-b8ZzA    25\n",
       "-oA7Jp8N-3zKnNGRFb2-Yw    54\n",
       "-ouzfV5nm0Fmv3JRLXegmQ    54\n",
       "-uk4wYCSmjWz8vH9XkqroA    25\n",
       "-xDW3gYiYaoeVASXywTPgw    71\n",
       "048mif2uzPN800T90sAmyw    22\n",
       "0BoO48jZw2kjJjwgwIjbLw    39\n",
       "0FMte0z-repSVWSJ_BaQTg    28\n",
       "0H-zIyvxf94D11173f63xg    20\n",
       "0HuYmSeNfDwBJGHmTJa8rg    21\n",
       "                          ..\n",
       "yEmeRQb4WH6NN0IAaTX_lw    62\n",
       "yHbrIShhhHkkl20_KGP4OA    22\n",
       "yKAIxV3KCxBKK5ezsry_0Q    46\n",
       "yLCsv3QheMmnZJyKgDdSqg    42\n",
       "yNH3Z0MvqpjXq1NbFsDLFg    32\n",
       "yQiFb3kzronkldMDomOAWg    21\n",
       "yS1kK5EGcwatp6D6hFGvlw    28\n",
       "yTV3KHOm4-RQpClyYKGnkw    39\n",
       "yTzXs9MXiJ9Ec_VBsCmuTg    41\n",
       "yV5GOIgaB2U2ilb7kj1ybg    43\n",
       "y_IaE3HKJKEsw5Cg62D1RA    25\n",
       "yi_4YTVS6XL7s5atKPbmpA    21\n",
       "ykWNHp1RXcmx6PYH921UrQ    28\n",
       "ylCz0y57-aVG_Y9rGC6xTA    23\n",
       "yvqGJqrjeC0AwYs6Oecp0g    46\n",
       "ywEB0MB_2U11NIGPs35pew    46\n",
       "ywgGlGLRmvCIu6iCtJnODQ    29\n",
       "z4RytucxI_XfcMFaEI2DRg    27\n",
       "z7Z4yaqrM62_4U2JURPmGA    21\n",
       "z8cf4pcU1vX4z1NOUCNrzA    25\n",
       "z8wN6EQuw_JF-zTjcNgsLw    44\n",
       "zBL5ewvoVOjlM6WcnHvlxA    22\n",
       "zBdfduwvbKUy8tnDLAM9Xg    29\n",
       "zBi_JWB5uUdVuz3JLoAxGQ    26\n",
       "zFvW-hvtKJ7AAj_kZNXsBw    39\n",
       "zQTEbn5nWGPypxOf2uRPmg    47\n",
       "zfP7JESA_WfKvNQzYJDa7g    41\n",
       "zgFpxIm2_I86lhtHOdmjsQ    42\n",
       "zgV0ZroIF956gw4cul8MHA    42\n",
       "ziiMYejVJAjbkRjSeAzrbQ    47\n",
       "dtype: int64"
      ]
     },
     "execution_count": 11,
     "metadata": {},
     "output_type": "execute_result"
    }
   ],
   "source": [
    "fil_rating_df.groupby(by = 'user_id').size()"
   ]
  },
  {
   "cell_type": "code",
   "execution_count": 12,
   "metadata": {
    "collapsed": false
   },
   "outputs": [
    {
     "name": "stdout",
     "output_type": "stream",
     "text": [
      "(1118L,)\n",
      "(3514L,)\n"
     ]
    }
   ],
   "source": [
    "# that's gonna be the dimention of our rating matrix below\n",
    "print fil_rating_df.user_id.unique().shape\n",
    "print fil_rating_df.business_id.unique().shape"
   ]
  },
  {
   "cell_type": "markdown",
   "metadata": {},
   "source": [
    "#### Create utility matrix from records"
   ]
  },
  {
   "cell_type": "code",
   "execution_count": 13,
   "metadata": {
    "collapsed": true
   },
   "outputs": [],
   "source": [
    "# To be implemented\n",
    "ratings_matrix = pd.pivot_table(data = fil_rating_df, index = \"user_id\", columns = \"business_id\", values = \"stars\")"
   ]
  },
  {
   "cell_type": "code",
   "execution_count": 14,
   "metadata": {
    "collapsed": false,
    "scrolled": true
   },
   "outputs": [
    {
     "data": {
      "text/html": [
       "<div>\n",
       "<table border=\"1\" class=\"dataframe\">\n",
       "  <thead>\n",
       "    <tr style=\"text-align: right;\">\n",
       "      <th>business_id</th>\n",
       "      <th>--9e1ONYQuAa-CB_Rrw7Tw</th>\n",
       "      <th>-1vfRrlnNnNJ5boOVghMPA</th>\n",
       "      <th>-3zffZUHoY8bQjGfPSoBKQ</th>\n",
       "      <th>-8R_-EkGpUhBk55K9Dd4mg</th>\n",
       "      <th>-9YyInW1wapzdNZrhQJ9dg</th>\n",
       "      <th>-AD5PiuJHgdUcAK-Vxao2A</th>\n",
       "      <th>-BS4aZAQm9u41YnB9MUASA</th>\n",
       "      <th>-Bf8BQ3yMk8U2f45r2DRKw</th>\n",
       "      <th>-BmqghX1sv7sgsxOIS2yAg</th>\n",
       "      <th>-Bv-HHUs8aHzDrdWcZHn8w</th>\n",
       "      <th>...</th>\n",
       "      <th>zmltWmTpoBt5sCU-5Kzj-Q</th>\n",
       "      <th>znWHLW1pt19HzW1VY6KfCA</th>\n",
       "      <th>zp-K5s3pGTWuuaVBWo6WZA</th>\n",
       "      <th>zpoZ6WyQUYff18-z4ZU1mA</th>\n",
       "      <th>zrQ1zKWC-W2PCvwjBururQ</th>\n",
       "      <th>zsQk990PubOHjr1YcLkQFw</th>\n",
       "      <th>zsT04OrUZ25WILxbp1S3XQ</th>\n",
       "      <th>zt9RLUIU32fZYOBh2L0NNQ</th>\n",
       "      <th>zuwba6QEBIDZT0tJZmNhdQ</th>\n",
       "      <th>zwNC-Ow4eIMan2__bS9-rg</th>\n",
       "    </tr>\n",
       "    <tr>\n",
       "      <th>user_id</th>\n",
       "      <th></th>\n",
       "      <th></th>\n",
       "      <th></th>\n",
       "      <th></th>\n",
       "      <th></th>\n",
       "      <th></th>\n",
       "      <th></th>\n",
       "      <th></th>\n",
       "      <th></th>\n",
       "      <th></th>\n",
       "      <th></th>\n",
       "      <th></th>\n",
       "      <th></th>\n",
       "      <th></th>\n",
       "      <th></th>\n",
       "      <th></th>\n",
       "      <th></th>\n",
       "      <th></th>\n",
       "      <th></th>\n",
       "      <th></th>\n",
       "      <th></th>\n",
       "    </tr>\n",
       "  </thead>\n",
       "  <tbody>\n",
       "    <tr>\n",
       "      <th>-2gOxVWcnBr5DclrrsWXCA</th>\n",
       "      <td>NaN</td>\n",
       "      <td>NaN</td>\n",
       "      <td>NaN</td>\n",
       "      <td>NaN</td>\n",
       "      <td>NaN</td>\n",
       "      <td>NaN</td>\n",
       "      <td>NaN</td>\n",
       "      <td>NaN</td>\n",
       "      <td>NaN</td>\n",
       "      <td>NaN</td>\n",
       "      <td>...</td>\n",
       "      <td>NaN</td>\n",
       "      <td>NaN</td>\n",
       "      <td>NaN</td>\n",
       "      <td>NaN</td>\n",
       "      <td>NaN</td>\n",
       "      <td>NaN</td>\n",
       "      <td>NaN</td>\n",
       "      <td>NaN</td>\n",
       "      <td>NaN</td>\n",
       "      <td>NaN</td>\n",
       "    </tr>\n",
       "    <tr>\n",
       "      <th>-4JDJeFS0YAYSiSvIshGLQ</th>\n",
       "      <td>NaN</td>\n",
       "      <td>NaN</td>\n",
       "      <td>NaN</td>\n",
       "      <td>NaN</td>\n",
       "      <td>NaN</td>\n",
       "      <td>NaN</td>\n",
       "      <td>NaN</td>\n",
       "      <td>NaN</td>\n",
       "      <td>NaN</td>\n",
       "      <td>NaN</td>\n",
       "      <td>...</td>\n",
       "      <td>NaN</td>\n",
       "      <td>NaN</td>\n",
       "      <td>NaN</td>\n",
       "      <td>NaN</td>\n",
       "      <td>NaN</td>\n",
       "      <td>NaN</td>\n",
       "      <td>NaN</td>\n",
       "      <td>NaN</td>\n",
       "      <td>NaN</td>\n",
       "      <td>NaN</td>\n",
       "    </tr>\n",
       "    <tr>\n",
       "      <th>-50XWnmQGqBgEI-9ANvLlg</th>\n",
       "      <td>NaN</td>\n",
       "      <td>NaN</td>\n",
       "      <td>NaN</td>\n",
       "      <td>NaN</td>\n",
       "      <td>NaN</td>\n",
       "      <td>NaN</td>\n",
       "      <td>NaN</td>\n",
       "      <td>NaN</td>\n",
       "      <td>NaN</td>\n",
       "      <td>NaN</td>\n",
       "      <td>...</td>\n",
       "      <td>NaN</td>\n",
       "      <td>NaN</td>\n",
       "      <td>NaN</td>\n",
       "      <td>NaN</td>\n",
       "      <td>NaN</td>\n",
       "      <td>NaN</td>\n",
       "      <td>NaN</td>\n",
       "      <td>NaN</td>\n",
       "      <td>NaN</td>\n",
       "      <td>NaN</td>\n",
       "    </tr>\n",
       "  </tbody>\n",
       "</table>\n",
       "<p>3 rows × 3514 columns</p>\n",
       "</div>"
      ],
      "text/plain": [
       "business_id             --9e1ONYQuAa-CB_Rrw7Tw  -1vfRrlnNnNJ5boOVghMPA  \\\n",
       "user_id                                                                  \n",
       "-2gOxVWcnBr5DclrrsWXCA                     NaN                     NaN   \n",
       "-4JDJeFS0YAYSiSvIshGLQ                     NaN                     NaN   \n",
       "-50XWnmQGqBgEI-9ANvLlg                     NaN                     NaN   \n",
       "\n",
       "business_id             -3zffZUHoY8bQjGfPSoBKQ  -8R_-EkGpUhBk55K9Dd4mg  \\\n",
       "user_id                                                                  \n",
       "-2gOxVWcnBr5DclrrsWXCA                     NaN                     NaN   \n",
       "-4JDJeFS0YAYSiSvIshGLQ                     NaN                     NaN   \n",
       "-50XWnmQGqBgEI-9ANvLlg                     NaN                     NaN   \n",
       "\n",
       "business_id             -9YyInW1wapzdNZrhQJ9dg  -AD5PiuJHgdUcAK-Vxao2A  \\\n",
       "user_id                                                                  \n",
       "-2gOxVWcnBr5DclrrsWXCA                     NaN                     NaN   \n",
       "-4JDJeFS0YAYSiSvIshGLQ                     NaN                     NaN   \n",
       "-50XWnmQGqBgEI-9ANvLlg                     NaN                     NaN   \n",
       "\n",
       "business_id             -BS4aZAQm9u41YnB9MUASA  -Bf8BQ3yMk8U2f45r2DRKw  \\\n",
       "user_id                                                                  \n",
       "-2gOxVWcnBr5DclrrsWXCA                     NaN                     NaN   \n",
       "-4JDJeFS0YAYSiSvIshGLQ                     NaN                     NaN   \n",
       "-50XWnmQGqBgEI-9ANvLlg                     NaN                     NaN   \n",
       "\n",
       "business_id             -BmqghX1sv7sgsxOIS2yAg  -Bv-HHUs8aHzDrdWcZHn8w  \\\n",
       "user_id                                                                  \n",
       "-2gOxVWcnBr5DclrrsWXCA                     NaN                     NaN   \n",
       "-4JDJeFS0YAYSiSvIshGLQ                     NaN                     NaN   \n",
       "-50XWnmQGqBgEI-9ANvLlg                     NaN                     NaN   \n",
       "\n",
       "business_id                      ...            zmltWmTpoBt5sCU-5Kzj-Q  \\\n",
       "user_id                          ...                                     \n",
       "-2gOxVWcnBr5DclrrsWXCA           ...                               NaN   \n",
       "-4JDJeFS0YAYSiSvIshGLQ           ...                               NaN   \n",
       "-50XWnmQGqBgEI-9ANvLlg           ...                               NaN   \n",
       "\n",
       "business_id             znWHLW1pt19HzW1VY6KfCA  zp-K5s3pGTWuuaVBWo6WZA  \\\n",
       "user_id                                                                  \n",
       "-2gOxVWcnBr5DclrrsWXCA                     NaN                     NaN   \n",
       "-4JDJeFS0YAYSiSvIshGLQ                     NaN                     NaN   \n",
       "-50XWnmQGqBgEI-9ANvLlg                     NaN                     NaN   \n",
       "\n",
       "business_id             zpoZ6WyQUYff18-z4ZU1mA  zrQ1zKWC-W2PCvwjBururQ  \\\n",
       "user_id                                                                  \n",
       "-2gOxVWcnBr5DclrrsWXCA                     NaN                     NaN   \n",
       "-4JDJeFS0YAYSiSvIshGLQ                     NaN                     NaN   \n",
       "-50XWnmQGqBgEI-9ANvLlg                     NaN                     NaN   \n",
       "\n",
       "business_id             zsQk990PubOHjr1YcLkQFw  zsT04OrUZ25WILxbp1S3XQ  \\\n",
       "user_id                                                                  \n",
       "-2gOxVWcnBr5DclrrsWXCA                     NaN                     NaN   \n",
       "-4JDJeFS0YAYSiSvIshGLQ                     NaN                     NaN   \n",
       "-50XWnmQGqBgEI-9ANvLlg                     NaN                     NaN   \n",
       "\n",
       "business_id             zt9RLUIU32fZYOBh2L0NNQ  zuwba6QEBIDZT0tJZmNhdQ  \\\n",
       "user_id                                                                  \n",
       "-2gOxVWcnBr5DclrrsWXCA                     NaN                     NaN   \n",
       "-4JDJeFS0YAYSiSvIshGLQ                     NaN                     NaN   \n",
       "-50XWnmQGqBgEI-9ANvLlg                     NaN                     NaN   \n",
       "\n",
       "business_id             zwNC-Ow4eIMan2__bS9-rg  \n",
       "user_id                                         \n",
       "-2gOxVWcnBr5DclrrsWXCA                     NaN  \n",
       "-4JDJeFS0YAYSiSvIshGLQ                     NaN  \n",
       "-50XWnmQGqBgEI-9ANvLlg                     NaN  \n",
       "\n",
       "[3 rows x 3514 columns]"
      ]
     },
     "execution_count": 14,
     "metadata": {},
     "output_type": "execute_result"
    }
   ],
   "source": [
    "ratings_matrix.head(3)"
   ]
  },
  {
   "cell_type": "code",
   "execution_count": 15,
   "metadata": {
    "collapsed": true
   },
   "outputs": [],
   "source": [
    "ratings_matrix[ratings_matrix.isnull()] = 0"
   ]
  },
  {
   "cell_type": "code",
   "execution_count": 16,
   "metadata": {
    "collapsed": false
   },
   "outputs": [
    {
     "data": {
      "text/html": [
       "<div>\n",
       "<table border=\"1\" class=\"dataframe\">\n",
       "  <thead>\n",
       "    <tr style=\"text-align: right;\">\n",
       "      <th>business_id</th>\n",
       "      <th>--9e1ONYQuAa-CB_Rrw7Tw</th>\n",
       "      <th>-1vfRrlnNnNJ5boOVghMPA</th>\n",
       "      <th>-3zffZUHoY8bQjGfPSoBKQ</th>\n",
       "      <th>-8R_-EkGpUhBk55K9Dd4mg</th>\n",
       "      <th>-9YyInW1wapzdNZrhQJ9dg</th>\n",
       "      <th>-AD5PiuJHgdUcAK-Vxao2A</th>\n",
       "      <th>-BS4aZAQm9u41YnB9MUASA</th>\n",
       "      <th>-Bf8BQ3yMk8U2f45r2DRKw</th>\n",
       "      <th>-BmqghX1sv7sgsxOIS2yAg</th>\n",
       "      <th>-Bv-HHUs8aHzDrdWcZHn8w</th>\n",
       "      <th>...</th>\n",
       "      <th>zmltWmTpoBt5sCU-5Kzj-Q</th>\n",
       "      <th>znWHLW1pt19HzW1VY6KfCA</th>\n",
       "      <th>zp-K5s3pGTWuuaVBWo6WZA</th>\n",
       "      <th>zpoZ6WyQUYff18-z4ZU1mA</th>\n",
       "      <th>zrQ1zKWC-W2PCvwjBururQ</th>\n",
       "      <th>zsQk990PubOHjr1YcLkQFw</th>\n",
       "      <th>zsT04OrUZ25WILxbp1S3XQ</th>\n",
       "      <th>zt9RLUIU32fZYOBh2L0NNQ</th>\n",
       "      <th>zuwba6QEBIDZT0tJZmNhdQ</th>\n",
       "      <th>zwNC-Ow4eIMan2__bS9-rg</th>\n",
       "    </tr>\n",
       "    <tr>\n",
       "      <th>user_id</th>\n",
       "      <th></th>\n",
       "      <th></th>\n",
       "      <th></th>\n",
       "      <th></th>\n",
       "      <th></th>\n",
       "      <th></th>\n",
       "      <th></th>\n",
       "      <th></th>\n",
       "      <th></th>\n",
       "      <th></th>\n",
       "      <th></th>\n",
       "      <th></th>\n",
       "      <th></th>\n",
       "      <th></th>\n",
       "      <th></th>\n",
       "      <th></th>\n",
       "      <th></th>\n",
       "      <th></th>\n",
       "      <th></th>\n",
       "      <th></th>\n",
       "      <th></th>\n",
       "    </tr>\n",
       "  </thead>\n",
       "  <tbody>\n",
       "    <tr>\n",
       "      <th>-2gOxVWcnBr5DclrrsWXCA</th>\n",
       "      <td>0.0</td>\n",
       "      <td>0.0</td>\n",
       "      <td>0.0</td>\n",
       "      <td>0.0</td>\n",
       "      <td>0.0</td>\n",
       "      <td>0.0</td>\n",
       "      <td>0.0</td>\n",
       "      <td>0.0</td>\n",
       "      <td>0.0</td>\n",
       "      <td>0.0</td>\n",
       "      <td>...</td>\n",
       "      <td>0.0</td>\n",
       "      <td>0.0</td>\n",
       "      <td>0.0</td>\n",
       "      <td>0.0</td>\n",
       "      <td>0.0</td>\n",
       "      <td>0.0</td>\n",
       "      <td>0.0</td>\n",
       "      <td>0.0</td>\n",
       "      <td>0.0</td>\n",
       "      <td>0.0</td>\n",
       "    </tr>\n",
       "    <tr>\n",
       "      <th>-4JDJeFS0YAYSiSvIshGLQ</th>\n",
       "      <td>0.0</td>\n",
       "      <td>0.0</td>\n",
       "      <td>0.0</td>\n",
       "      <td>0.0</td>\n",
       "      <td>0.0</td>\n",
       "      <td>0.0</td>\n",
       "      <td>0.0</td>\n",
       "      <td>0.0</td>\n",
       "      <td>0.0</td>\n",
       "      <td>0.0</td>\n",
       "      <td>...</td>\n",
       "      <td>0.0</td>\n",
       "      <td>0.0</td>\n",
       "      <td>0.0</td>\n",
       "      <td>0.0</td>\n",
       "      <td>0.0</td>\n",
       "      <td>0.0</td>\n",
       "      <td>0.0</td>\n",
       "      <td>0.0</td>\n",
       "      <td>0.0</td>\n",
       "      <td>0.0</td>\n",
       "    </tr>\n",
       "  </tbody>\n",
       "</table>\n",
       "<p>2 rows × 3514 columns</p>\n",
       "</div>"
      ],
      "text/plain": [
       "business_id             --9e1ONYQuAa-CB_Rrw7Tw  -1vfRrlnNnNJ5boOVghMPA  \\\n",
       "user_id                                                                  \n",
       "-2gOxVWcnBr5DclrrsWXCA                     0.0                     0.0   \n",
       "-4JDJeFS0YAYSiSvIshGLQ                     0.0                     0.0   \n",
       "\n",
       "business_id             -3zffZUHoY8bQjGfPSoBKQ  -8R_-EkGpUhBk55K9Dd4mg  \\\n",
       "user_id                                                                  \n",
       "-2gOxVWcnBr5DclrrsWXCA                     0.0                     0.0   \n",
       "-4JDJeFS0YAYSiSvIshGLQ                     0.0                     0.0   \n",
       "\n",
       "business_id             -9YyInW1wapzdNZrhQJ9dg  -AD5PiuJHgdUcAK-Vxao2A  \\\n",
       "user_id                                                                  \n",
       "-2gOxVWcnBr5DclrrsWXCA                     0.0                     0.0   \n",
       "-4JDJeFS0YAYSiSvIshGLQ                     0.0                     0.0   \n",
       "\n",
       "business_id             -BS4aZAQm9u41YnB9MUASA  -Bf8BQ3yMk8U2f45r2DRKw  \\\n",
       "user_id                                                                  \n",
       "-2gOxVWcnBr5DclrrsWXCA                     0.0                     0.0   \n",
       "-4JDJeFS0YAYSiSvIshGLQ                     0.0                     0.0   \n",
       "\n",
       "business_id             -BmqghX1sv7sgsxOIS2yAg  -Bv-HHUs8aHzDrdWcZHn8w  \\\n",
       "user_id                                                                  \n",
       "-2gOxVWcnBr5DclrrsWXCA                     0.0                     0.0   \n",
       "-4JDJeFS0YAYSiSvIshGLQ                     0.0                     0.0   \n",
       "\n",
       "business_id                      ...            zmltWmTpoBt5sCU-5Kzj-Q  \\\n",
       "user_id                          ...                                     \n",
       "-2gOxVWcnBr5DclrrsWXCA           ...                               0.0   \n",
       "-4JDJeFS0YAYSiSvIshGLQ           ...                               0.0   \n",
       "\n",
       "business_id             znWHLW1pt19HzW1VY6KfCA  zp-K5s3pGTWuuaVBWo6WZA  \\\n",
       "user_id                                                                  \n",
       "-2gOxVWcnBr5DclrrsWXCA                     0.0                     0.0   \n",
       "-4JDJeFS0YAYSiSvIshGLQ                     0.0                     0.0   \n",
       "\n",
       "business_id             zpoZ6WyQUYff18-z4ZU1mA  zrQ1zKWC-W2PCvwjBururQ  \\\n",
       "user_id                                                                  \n",
       "-2gOxVWcnBr5DclrrsWXCA                     0.0                     0.0   \n",
       "-4JDJeFS0YAYSiSvIshGLQ                     0.0                     0.0   \n",
       "\n",
       "business_id             zsQk990PubOHjr1YcLkQFw  zsT04OrUZ25WILxbp1S3XQ  \\\n",
       "user_id                                                                  \n",
       "-2gOxVWcnBr5DclrrsWXCA                     0.0                     0.0   \n",
       "-4JDJeFS0YAYSiSvIshGLQ                     0.0                     0.0   \n",
       "\n",
       "business_id             zt9RLUIU32fZYOBh2L0NNQ  zuwba6QEBIDZT0tJZmNhdQ  \\\n",
       "user_id                                                                  \n",
       "-2gOxVWcnBr5DclrrsWXCA                     0.0                     0.0   \n",
       "-4JDJeFS0YAYSiSvIshGLQ                     0.0                     0.0   \n",
       "\n",
       "business_id             zwNC-Ow4eIMan2__bS9-rg  \n",
       "user_id                                         \n",
       "-2gOxVWcnBr5DclrrsWXCA                     0.0  \n",
       "-4JDJeFS0YAYSiSvIshGLQ                     0.0  \n",
       "\n",
       "[2 rows x 3514 columns]"
      ]
     },
     "execution_count": 16,
     "metadata": {},
     "output_type": "execute_result"
    }
   ],
   "source": [
    "ratings_matrix.head(2)"
   ]
  },
  {
   "cell_type": "markdown",
   "metadata": {},
   "source": [
    "## 2. Item-Item similarity recommender"
   ]
  },
  {
   "cell_type": "markdown",
   "metadata": {},
   "source": [
    "### Let's reuse the ItemItemRecommender class derived from previous exercise\n",
    "\n",
    "Hint: we need to make modification to accommodate the dense numpy array"
   ]
  },
  {
   "cell_type": "code",
   "execution_count": 17,
   "metadata": {
    "collapsed": true
   },
   "outputs": [],
   "source": [
    "from scipy.sparse import lil_matrix\n",
    "from sklearn.metrics.pairwise import cosine_similarity"
   ]
  },
  {
   "cell_type": "code",
   "execution_count": 18,
   "metadata": {
    "collapsed": true
   },
   "outputs": [],
   "source": [
    "ratings_llmatrix = lil_matrix(ratings_matrix)"
   ]
  },
  {
   "cell_type": "code",
   "execution_count": 19,
   "metadata": {
    "collapsed": true
   },
   "outputs": [],
   "source": [
    "# calculate similarity matrix\n",
    "# and neighborhoods' index\n",
    "def get_sim_nei(rating_matrix, num_nei):\n",
    "    \n",
    "    sim_matrix = cosine_similarity(rating_matrix.T)\n",
    "    nei_index = sim_matrix.argsort()[:,-num_nei:]\n",
    "    \n",
    "    return sim_matrix, nei_index"
   ]
  },
  {
   "cell_type": "code",
   "execution_count": 20,
   "metadata": {
    "collapsed": true
   },
   "outputs": [],
   "source": [
    "# predict for one user\n",
    "def pred(user_id,ratings_matrix, sim_matrix, nei_index):\n",
    "    '''\n",
    "    Input: user_id \n",
    "           ratings_matrix: users by items\n",
    "           sim_matrix: item by item\n",
    "           nei_index: item by neighborhoods\n",
    "    Output: \n",
    "           prediction: 1-D array, non-zero elements represent estimated score for item_to_rate\n",
    "    '''\n",
    "    # find index of movies that have been rated by this user, in this case index also is movie id\n",
    "    rated_item_index = ratings_matrix[user_id].nonzero()[1]\n",
    "    # initialize a prediction array\n",
    "    prediction = np.zeros(ratings_matrix.shape[1])\n",
    "    # make prediction on movies\n",
    "    for item_to_rate in range(ratings_matrix.shape[1]):\n",
    "        # only predect items not rated by this user yet\n",
    "        if item_to_rate not in rated_item_index:\n",
    "            # find index of intersetion between rated movie by this user and this item's neighborhoods\n",
    "            relevant_item_index = np.intersect1d(nei_index[item_to_rate],rated_item_index, assume_unique = True)\n",
    "            # make predictions on this item for this user\n",
    "            prediction[item_to_rate] = (ratings_matrix[user_id,relevant_item_index] * \\\n",
    "                                        sim_matrix[item_to_rate,relevant_item_index]) / \\\n",
    "                                        sim_matrix[item_to_rate,relevant_item_index].sum()\n",
    "    return prediction"
   ]
  },
  {
   "cell_type": "code",
   "execution_count": 21,
   "metadata": {
    "collapsed": false
   },
   "outputs": [],
   "source": [
    "num_nei = 100\n",
    "sim_matrix, nei_index = get_sim_nei(ratings_llmatrix, num_nei)"
   ]
  },
  {
   "cell_type": "code",
   "execution_count": 22,
   "metadata": {
    "collapsed": true
   },
   "outputs": [],
   "source": [
    "# name a user\n",
    "user_id = np.random.randint(low = 0, high = ratings_llmatrix.shape[0])"
   ]
  },
  {
   "cell_type": "code",
   "execution_count": 23,
   "metadata": {
    "collapsed": false
   },
   "outputs": [],
   "source": [
    "prediction = pred(user_id, ratings_llmatrix, sim_matrix, nei_index)"
   ]
  },
  {
   "cell_type": "code",
   "execution_count": 24,
   "metadata": {
    "collapsed": false
   },
   "outputs": [],
   "source": [
    "rec_bus_index = prediction.argsort()[-5:]"
   ]
  },
  {
   "cell_type": "code",
   "execution_count": 25,
   "metadata": {
    "collapsed": true
   },
   "outputs": [],
   "source": [
    "user_name = ratings_matrix.index[user_id]\n",
    "rec_bus_name = [ratings_matrix.columns[i] for i in rec_bus_index]"
   ]
  },
  {
   "cell_type": "code",
   "execution_count": 26,
   "metadata": {
    "collapsed": false
   },
   "outputs": [
    {
     "name": "stdout",
     "output_type": "stream",
     "text": [
      "for user  lOiJBKYO4sVF9eAIj4233A\n",
      "we recommend  ['R6jpwPBe9edy0P64uyaLKA', 'R7LyTeiOHLyTNkA8HssBRQ', 'RBVtuVodydOMkNr-RVTVYA', 'Qj1BoynaIVZiKEe8Peq3_g', 'UVqelOc_xJwy6lfnOhiCLQ']\n"
     ]
    }
   ],
   "source": [
    "print \"for user \", user_name\n",
    "print \"we recommend \", rec_bus_name"
   ]
  },
  {
   "cell_type": "markdown",
   "metadata": {},
   "source": [
    "## 3. Matrix Factorization recommender\n",
    "\n",
    "Take a look at Graphlab Create examples"
   ]
  },
  {
   "cell_type": "code",
   "execution_count": 27,
   "metadata": {
    "collapsed": false
   },
   "outputs": [],
   "source": [
    "import graphlab"
   ]
  },
  {
   "cell_type": "code",
   "execution_count": 28,
   "metadata": {
    "collapsed": false
   },
   "outputs": [
    {
     "name": "stdout",
     "output_type": "stream",
     "text": [
      "This non-commercial license of GraphLab Create for academic use is assigned to yihaoson@usc.edu and will expire on June 29, 2018.\n"
     ]
    },
    {
     "name": "stderr",
     "output_type": "stream",
     "text": [
      "[INFO] graphlab.cython.cy_server: GraphLab Create v2.1 started. Logging: C:\\Users\\songy\\AppData\\Local\\Temp\\graphlab_server_1499135466.log.0\n"
     ]
    }
   ],
   "source": [
    "sf = graphlab.SFrame(rating_df)"
   ]
  },
  {
   "cell_type": "code",
   "execution_count": 29,
   "metadata": {
    "collapsed": false
   },
   "outputs": [
    {
     "data": {
      "text/html": [
       "<div style=\"max-height:1000px;max-width:1500px;overflow:auto;\"><table frame=\"box\" rules=\"cols\">\n",
       "    <tr>\n",
       "        <th style=\"padding-left: 1em; padding-right: 1em; text-align: center\">user_id</th>\n",
       "        <th style=\"padding-left: 1em; padding-right: 1em; text-align: center\">business_id</th>\n",
       "        <th style=\"padding-left: 1em; padding-right: 1em; text-align: center\">stars</th>\n",
       "    </tr>\n",
       "    <tr>\n",
       "        <td style=\"padding-left: 1em; padding-right: 1em; text-align: center; vertical-align: top\">0XVzm4kVIAaH4eQAxWbhvw</td>\n",
       "        <td style=\"padding-left: 1em; padding-right: 1em; text-align: center; vertical-align: top\">--9e1ONYQuAa-CB_Rrw7Tw</td>\n",
       "        <td style=\"padding-left: 1em; padding-right: 1em; text-align: center; vertical-align: top\">1</td>\n",
       "    </tr>\n",
       "    <tr>\n",
       "        <td style=\"padding-left: 1em; padding-right: 1em; text-align: center; vertical-align: top\">2aeNFntqY2QDZLADNo8iQQ</td>\n",
       "        <td style=\"padding-left: 1em; padding-right: 1em; text-align: center; vertical-align: top\">--9e1ONYQuAa-CB_Rrw7Tw</td>\n",
       "        <td style=\"padding-left: 1em; padding-right: 1em; text-align: center; vertical-align: top\">4</td>\n",
       "    </tr>\n",
       "    <tr>\n",
       "        <td style=\"padding-left: 1em; padding-right: 1em; text-align: center; vertical-align: top\">WFhv5pMJRDPWSyLnKiWFXA</td>\n",
       "        <td style=\"padding-left: 1em; padding-right: 1em; text-align: center; vertical-align: top\">--9e1ONYQuAa-CB_Rrw7Tw</td>\n",
       "        <td style=\"padding-left: 1em; padding-right: 1em; text-align: center; vertical-align: top\">2</td>\n",
       "    </tr>\n",
       "</table>\n",
       "[3 rows x 3 columns]<br/>\n",
       "</div>"
      ],
      "text/plain": [
       "Columns:\n",
       "\tuser_id\tstr\n",
       "\tbusiness_id\tstr\n",
       "\tstars\tint\n",
       "\n",
       "Rows: 3\n",
       "\n",
       "Data:\n",
       "+------------------------+------------------------+-------+\n",
       "|        user_id         |      business_id       | stars |\n",
       "+------------------------+------------------------+-------+\n",
       "| 0XVzm4kVIAaH4eQAxWbhvw | --9e1ONYQuAa-CB_Rrw7Tw |   1   |\n",
       "| 2aeNFntqY2QDZLADNo8iQQ | --9e1ONYQuAa-CB_Rrw7Tw |   4   |\n",
       "| WFhv5pMJRDPWSyLnKiWFXA | --9e1ONYQuAa-CB_Rrw7Tw |   2   |\n",
       "+------------------------+------------------------+-------+\n",
       "[3 rows x 3 columns]"
      ]
     },
     "execution_count": 29,
     "metadata": {},
     "output_type": "execute_result"
    }
   ],
   "source": [
    "sf.head(3)"
   ]
  },
  {
   "cell_type": "code",
   "execution_count": 30,
   "metadata": {
    "collapsed": false,
    "scrolled": true
   },
   "outputs": [
    {
     "data": {
      "text/html": [
       "<pre>Recsys training: model = factorization_recommender</pre>"
      ],
      "text/plain": [
       "Recsys training: model = factorization_recommender"
      ]
     },
     "metadata": {},
     "output_type": "display_data"
    },
    {
     "data": {
      "text/html": [
       "<pre>Preparing data set.</pre>"
      ],
      "text/plain": [
       "Preparing data set."
      ]
     },
     "metadata": {},
     "output_type": "display_data"
    },
    {
     "data": {
      "text/html": [
       "<pre>    Data has 347619 observations with 160703 users and 4353 items.</pre>"
      ],
      "text/plain": [
       "    Data has 347619 observations with 160703 users and 4353 items."
      ]
     },
     "metadata": {},
     "output_type": "display_data"
    },
    {
     "data": {
      "text/html": [
       "<pre>    Data prepared in: 0.462553s</pre>"
      ],
      "text/plain": [
       "    Data prepared in: 0.462553s"
      ]
     },
     "metadata": {},
     "output_type": "display_data"
    },
    {
     "data": {
      "text/html": [
       "<pre>Training factorization_recommender for recommendations.</pre>"
      ],
      "text/plain": [
       "Training factorization_recommender for recommendations."
      ]
     },
     "metadata": {},
     "output_type": "display_data"
    },
    {
     "data": {
      "text/html": [
       "<pre>+------------------------------+--------------------------------------------------+----------+</pre>"
      ],
      "text/plain": [
       "+------------------------------+--------------------------------------------------+----------+"
      ]
     },
     "metadata": {},
     "output_type": "display_data"
    },
    {
     "data": {
      "text/html": [
       "<pre>| Parameter                    | Description                                      | Value    |</pre>"
      ],
      "text/plain": [
       "| Parameter                    | Description                                      | Value    |"
      ]
     },
     "metadata": {},
     "output_type": "display_data"
    },
    {
     "data": {
      "text/html": [
       "<pre>+------------------------------+--------------------------------------------------+----------+</pre>"
      ],
      "text/plain": [
       "+------------------------------+--------------------------------------------------+----------+"
      ]
     },
     "metadata": {},
     "output_type": "display_data"
    },
    {
     "data": {
      "text/html": [
       "<pre>| num_factors                  | Factor Dimension                                 | 8        |</pre>"
      ],
      "text/plain": [
       "| num_factors                  | Factor Dimension                                 | 8        |"
      ]
     },
     "metadata": {},
     "output_type": "display_data"
    },
    {
     "data": {
      "text/html": [
       "<pre>| regularization               | L2 Regularization on Factors                     | 1e-008   |</pre>"
      ],
      "text/plain": [
       "| regularization               | L2 Regularization on Factors                     | 1e-008   |"
      ]
     },
     "metadata": {},
     "output_type": "display_data"
    },
    {
     "data": {
      "text/html": [
       "<pre>| max_iterations               | Maximum Number of Iterations                     | 50       |</pre>"
      ],
      "text/plain": [
       "| max_iterations               | Maximum Number of Iterations                     | 50       |"
      ]
     },
     "metadata": {},
     "output_type": "display_data"
    },
    {
     "data": {
      "text/html": [
       "<pre>| solver                       | Solver used for training                         | als      |</pre>"
      ],
      "text/plain": [
       "| solver                       | Solver used for training                         | als      |"
      ]
     },
     "metadata": {},
     "output_type": "display_data"
    },
    {
     "data": {
      "text/html": [
       "<pre>+------------------------------+--------------------------------------------------+----------+</pre>"
      ],
      "text/plain": [
       "+------------------------------+--------------------------------------------------+----------+"
      ]
     },
     "metadata": {},
     "output_type": "display_data"
    },
    {
     "data": {
      "text/html": [
       "<pre>+---------+--------------+------------------------+</pre>"
      ],
      "text/plain": [
       "+---------+--------------+------------------------+"
      ]
     },
     "metadata": {},
     "output_type": "display_data"
    },
    {
     "data": {
      "text/html": [
       "<pre>| Iter.   | Elapsed time | RMSE                   |</pre>"
      ],
      "text/plain": [
       "| Iter.   | Elapsed time | RMSE                   |"
      ]
     },
     "metadata": {},
     "output_type": "display_data"
    },
    {
     "data": {
      "text/html": [
       "<pre>+---------+--------------+------------------------+</pre>"
      ],
      "text/plain": [
       "+---------+--------------+------------------------+"
      ]
     },
     "metadata": {},
     "output_type": "display_data"
    },
    {
     "data": {
      "text/html": [
       "<pre>| Initial | 0us          | NA                     |</pre>"
      ],
      "text/plain": [
       "| Initial | 0us          | NA                     |"
      ]
     },
     "metadata": {},
     "output_type": "display_data"
    },
    {
     "data": {
      "text/html": [
       "<pre>+---------+--------------+------------------------+</pre>"
      ],
      "text/plain": [
       "+---------+--------------+------------------------+"
      ]
     },
     "metadata": {},
     "output_type": "display_data"
    },
    {
     "data": {
      "text/html": [
       "<pre>| 0       | 202.887ms    | 0.829982               |</pre>"
      ],
      "text/plain": [
       "| 0       | 202.887ms    | 0.829982               |"
      ]
     },
     "metadata": {},
     "output_type": "display_data"
    },
    {
     "data": {
      "text/html": [
       "<pre>| 1       | 359.003ms    | 0.355186               |</pre>"
      ],
      "text/plain": [
       "| 1       | 359.003ms    | 0.355186               |"
      ]
     },
     "metadata": {},
     "output_type": "display_data"
    },
    {
     "data": {
      "text/html": [
       "<pre>| 2       | 533.906ms    | 0.336998               |</pre>"
      ],
      "text/plain": [
       "| 2       | 533.906ms    | 0.336998               |"
      ]
     },
     "metadata": {},
     "output_type": "display_data"
    },
    {
     "data": {
      "text/html": [
       "<pre>| 3       | 746.063ms    | 0.325224               |</pre>"
      ],
      "text/plain": [
       "| 3       | 746.063ms    | 0.325224               |"
      ]
     },
     "metadata": {},
     "output_type": "display_data"
    },
    {
     "data": {
      "text/html": [
       "<pre>| 4       | 901.17ms     | 0.316298               |</pre>"
      ],
      "text/plain": [
       "| 4       | 901.17ms     | 0.316298               |"
      ]
     },
     "metadata": {},
     "output_type": "display_data"
    },
    {
     "data": {
      "text/html": [
       "<pre>| 5       | 1.07s        | 0.309077               |</pre>"
      ],
      "text/plain": [
       "| 5       | 1.07s        | 0.309077               |"
      ]
     },
     "metadata": {},
     "output_type": "display_data"
    },
    {
     "data": {
      "text/html": [
       "<pre>| 6       | 1.21s        | 0.303036               |</pre>"
      ],
      "text/plain": [
       "| 6       | 1.21s        | 0.303036               |"
      ]
     },
     "metadata": {},
     "output_type": "display_data"
    },
    {
     "data": {
      "text/html": [
       "<pre>| 7       | 1.36s        | 0.297845               |</pre>"
      ],
      "text/plain": [
       "| 7       | 1.36s        | 0.297845               |"
      ]
     },
     "metadata": {},
     "output_type": "display_data"
    },
    {
     "data": {
      "text/html": [
       "<pre>| 8       | 1.51s        | 0.293326               |</pre>"
      ],
      "text/plain": [
       "| 8       | 1.51s        | 0.293326               |"
      ]
     },
     "metadata": {},
     "output_type": "display_data"
    },
    {
     "data": {
      "text/html": [
       "<pre>| 9       | 1.68s        | 0.289348               |</pre>"
      ],
      "text/plain": [
       "| 9       | 1.68s        | 0.289348               |"
      ]
     },
     "metadata": {},
     "output_type": "display_data"
    },
    {
     "data": {
      "text/html": [
       "<pre>| 10      | 1.83s        | 0.285791               |</pre>"
      ],
      "text/plain": [
       "| 10      | 1.83s        | 0.285791               |"
      ]
     },
     "metadata": {},
     "output_type": "display_data"
    },
    {
     "data": {
      "text/html": [
       "<pre>| 11      | 2.00s        | 0.28258                |</pre>"
      ],
      "text/plain": [
       "| 11      | 2.00s        | 0.28258                |"
      ]
     },
     "metadata": {},
     "output_type": "display_data"
    },
    {
     "data": {
      "text/html": [
       "<pre>| 12      | 2.16s        | 0.279649               |</pre>"
      ],
      "text/plain": [
       "| 12      | 2.16s        | 0.279649               |"
      ]
     },
     "metadata": {},
     "output_type": "display_data"
    },
    {
     "data": {
      "text/html": [
       "<pre>| 13      | 2.30s        | 0.276965               |</pre>"
      ],
      "text/plain": [
       "| 13      | 2.30s        | 0.276965               |"
      ]
     },
     "metadata": {},
     "output_type": "display_data"
    },
    {
     "data": {
      "text/html": [
       "<pre>| 14      | 2.47s        | 0.274495               |</pre>"
      ],
      "text/plain": [
       "| 14      | 2.47s        | 0.274495               |"
      ]
     },
     "metadata": {},
     "output_type": "display_data"
    },
    {
     "data": {
      "text/html": [
       "<pre>| 15      | 2.65s        | 0.272207               |</pre>"
      ],
      "text/plain": [
       "| 15      | 2.65s        | 0.272207               |"
      ]
     },
     "metadata": {},
     "output_type": "display_data"
    },
    {
     "data": {
      "text/html": [
       "<pre>| 16      | 2.79s        | 0.27008                |</pre>"
      ],
      "text/plain": [
       "| 16      | 2.79s        | 0.27008                |"
      ]
     },
     "metadata": {},
     "output_type": "display_data"
    },
    {
     "data": {
      "text/html": [
       "<pre>| 17      | 2.94s        | 0.268092               |</pre>"
      ],
      "text/plain": [
       "| 17      | 2.94s        | 0.268092               |"
      ]
     },
     "metadata": {},
     "output_type": "display_data"
    },
    {
     "data": {
      "text/html": [
       "<pre>| 18      | 3.10s        | 0.266224               |</pre>"
      ],
      "text/plain": [
       "| 18      | 3.10s        | 0.266224               |"
      ]
     },
     "metadata": {},
     "output_type": "display_data"
    },
    {
     "data": {
      "text/html": [
       "<pre>| 19      | 3.28s        | 0.264462               |</pre>"
      ],
      "text/plain": [
       "| 19      | 3.28s        | 0.264462               |"
      ]
     },
     "metadata": {},
     "output_type": "display_data"
    },
    {
     "data": {
      "text/html": [
       "<pre>| 20      | 3.44s        | 0.262799               |</pre>"
      ],
      "text/plain": [
       "| 20      | 3.44s        | 0.262799               |"
      ]
     },
     "metadata": {},
     "output_type": "display_data"
    },
    {
     "data": {
      "text/html": [
       "<pre>| 21      | 3.60s        | 0.261227               |</pre>"
      ],
      "text/plain": [
       "| 21      | 3.60s        | 0.261227               |"
      ]
     },
     "metadata": {},
     "output_type": "display_data"
    },
    {
     "data": {
      "text/html": [
       "<pre>| 22      | 3.77s        | 0.259739               |</pre>"
      ],
      "text/plain": [
       "| 22      | 3.77s        | 0.259739               |"
      ]
     },
     "metadata": {},
     "output_type": "display_data"
    },
    {
     "data": {
      "text/html": [
       "<pre>| 23      | 3.94s        | 0.258332               |</pre>"
      ],
      "text/plain": [
       "| 23      | 3.94s        | 0.258332               |"
      ]
     },
     "metadata": {},
     "output_type": "display_data"
    },
    {
     "data": {
      "text/html": [
       "<pre>| 24      | 4.10s        | 0.256999               |</pre>"
      ],
      "text/plain": [
       "| 24      | 4.10s        | 0.256999               |"
      ]
     },
     "metadata": {},
     "output_type": "display_data"
    },
    {
     "data": {
      "text/html": [
       "<pre>| 25      | 4.28s        | 0.255733               |</pre>"
      ],
      "text/plain": [
       "| 25      | 4.28s        | 0.255733               |"
      ]
     },
     "metadata": {},
     "output_type": "display_data"
    },
    {
     "data": {
      "text/html": [
       "<pre>| 26      | 4.44s        | 0.254525               |</pre>"
      ],
      "text/plain": [
       "| 26      | 4.44s        | 0.254525               |"
      ]
     },
     "metadata": {},
     "output_type": "display_data"
    },
    {
     "data": {
      "text/html": [
       "<pre>| 27      | 4.63s        | 0.253373               |</pre>"
      ],
      "text/plain": [
       "| 27      | 4.63s        | 0.253373               |"
      ]
     },
     "metadata": {},
     "output_type": "display_data"
    },
    {
     "data": {
      "text/html": [
       "<pre>| 28      | 4.80s        | 0.252272               |</pre>"
      ],
      "text/plain": [
       "| 28      | 4.80s        | 0.252272               |"
      ]
     },
     "metadata": {},
     "output_type": "display_data"
    },
    {
     "data": {
      "text/html": [
       "<pre>| 29      | 4.96s        | 0.251217               |</pre>"
      ],
      "text/plain": [
       "| 29      | 4.96s        | 0.251217               |"
      ]
     },
     "metadata": {},
     "output_type": "display_data"
    },
    {
     "data": {
      "text/html": [
       "<pre>| 30      | 5.11s        | 0.250204               |</pre>"
      ],
      "text/plain": [
       "| 30      | 5.11s        | 0.250204               |"
      ]
     },
     "metadata": {},
     "output_type": "display_data"
    },
    {
     "data": {
      "text/html": [
       "<pre>| 31      | 5.26s        | 0.24923                |</pre>"
      ],
      "text/plain": [
       "| 31      | 5.26s        | 0.24923                |"
      ]
     },
     "metadata": {},
     "output_type": "display_data"
    },
    {
     "data": {
      "text/html": [
       "<pre>| 32      | 5.44s        | 0.248293               |</pre>"
      ],
      "text/plain": [
       "| 32      | 5.44s        | 0.248293               |"
      ]
     },
     "metadata": {},
     "output_type": "display_data"
    },
    {
     "data": {
      "text/html": [
       "<pre>| 33      | 5.58s        | 0.247388               |</pre>"
      ],
      "text/plain": [
       "| 33      | 5.58s        | 0.247388               |"
      ]
     },
     "metadata": {},
     "output_type": "display_data"
    },
    {
     "data": {
      "text/html": [
       "<pre>| 34      | 5.74s        | 0.246514               |</pre>"
      ],
      "text/plain": [
       "| 34      | 5.74s        | 0.246514               |"
      ]
     },
     "metadata": {},
     "output_type": "display_data"
    },
    {
     "data": {
      "text/html": [
       "<pre>| 35      | 5.89s        | 0.245672               |</pre>"
      ],
      "text/plain": [
       "| 35      | 5.89s        | 0.245672               |"
      ]
     },
     "metadata": {},
     "output_type": "display_data"
    },
    {
     "data": {
      "text/html": [
       "<pre>| 36      | 6.04s        | 0.244859               |</pre>"
      ],
      "text/plain": [
       "| 36      | 6.04s        | 0.244859               |"
      ]
     },
     "metadata": {},
     "output_type": "display_data"
    },
    {
     "data": {
      "text/html": [
       "<pre>| 37      | 6.20s        | 0.244074               |</pre>"
      ],
      "text/plain": [
       "| 37      | 6.20s        | 0.244074               |"
      ]
     },
     "metadata": {},
     "output_type": "display_data"
    },
    {
     "data": {
      "text/html": [
       "<pre>| 38      | 6.35s        | 0.243314               |</pre>"
      ],
      "text/plain": [
       "| 38      | 6.35s        | 0.243314               |"
      ]
     },
     "metadata": {},
     "output_type": "display_data"
    },
    {
     "data": {
      "text/html": [
       "<pre>| 39      | 6.51s        | 0.242581               |</pre>"
      ],
      "text/plain": [
       "| 39      | 6.51s        | 0.242581               |"
      ]
     },
     "metadata": {},
     "output_type": "display_data"
    },
    {
     "data": {
      "text/html": [
       "<pre>| 40      | 6.65s        | 0.241872               |</pre>"
      ],
      "text/plain": [
       "| 40      | 6.65s        | 0.241872               |"
      ]
     },
     "metadata": {},
     "output_type": "display_data"
    },
    {
     "data": {
      "text/html": [
       "<pre>| 41      | 6.80s        | 0.241186               |</pre>"
      ],
      "text/plain": [
       "| 41      | 6.80s        | 0.241186               |"
      ]
     },
     "metadata": {},
     "output_type": "display_data"
    },
    {
     "data": {
      "text/html": [
       "<pre>| 42      | 6.97s        | 0.24052                |</pre>"
      ],
      "text/plain": [
       "| 42      | 6.97s        | 0.24052                |"
      ]
     },
     "metadata": {},
     "output_type": "display_data"
    },
    {
     "data": {
      "text/html": [
       "<pre>| 43      | 7.12s        | 0.239874               |</pre>"
      ],
      "text/plain": [
       "| 43      | 7.12s        | 0.239874               |"
      ]
     },
     "metadata": {},
     "output_type": "display_data"
    },
    {
     "data": {
      "text/html": [
       "<pre>| 44      | 7.25s        | 0.239245               |</pre>"
      ],
      "text/plain": [
       "| 44      | 7.25s        | 0.239245               |"
      ]
     },
     "metadata": {},
     "output_type": "display_data"
    },
    {
     "data": {
      "text/html": [
       "<pre>| 45      | 7.42s        | 0.238634               |</pre>"
      ],
      "text/plain": [
       "| 45      | 7.42s        | 0.238634               |"
      ]
     },
     "metadata": {},
     "output_type": "display_data"
    },
    {
     "data": {
      "text/html": [
       "<pre>| 46      | 7.59s        | 0.238039               |</pre>"
      ],
      "text/plain": [
       "| 46      | 7.59s        | 0.238039               |"
      ]
     },
     "metadata": {},
     "output_type": "display_data"
    },
    {
     "data": {
      "text/html": [
       "<pre>| 47      | 7.75s        | 0.237459               |</pre>"
      ],
      "text/plain": [
       "| 47      | 7.75s        | 0.237459               |"
      ]
     },
     "metadata": {},
     "output_type": "display_data"
    },
    {
     "data": {
      "text/html": [
       "<pre>| 48      | 7.89s        | 0.236894               |</pre>"
      ],
      "text/plain": [
       "| 48      | 7.89s        | 0.236894               |"
      ]
     },
     "metadata": {},
     "output_type": "display_data"
    },
    {
     "data": {
      "text/html": [
       "<pre>| 49      | 8.04s        | 0.236342               |</pre>"
      ],
      "text/plain": [
       "| 49      | 8.04s        | 0.236342               |"
      ]
     },
     "metadata": {},
     "output_type": "display_data"
    },
    {
     "data": {
      "text/html": [
       "<pre>| FINAL   | 8.04s        | 0.236342               |</pre>"
      ],
      "text/plain": [
       "| FINAL   | 8.04s        | 0.236342               |"
      ]
     },
     "metadata": {},
     "output_type": "display_data"
    },
    {
     "data": {
      "text/html": [
       "<pre>+---------+--------------+------------------------+</pre>"
      ],
      "text/plain": [
       "+---------+--------------+------------------------+"
      ]
     },
     "metadata": {},
     "output_type": "display_data"
    },
    {
     "data": {
      "text/html": [
       "<pre>Optimization Complete: Iteration limit reached.</pre>"
      ],
      "text/plain": [
       "Optimization Complete: Iteration limit reached."
      ]
     },
     "metadata": {},
     "output_type": "display_data"
    }
   ],
   "source": [
    "rec = graphlab.recommender.factorization_recommender.create(observation_data = sf, user_id = 'user_id', \n",
    "                                                      item_id = 'business_id', target = 'stars', \n",
    "                                                      side_data_factorization = False, solver = 'als')"
   ]
  },
  {
   "cell_type": "code",
   "execution_count": 31,
   "metadata": {
    "collapsed": true
   },
   "outputs": [],
   "source": [
    "# make prediction\n",
    "user_index = np.random.randint(low = 0, high = ratings_llmatrix.shape[0])\n",
    "bus_index = np.random.randint(low = 0, high = ratings_llmatrix.shape[1])\n",
    "\n",
    "user_id =  ratings_matrix.index[user_index]\n",
    "bus_id = ratings_matrix.columns[bus_index]\n",
    "\n",
    "one_datapoint_sf = graphlab.SFrame({'user_id': [user_id], 'business_id': [bus_id]})"
   ]
  },
  {
   "cell_type": "code",
   "execution_count": 32,
   "metadata": {
    "collapsed": false
   },
   "outputs": [
    {
     "data": {
      "text/html": [
       "<div style=\"max-height:1000px;max-width:1500px;overflow:auto;\"><table frame=\"box\" rules=\"cols\">\n",
       "    <tr>\n",
       "        <th style=\"padding-left: 1em; padding-right: 1em; text-align: center\">business_id</th>\n",
       "        <th style=\"padding-left: 1em; padding-right: 1em; text-align: center\">user_id</th>\n",
       "    </tr>\n",
       "    <tr>\n",
       "        <td style=\"padding-left: 1em; padding-right: 1em; text-align: center; vertical-align: top\">9sbXPpRC_wDhCsp7qG2PDw</td>\n",
       "        <td style=\"padding-left: 1em; padding-right: 1em; text-align: center; vertical-align: top\">nuMPCVF6YFEVgnysW7rZGQ</td>\n",
       "    </tr>\n",
       "</table>\n",
       "[1 rows x 2 columns]<br/>\n",
       "</div>"
      ],
      "text/plain": [
       "Columns:\n",
       "\tbusiness_id\tstr\n",
       "\tuser_id\tstr\n",
       "\n",
       "Rows: 1\n",
       "\n",
       "Data:\n",
       "+------------------------+------------------------+\n",
       "|      business_id       |        user_id         |\n",
       "+------------------------+------------------------+\n",
       "| 9sbXPpRC_wDhCsp7qG2PDw | nuMPCVF6YFEVgnysW7rZGQ |\n",
       "+------------------------+------------------------+\n",
       "[1 rows x 2 columns]"
      ]
     },
     "execution_count": 32,
     "metadata": {},
     "output_type": "execute_result"
    }
   ],
   "source": [
    "one_datapoint_sf"
   ]
  },
  {
   "cell_type": "code",
   "execution_count": 53,
   "metadata": {
    "collapsed": false
   },
   "outputs": [
    {
     "name": "stdout",
     "output_type": "stream",
     "text": [
      "stars: 2.0\n"
     ]
    }
   ],
   "source": [
    "print \"stars:\", (5 if rec.predict(one_datapoint_sf)[0] > 5 else np.floor(rec.predict(one_datapoint_sf)[0]))"
   ]
  },
  {
   "cell_type": "code",
   "execution_count": 71,
   "metadata": {
    "collapsed": true
   },
   "outputs": [],
   "source": [
    "# I think may be we should use ranking factorize recommeder"
   ]
  },
  {
   "cell_type": "markdown",
   "metadata": {},
   "source": [
    "## 4. Other recommenders (optional)\n",
    "\n",
    "What are other ways you can build a better recommender?\n",
    "\n",
    "* Other features (have you noticed there are other features in the Yelp dataset, e.g. tips, etc.?)\n",
    "* Popularity-based\n",
    "* Content-based\n",
    "* Hybrid"
   ]
  },
  {
   "cell_type": "markdown",
   "metadata": {
    "collapsed": true
   },
   "source": [
    "# let's make a simplest recommender -- Popularity-based Recommender"
   ]
  },
  {
   "cell_type": "code",
   "execution_count": 50,
   "metadata": {
    "collapsed": false
   },
   "outputs": [],
   "source": [
    "# let's choose the best 10 restaurants to recommend for any one\n",
    "# restaurants that have highest average stars and most reviews are the best\n",
    "top_res = rating_df.groupby(by = 'business_id').agg(\n",
    "    {'stars': np.mean, 'user_id': np.size}).sort_values(\n",
    "    by = ['stars', 'user_id'], ascending = False)"
   ]
  },
  {
   "cell_type": "code",
   "execution_count": 52,
   "metadata": {
    "collapsed": false,
    "scrolled": false
   },
   "outputs": [
    {
     "data": {
      "text/plain": [
       "Index([u'9kPbAt95kECBGGi_e5yV0Q', u'WU0rArtd0GcTt8ndKzeKaw',\n",
       "       u'prIta4agQiDpUQVY3MliFA', u'BjrKNWhtQkedHw8hP_0Bjg',\n",
       "       u'-CQokjildrY7UZezXCdEBw', u'dtqT51H8Q8mIvrLylVuiZg',\n",
       "       u'TRe0u0yJ4eeEaSzDKQmIDA', u'ylwIzIHOjk5ECMoD6Af-cg',\n",
       "       u'4UvQ0BUbqlNPJbAggsi0eA', u'8hZjiPzJIojA1k7_W4hELA'],\n",
       "      dtype='object', name=u'business_id')"
      ]
     },
     "execution_count": 52,
     "metadata": {},
     "output_type": "execute_result"
    }
   ],
   "source": [
    "top_res.index[:10]"
   ]
  },
  {
   "cell_type": "code",
   "execution_count": 54,
   "metadata": {
    "collapsed": true
   },
   "outputs": [],
   "source": [
    "# let's use graphlab to build a Popularity-based Recommender\n",
    "# Create a model that makes recommendations using item popularity. \n",
    "# When no target column is provided, the popularity is determined by the number of observations involving each item. \n",
    "# When a target is provided, popularity is computed using the item’s mean target value. \n",
    "# When the target column contains ratings, \n",
    "# for example, the model computes the mean rating for each item and uses this to rank items for recommendations."
   ]
  },
  {
   "cell_type": "code",
   "execution_count": 55,
   "metadata": {
    "collapsed": false
   },
   "outputs": [
    {
     "data": {
      "text/html": [
       "<pre>Recsys training: model = popularity</pre>"
      ],
      "text/plain": [
       "Recsys training: model = popularity"
      ]
     },
     "metadata": {},
     "output_type": "display_data"
    },
    {
     "data": {
      "text/html": [
       "<pre>Preparing data set.</pre>"
      ],
      "text/plain": [
       "Preparing data set."
      ]
     },
     "metadata": {},
     "output_type": "display_data"
    },
    {
     "data": {
      "text/html": [
       "<pre>    Data has 347619 observations with 160703 users and 4353 items.</pre>"
      ],
      "text/plain": [
       "    Data has 347619 observations with 160703 users and 4353 items."
      ]
     },
     "metadata": {},
     "output_type": "display_data"
    },
    {
     "data": {
      "text/html": [
       "<pre>    Data prepared in: 0.399766s</pre>"
      ],
      "text/plain": [
       "    Data prepared in: 0.399766s"
      ]
     },
     "metadata": {},
     "output_type": "display_data"
    },
    {
     "data": {
      "text/html": [
       "<pre>347619 observations to process; with 4353 unique items.</pre>"
      ],
      "text/plain": [
       "347619 observations to process; with 4353 unique items."
      ]
     },
     "metadata": {},
     "output_type": "display_data"
    }
   ],
   "source": [
    "pop_rec = graphlab.recommender.popularity_recommender.create(sf, user_id = 'user_id', item_id = 'business_id', target = 'stars')"
   ]
  },
  {
   "cell_type": "code",
   "execution_count": 63,
   "metadata": {
    "collapsed": false
   },
   "outputs": [],
   "source": [
    "score = np.array(pop_rec.predict(sf[['user_id', 'business_id']]))"
   ]
  },
  {
   "cell_type": "code",
   "execution_count": 65,
   "metadata": {
    "collapsed": false
   },
   "outputs": [],
   "source": [
    "index = score.argsort()[::-1][:10]"
   ]
  },
  {
   "cell_type": "code",
   "execution_count": 69,
   "metadata": {
    "collapsed": false
   },
   "outputs": [
    {
     "name": "stdout",
     "output_type": "stream",
     "text": [
      "we recommend  ['xxaqaD9IVsqxiNF8FoHdYA', '5k8kyvvReTf1RMq4jpayQg', '5k8kyvvReTf1RMq4jpayQg', '5k8kyvvReTf1RMq4jpayQg', '5ic8m9PNixMA__h0G4WH5w', '5fSz08wFcBhCeCXh7sxG5A', '5fSz08wFcBhCeCXh7sxG5A', 'MD5aTUMKi-Qk0-jr3xRgng', 'MVjkFLHNJmbQ-ZTd3QY3nQ', 'MVjkFLHNJmbQ-ZTd3QY3nQ']\n"
     ]
    }
   ],
   "source": [
    "print \"we recommend \", [rating_df.ix[i,'business_id'] for i in index]"
   ]
  },
  {
   "cell_type": "code",
   "execution_count": 70,
   "metadata": {
    "collapsed": true
   },
   "outputs": [],
   "source": [
    "# that's quite a difference than ours\n",
    "# but I beleive we are better."
   ]
  },
  {
   "cell_type": "markdown",
   "metadata": {},
   "source": [
    "# let's look at content-based recommender"
   ]
  },
  {
   "cell_type": "code",
   "execution_count": 73,
   "metadata": {
    "collapsed": false
   },
   "outputs": [],
   "source": [
    "# import business data\n",
    "bus_df = pd.read_csv('data/yelp_academic_dataset_business.csv')"
   ]
  },
  {
   "cell_type": "code",
   "execution_count": 75,
   "metadata": {
    "collapsed": false,
    "scrolled": true
   },
   "outputs": [
    {
     "data": {
      "text/html": [
       "<div>\n",
       "<table border=\"1\" class=\"dataframe\">\n",
       "  <thead>\n",
       "    <tr style=\"text-align: right;\">\n",
       "      <th></th>\n",
       "      <th>neighborhood</th>\n",
       "      <th>business_id</th>\n",
       "      <th>hours</th>\n",
       "      <th>is_open</th>\n",
       "      <th>address</th>\n",
       "      <th>attributes</th>\n",
       "      <th>categories</th>\n",
       "      <th>city</th>\n",
       "      <th>review_count</th>\n",
       "      <th>name</th>\n",
       "      <th>longitude</th>\n",
       "      <th>state</th>\n",
       "      <th>stars</th>\n",
       "      <th>latitude</th>\n",
       "      <th>postal_code</th>\n",
       "      <th>type</th>\n",
       "    </tr>\n",
       "  </thead>\n",
       "  <tbody>\n",
       "    <tr>\n",
       "      <th>0</th>\n",
       "      <td>NaN</td>\n",
       "      <td>0DI8Dt2PJp07XkVvIElIcQ</td>\n",
       "      <td>['Monday 11:0-21:0', 'Tuesday 11:0-21:0', 'Wed...</td>\n",
       "      <td>0</td>\n",
       "      <td>227 E Baseline Rd, Ste J2</td>\n",
       "      <td>['BikeParking: True', 'BusinessAcceptsBitcoin:...</td>\n",
       "      <td>['Tobacco Shops', 'Nightlife', 'Vape Shops', '...</td>\n",
       "      <td>Tempe</td>\n",
       "      <td>17</td>\n",
       "      <td>Innovative Vapors</td>\n",
       "      <td>-111.936102</td>\n",
       "      <td>AZ</td>\n",
       "      <td>4.5</td>\n",
       "      <td>33.378214</td>\n",
       "      <td>85283</td>\n",
       "      <td>business</td>\n",
       "    </tr>\n",
       "    <tr>\n",
       "      <th>1</th>\n",
       "      <td>NaN</td>\n",
       "      <td>LTlCaCGZE14GuaUXUGbamg</td>\n",
       "      <td>['Monday 0:0-0:0', 'Tuesday 0:0-0:0', 'Wednesd...</td>\n",
       "      <td>1</td>\n",
       "      <td>495 S Grand Central Pkwy</td>\n",
       "      <td>['BusinessAcceptsBitcoin: False', 'BusinessAcc...</td>\n",
       "      <td>['Caterers', 'Grocery', 'Food', 'Event Plannin...</td>\n",
       "      <td>Las Vegas</td>\n",
       "      <td>9</td>\n",
       "      <td>Cut and Taste</td>\n",
       "      <td>-115.159272</td>\n",
       "      <td>NV</td>\n",
       "      <td>5.0</td>\n",
       "      <td>36.192284</td>\n",
       "      <td>89106</td>\n",
       "      <td>business</td>\n",
       "    </tr>\n",
       "    <tr>\n",
       "      <th>2</th>\n",
       "      <td>Dufferin Grove</td>\n",
       "      <td>EDqCEAGXVGCH4FJXgqtjqg</td>\n",
       "      <td>['Monday 11:0-2:0', 'Tuesday 11:0-2:0', 'Wedne...</td>\n",
       "      <td>1</td>\n",
       "      <td>979 Bloor Street W</td>\n",
       "      <td>['Alcohol: none', \"Ambience: {'romantic': Fals...</td>\n",
       "      <td>['Restaurants', 'Pizza', 'Chicken Wings', 'Ita...</td>\n",
       "      <td>Toronto</td>\n",
       "      <td>7</td>\n",
       "      <td>Pizza Pizza</td>\n",
       "      <td>-79.429089</td>\n",
       "      <td>ON</td>\n",
       "      <td>2.5</td>\n",
       "      <td>43.661054</td>\n",
       "      <td>M6H 1L5</td>\n",
       "      <td>business</td>\n",
       "    </tr>\n",
       "  </tbody>\n",
       "</table>\n",
       "</div>"
      ],
      "text/plain": [
       "     neighborhood             business_id  \\\n",
       "0             NaN  0DI8Dt2PJp07XkVvIElIcQ   \n",
       "1             NaN  LTlCaCGZE14GuaUXUGbamg   \n",
       "2  Dufferin Grove  EDqCEAGXVGCH4FJXgqtjqg   \n",
       "\n",
       "                                               hours  is_open  \\\n",
       "0  ['Monday 11:0-21:0', 'Tuesday 11:0-21:0', 'Wed...        0   \n",
       "1  ['Monday 0:0-0:0', 'Tuesday 0:0-0:0', 'Wednesd...        1   \n",
       "2  ['Monday 11:0-2:0', 'Tuesday 11:0-2:0', 'Wedne...        1   \n",
       "\n",
       "                     address  \\\n",
       "0  227 E Baseline Rd, Ste J2   \n",
       "1   495 S Grand Central Pkwy   \n",
       "2         979 Bloor Street W   \n",
       "\n",
       "                                          attributes  \\\n",
       "0  ['BikeParking: True', 'BusinessAcceptsBitcoin:...   \n",
       "1  ['BusinessAcceptsBitcoin: False', 'BusinessAcc...   \n",
       "2  ['Alcohol: none', \"Ambience: {'romantic': Fals...   \n",
       "\n",
       "                                          categories       city  review_count  \\\n",
       "0  ['Tobacco Shops', 'Nightlife', 'Vape Shops', '...      Tempe            17   \n",
       "1  ['Caterers', 'Grocery', 'Food', 'Event Plannin...  Las Vegas             9   \n",
       "2  ['Restaurants', 'Pizza', 'Chicken Wings', 'Ita...    Toronto             7   \n",
       "\n",
       "                name   longitude state  stars   latitude postal_code      type  \n",
       "0  Innovative Vapors -111.936102    AZ    4.5  33.378214       85283  business  \n",
       "1      Cut and Taste -115.159272    NV    5.0  36.192284       89106  business  \n",
       "2        Pizza Pizza  -79.429089    ON    2.5  43.661054     M6H 1L5  business  "
      ]
     },
     "execution_count": 75,
     "metadata": {},
     "output_type": "execute_result"
    }
   ],
   "source": [
    "bus_df.head(3)"
   ]
  },
  {
   "cell_type": "code",
   "execution_count": 88,
   "metadata": {
    "collapsed": false
   },
   "outputs": [],
   "source": [
    "bus_sf = graphlab.SFrame(bus_df.dropna())"
   ]
  },
  {
   "cell_type": "code",
   "execution_count": 89,
   "metadata": {
    "collapsed": false,
    "scrolled": true
   },
   "outputs": [
    {
     "name": "stdout",
     "output_type": "stream",
     "text": [
      "WARNING: The ItemContentRecommender model is still in beta.\n",
      "WARNING: This feature transformer is still in beta, and some interpretation rules may change in the future.\n",
      "('Applying transform:\\n', Class             : AutoVectorizer\n",
      "\n",
      "Model Fields\n",
      "------------\n",
      "Features          : ['neighborhood', 'hours', 'is_open', 'address', 'attributes', 'categories', 'city', 'review_count', 'name', 'longitude', 'state', 'stars', 'latitude', 'postal_code', 'type']\n",
      "Excluded Features : ['business_id']\n",
      "\n",
      "Column        Type   Interpretation  Transforms                         Output Type\n",
      "------------  -----  --------------  ---------------------------------  -----------\n",
      "neighborhood  str    categorical     None                               str        \n",
      "hours         str    long_text       2-Word NGram Counts -> TFIDF       dict       \n",
      "is_open       int    categorical     astype(str)                        str        \n",
      "address       str    short_text      3-Character NGram Counts -> TFIDF  dict       \n",
      "attributes    str    long_text       2-Word NGram Counts -> TFIDF       dict       \n",
      "categories    str    short_text      3-Character NGram Counts -> TFIDF  dict       \n",
      "city          str    categorical     None                               str        \n",
      "review_count  int    numerical       None                               int        \n",
      "name          str    short_text      3-Character NGram Counts -> TFIDF  dict       \n",
      "longitude     float  numerical       None                               float      \n",
      "state         str    categorical     None                               str        \n",
      "stars         float  numerical       None                               float      \n",
      "latitude      float  numerical       None                               float      \n",
      "postal_code   str    categorical     None                               str        \n",
      "type          str    categorical     None                               str        \n",
      "\n",
      ")\n"
     ]
    },
    {
     "data": {
      "text/html": [
       "<pre>Recsys training: model = item_content_recommender</pre>"
      ],
      "text/plain": [
       "Recsys training: model = item_content_recommender"
      ]
     },
     "metadata": {},
     "output_type": "display_data"
    },
    {
     "name": "stdout",
     "output_type": "stream",
     "text": [
      "Defaulting to brute force instead of ball tree because there are multiple distance components.\n"
     ]
    },
    {
     "data": {
      "text/html": [
       "<pre>Starting brute force nearest neighbors model training.</pre>"
      ],
      "text/plain": [
       "Starting brute force nearest neighbors model training."
      ]
     },
     "metadata": {},
     "output_type": "display_data"
    },
    {
     "data": {
      "text/html": [
       "<pre>Starting pairwise querying.</pre>"
      ],
      "text/plain": [
       "Starting pairwise querying."
      ]
     },
     "metadata": {},
     "output_type": "display_data"
    },
    {
     "data": {
      "text/html": [
       "<pre>+--------------+---------+-------------+--------------+</pre>"
      ],
      "text/plain": [
       "+--------------+---------+-------------+--------------+"
      ]
     },
     "metadata": {},
     "output_type": "display_data"
    },
    {
     "data": {
      "text/html": [
       "<pre>| Query points | # Pairs | % Complete. | Elapsed Time |</pre>"
      ],
      "text/plain": [
       "| Query points | # Pairs | % Complete. | Elapsed Time |"
      ]
     },
     "metadata": {},
     "output_type": "display_data"
    },
    {
     "data": {
      "text/html": [
       "<pre>+--------------+---------+-------------+--------------+</pre>"
      ],
      "text/plain": [
       "+--------------+---------+-------------+--------------+"
      ]
     },
     "metadata": {},
     "output_type": "display_data"
    },
    {
     "data": {
      "text/html": [
       "<pre>| 1            | 1435    | 0.0696864   | 22.014ms     |</pre>"
      ],
      "text/plain": [
       "| 1            | 1435    | 0.0696864   | 22.014ms     |"
      ]
     },
     "metadata": {},
     "output_type": "display_data"
    },
    {
     "data": {
      "text/html": [
       "<pre>| Done         |         | 100         | 734.99ms     |</pre>"
      ],
      "text/plain": [
       "| Done         |         | 100         | 734.99ms     |"
      ]
     },
     "metadata": {},
     "output_type": "display_data"
    },
    {
     "data": {
      "text/html": [
       "<pre>+--------------+---------+-------------+--------------+</pre>"
      ],
      "text/plain": [
       "+--------------+---------+-------------+--------------+"
      ]
     },
     "metadata": {},
     "output_type": "display_data"
    },
    {
     "data": {
      "text/html": [
       "<pre>Preparing data set.</pre>"
      ],
      "text/plain": [
       "Preparing data set."
      ]
     },
     "metadata": {},
     "output_type": "display_data"
    },
    {
     "data": {
      "text/html": [
       "<pre>    Data has 347619 observations with 160703 users and 5689 items.</pre>"
      ],
      "text/plain": [
       "    Data has 347619 observations with 160703 users and 5689 items."
      ]
     },
     "metadata": {},
     "output_type": "display_data"
    },
    {
     "data": {
      "text/html": [
       "<pre>    Data prepared in: 0.595016s</pre>"
      ],
      "text/plain": [
       "    Data prepared in: 0.595016s"
      ]
     },
     "metadata": {},
     "output_type": "display_data"
    },
    {
     "data": {
      "text/html": [
       "<pre>Loading user-provided nearest items.</pre>"
      ],
      "text/plain": [
       "Loading user-provided nearest items."
      ]
     },
     "metadata": {},
     "output_type": "display_data"
    },
    {
     "data": {
      "text/html": [
       "<pre>Generating candidate set for working with new users.</pre>"
      ],
      "text/plain": [
       "Generating candidate set for working with new users."
      ]
     },
     "metadata": {},
     "output_type": "display_data"
    },
    {
     "data": {
      "text/html": [
       "<pre>Finished training in 0.060748s</pre>"
      ],
      "text/plain": [
       "Finished training in 0.060748s"
      ]
     },
     "metadata": {},
     "output_type": "display_data"
    }
   ],
   "source": [
    "con_rec = graphlab.recommender.item_content_recommender.create(item_data = bus_sf, item_id = 'business_id'\n",
    "                                                               , observation_data = sf, user_id = 'user_id', target = 'stars')"
   ]
  },
  {
   "cell_type": "code",
   "execution_count": 90,
   "metadata": {
    "collapsed": false
   },
   "outputs": [
    {
     "data": {
      "text/html": [
       "<pre>recommendations finished on 1000/160703 queries. users per second: 7515.41</pre>"
      ],
      "text/plain": [
       "recommendations finished on 1000/160703 queries. users per second: 7515.41"
      ]
     },
     "metadata": {},
     "output_type": "display_data"
    },
    {
     "data": {
      "text/html": [
       "<pre>recommendations finished on 2000/160703 queries. users per second: 12533.1</pre>"
      ],
      "text/plain": [
       "recommendations finished on 2000/160703 queries. users per second: 12533.1"
      ]
     },
     "metadata": {},
     "output_type": "display_data"
    },
    {
     "data": {
      "text/html": [
       "<pre>recommendations finished on 3000/160703 queries. users per second: 16208</pre>"
      ],
      "text/plain": [
       "recommendations finished on 3000/160703 queries. users per second: 16208"
      ]
     },
     "metadata": {},
     "output_type": "display_data"
    },
    {
     "data": {
      "text/html": [
       "<pre>recommendations finished on 4000/160703 queries. users per second: 19220.6</pre>"
      ],
      "text/plain": [
       "recommendations finished on 4000/160703 queries. users per second: 19220.6"
      ]
     },
     "metadata": {},
     "output_type": "display_data"
    },
    {
     "data": {
      "text/html": [
       "<pre>recommendations finished on 5000/160703 queries. users per second: 21174.9</pre>"
      ],
      "text/plain": [
       "recommendations finished on 5000/160703 queries. users per second: 21174.9"
      ]
     },
     "metadata": {},
     "output_type": "display_data"
    },
    {
     "data": {
      "text/html": [
       "<pre>recommendations finished on 6000/160703 queries. users per second: 22800.9</pre>"
      ],
      "text/plain": [
       "recommendations finished on 6000/160703 queries. users per second: 22800.9"
      ]
     },
     "metadata": {},
     "output_type": "display_data"
    },
    {
     "data": {
      "text/html": [
       "<pre>recommendations finished on 7000/160703 queries. users per second: 24207.7</pre>"
      ],
      "text/plain": [
       "recommendations finished on 7000/160703 queries. users per second: 24207.7"
      ]
     },
     "metadata": {},
     "output_type": "display_data"
    },
    {
     "data": {
      "text/html": [
       "<pre>recommendations finished on 8000/160703 queries. users per second: 25342</pre>"
      ],
      "text/plain": [
       "recommendations finished on 8000/160703 queries. users per second: 25342"
      ]
     },
     "metadata": {},
     "output_type": "display_data"
    },
    {
     "data": {
      "text/html": [
       "<pre>recommendations finished on 9000/160703 queries. users per second: 26223.8</pre>"
      ],
      "text/plain": [
       "recommendations finished on 9000/160703 queries. users per second: 26223.8"
      ]
     },
     "metadata": {},
     "output_type": "display_data"
    },
    {
     "data": {
      "text/html": [
       "<pre>recommendations finished on 10000/160703 queries. users per second: 27194.9</pre>"
      ],
      "text/plain": [
       "recommendations finished on 10000/160703 queries. users per second: 27194.9"
      ]
     },
     "metadata": {},
     "output_type": "display_data"
    },
    {
     "data": {
      "text/html": [
       "<pre>recommendations finished on 11000/160703 queries. users per second: 27831.5</pre>"
      ],
      "text/plain": [
       "recommendations finished on 11000/160703 queries. users per second: 27831.5"
      ]
     },
     "metadata": {},
     "output_type": "display_data"
    },
    {
     "data": {
      "text/html": [
       "<pre>recommendations finished on 12000/160703 queries. users per second: 28318.3</pre>"
      ],
      "text/plain": [
       "recommendations finished on 12000/160703 queries. users per second: 28318.3"
      ]
     },
     "metadata": {},
     "output_type": "display_data"
    },
    {
     "data": {
      "text/html": [
       "<pre>recommendations finished on 13000/160703 queries. users per second: 28585.6</pre>"
      ],
      "text/plain": [
       "recommendations finished on 13000/160703 queries. users per second: 28585.6"
      ]
     },
     "metadata": {},
     "output_type": "display_data"
    },
    {
     "data": {
      "text/html": [
       "<pre>recommendations finished on 14000/160703 queries. users per second: 29118.6</pre>"
      ],
      "text/plain": [
       "recommendations finished on 14000/160703 queries. users per second: 29118.6"
      ]
     },
     "metadata": {},
     "output_type": "display_data"
    },
    {
     "data": {
      "text/html": [
       "<pre>recommendations finished on 15000/160703 queries. users per second: 29509.6</pre>"
      ],
      "text/plain": [
       "recommendations finished on 15000/160703 queries. users per second: 29509.6"
      ]
     },
     "metadata": {},
     "output_type": "display_data"
    },
    {
     "data": {
      "text/html": [
       "<pre>recommendations finished on 16000/160703 queries. users per second: 29749.2</pre>"
      ],
      "text/plain": [
       "recommendations finished on 16000/160703 queries. users per second: 29749.2"
      ]
     },
     "metadata": {},
     "output_type": "display_data"
    },
    {
     "data": {
      "text/html": [
       "<pre>recommendations finished on 17000/160703 queries. users per second: 30338.5</pre>"
      ],
      "text/plain": [
       "recommendations finished on 17000/160703 queries. users per second: 30338.5"
      ]
     },
     "metadata": {},
     "output_type": "display_data"
    },
    {
     "data": {
      "text/html": [
       "<pre>recommendations finished on 18000/160703 queries. users per second: 30463.8</pre>"
      ],
      "text/plain": [
       "recommendations finished on 18000/160703 queries. users per second: 30463.8"
      ]
     },
     "metadata": {},
     "output_type": "display_data"
    },
    {
     "data": {
      "text/html": [
       "<pre>recommendations finished on 19000/160703 queries. users per second: 30800.1</pre>"
      ],
      "text/plain": [
       "recommendations finished on 19000/160703 queries. users per second: 30800.1"
      ]
     },
     "metadata": {},
     "output_type": "display_data"
    },
    {
     "data": {
      "text/html": [
       "<pre>recommendations finished on 20000/160703 queries. users per second: 30845</pre>"
      ],
      "text/plain": [
       "recommendations finished on 20000/160703 queries. users per second: 30845"
      ]
     },
     "metadata": {},
     "output_type": "display_data"
    },
    {
     "data": {
      "text/html": [
       "<pre>recommendations finished on 21000/160703 queries. users per second: 31230.5</pre>"
      ],
      "text/plain": [
       "recommendations finished on 21000/160703 queries. users per second: 31230.5"
      ]
     },
     "metadata": {},
     "output_type": "display_data"
    },
    {
     "data": {
      "text/html": [
       "<pre>recommendations finished on 22000/160703 queries. users per second: 31230.4</pre>"
      ],
      "text/plain": [
       "recommendations finished on 22000/160703 queries. users per second: 31230.4"
      ]
     },
     "metadata": {},
     "output_type": "display_data"
    },
    {
     "data": {
      "text/html": [
       "<pre>recommendations finished on 23000/160703 queries. users per second: 31638.8</pre>"
      ],
      "text/plain": [
       "recommendations finished on 23000/160703 queries. users per second: 31638.8"
      ]
     },
     "metadata": {},
     "output_type": "display_data"
    },
    {
     "data": {
      "text/html": [
       "<pre>recommendations finished on 24000/160703 queries. users per second: 31559.1</pre>"
      ],
      "text/plain": [
       "recommendations finished on 24000/160703 queries. users per second: 31559.1"
      ]
     },
     "metadata": {},
     "output_type": "display_data"
    },
    {
     "data": {
      "text/html": [
       "<pre>recommendations finished on 25000/160703 queries. users per second: 31746.2</pre>"
      ],
      "text/plain": [
       "recommendations finished on 25000/160703 queries. users per second: 31746.2"
      ]
     },
     "metadata": {},
     "output_type": "display_data"
    },
    {
     "data": {
      "text/html": [
       "<pre>recommendations finished on 26000/160703 queries. users per second: 31901.3</pre>"
      ],
      "text/plain": [
       "recommendations finished on 26000/160703 queries. users per second: 31901.3"
      ]
     },
     "metadata": {},
     "output_type": "display_data"
    },
    {
     "data": {
      "text/html": [
       "<pre>recommendations finished on 27000/160703 queries. users per second: 32180</pre>"
      ],
      "text/plain": [
       "recommendations finished on 27000/160703 queries. users per second: 32180"
      ]
     },
     "metadata": {},
     "output_type": "display_data"
    },
    {
     "data": {
      "text/html": [
       "<pre>recommendations finished on 28000/160703 queries. users per second: 32237.6</pre>"
      ],
      "text/plain": [
       "recommendations finished on 28000/160703 queries. users per second: 32237.6"
      ]
     },
     "metadata": {},
     "output_type": "display_data"
    },
    {
     "data": {
      "text/html": [
       "<pre>recommendations finished on 29000/160703 queries. users per second: 32183.9</pre>"
      ],
      "text/plain": [
       "recommendations finished on 29000/160703 queries. users per second: 32183.9"
      ]
     },
     "metadata": {},
     "output_type": "display_data"
    },
    {
     "data": {
      "text/html": [
       "<pre>recommendations finished on 30000/160703 queries. users per second: 32446.9</pre>"
      ],
      "text/plain": [
       "recommendations finished on 30000/160703 queries. users per second: 32446.9"
      ]
     },
     "metadata": {},
     "output_type": "display_data"
    },
    {
     "data": {
      "text/html": [
       "<pre>recommendations finished on 31000/160703 queries. users per second: 32576.5</pre>"
      ],
      "text/plain": [
       "recommendations finished on 31000/160703 queries. users per second: 32576.5"
      ]
     },
     "metadata": {},
     "output_type": "display_data"
    },
    {
     "data": {
      "text/html": [
       "<pre>recommendations finished on 32000/160703 queries. users per second: 32615.6</pre>"
      ],
      "text/plain": [
       "recommendations finished on 32000/160703 queries. users per second: 32615.6"
      ]
     },
     "metadata": {},
     "output_type": "display_data"
    },
    {
     "data": {
      "text/html": [
       "<pre>recommendations finished on 33000/160703 queries. users per second: 32668.6</pre>"
      ],
      "text/plain": [
       "recommendations finished on 33000/160703 queries. users per second: 32668.6"
      ]
     },
     "metadata": {},
     "output_type": "display_data"
    },
    {
     "data": {
      "text/html": [
       "<pre>recommendations finished on 34000/160703 queries. users per second: 32750.2</pre>"
      ],
      "text/plain": [
       "recommendations finished on 34000/160703 queries. users per second: 32750.2"
      ]
     },
     "metadata": {},
     "output_type": "display_data"
    },
    {
     "data": {
      "text/html": [
       "<pre>recommendations finished on 35000/160703 queries. users per second: 32796.7</pre>"
      ],
      "text/plain": [
       "recommendations finished on 35000/160703 queries. users per second: 32796.7"
      ]
     },
     "metadata": {},
     "output_type": "display_data"
    },
    {
     "data": {
      "text/html": [
       "<pre>recommendations finished on 36000/160703 queries. users per second: 32870.7</pre>"
      ],
      "text/plain": [
       "recommendations finished on 36000/160703 queries. users per second: 32870.7"
      ]
     },
     "metadata": {},
     "output_type": "display_data"
    },
    {
     "data": {
      "text/html": [
       "<pre>recommendations finished on 37000/160703 queries. users per second: 32926.4</pre>"
      ],
      "text/plain": [
       "recommendations finished on 37000/160703 queries. users per second: 32926.4"
      ]
     },
     "metadata": {},
     "output_type": "display_data"
    },
    {
     "data": {
      "text/html": [
       "<pre>recommendations finished on 38000/160703 queries. users per second: 32850.9</pre>"
      ],
      "text/plain": [
       "recommendations finished on 38000/160703 queries. users per second: 32850.9"
      ]
     },
     "metadata": {},
     "output_type": "display_data"
    },
    {
     "data": {
      "text/html": [
       "<pre>recommendations finished on 39000/160703 queries. users per second: 32987.7</pre>"
      ],
      "text/plain": [
       "recommendations finished on 39000/160703 queries. users per second: 32987.7"
      ]
     },
     "metadata": {},
     "output_type": "display_data"
    },
    {
     "data": {
      "text/html": [
       "<pre>recommendations finished on 40000/160703 queries. users per second: 32914.2</pre>"
      ],
      "text/plain": [
       "recommendations finished on 40000/160703 queries. users per second: 32914.2"
      ]
     },
     "metadata": {},
     "output_type": "display_data"
    },
    {
     "data": {
      "text/html": [
       "<pre>recommendations finished on 41000/160703 queries. users per second: 33016.6</pre>"
      ],
      "text/plain": [
       "recommendations finished on 41000/160703 queries. users per second: 33016.6"
      ]
     },
     "metadata": {},
     "output_type": "display_data"
    },
    {
     "data": {
      "text/html": [
       "<pre>recommendations finished on 42000/160703 queries. users per second: 33049.6</pre>"
      ],
      "text/plain": [
       "recommendations finished on 42000/160703 queries. users per second: 33049.6"
      ]
     },
     "metadata": {},
     "output_type": "display_data"
    },
    {
     "data": {
      "text/html": [
       "<pre>recommendations finished on 43000/160703 queries. users per second: 33132</pre>"
      ],
      "text/plain": [
       "recommendations finished on 43000/160703 queries. users per second: 33132"
      ]
     },
     "metadata": {},
     "output_type": "display_data"
    },
    {
     "data": {
      "text/html": [
       "<pre>recommendations finished on 44000/160703 queries. users per second: 33123.6</pre>"
      ],
      "text/plain": [
       "recommendations finished on 44000/160703 queries. users per second: 33123.6"
      ]
     },
     "metadata": {},
     "output_type": "display_data"
    },
    {
     "data": {
      "text/html": [
       "<pre>recommendations finished on 45000/160703 queries. users per second: 33250.3</pre>"
      ],
      "text/plain": [
       "recommendations finished on 45000/160703 queries. users per second: 33250.3"
      ]
     },
     "metadata": {},
     "output_type": "display_data"
    },
    {
     "data": {
      "text/html": [
       "<pre>recommendations finished on 46000/160703 queries. users per second: 33239.5</pre>"
      ],
      "text/plain": [
       "recommendations finished on 46000/160703 queries. users per second: 33239.5"
      ]
     },
     "metadata": {},
     "output_type": "display_data"
    },
    {
     "data": {
      "text/html": [
       "<pre>recommendations finished on 47000/160703 queries. users per second: 33276.4</pre>"
      ],
      "text/plain": [
       "recommendations finished on 47000/160703 queries. users per second: 33276.4"
      ]
     },
     "metadata": {},
     "output_type": "display_data"
    },
    {
     "data": {
      "text/html": [
       "<pre>recommendations finished on 48000/160703 queries. users per second: 33277.1</pre>"
      ],
      "text/plain": [
       "recommendations finished on 48000/160703 queries. users per second: 33277.1"
      ]
     },
     "metadata": {},
     "output_type": "display_data"
    },
    {
     "data": {
      "text/html": [
       "<pre>recommendations finished on 49000/160703 queries. users per second: 33459.7</pre>"
      ],
      "text/plain": [
       "recommendations finished on 49000/160703 queries. users per second: 33459.7"
      ]
     },
     "metadata": {},
     "output_type": "display_data"
    },
    {
     "data": {
      "text/html": [
       "<pre>recommendations finished on 50000/160703 queries. users per second: 33479.1</pre>"
      ],
      "text/plain": [
       "recommendations finished on 50000/160703 queries. users per second: 33479.1"
      ]
     },
     "metadata": {},
     "output_type": "display_data"
    },
    {
     "data": {
      "text/html": [
       "<pre>recommendations finished on 51000/160703 queries. users per second: 33641.6</pre>"
      ],
      "text/plain": [
       "recommendations finished on 51000/160703 queries. users per second: 33641.6"
      ]
     },
     "metadata": {},
     "output_type": "display_data"
    },
    {
     "data": {
      "text/html": [
       "<pre>recommendations finished on 52000/160703 queries. users per second: 33656.9</pre>"
      ],
      "text/plain": [
       "recommendations finished on 52000/160703 queries. users per second: 33656.9"
      ]
     },
     "metadata": {},
     "output_type": "display_data"
    },
    {
     "data": {
      "text/html": [
       "<pre>recommendations finished on 53000/160703 queries. users per second: 33682.4</pre>"
      ],
      "text/plain": [
       "recommendations finished on 53000/160703 queries. users per second: 33682.4"
      ]
     },
     "metadata": {},
     "output_type": "display_data"
    },
    {
     "data": {
      "text/html": [
       "<pre>recommendations finished on 54000/160703 queries. users per second: 33665</pre>"
      ],
      "text/plain": [
       "recommendations finished on 54000/160703 queries. users per second: 33665"
      ]
     },
     "metadata": {},
     "output_type": "display_data"
    },
    {
     "data": {
      "text/html": [
       "<pre>recommendations finished on 55000/160703 queries. users per second: 33679.1</pre>"
      ],
      "text/plain": [
       "recommendations finished on 55000/160703 queries. users per second: 33679.1"
      ]
     },
     "metadata": {},
     "output_type": "display_data"
    },
    {
     "data": {
      "text/html": [
       "<pre>recommendations finished on 56000/160703 queries. users per second: 33733.4</pre>"
      ],
      "text/plain": [
       "recommendations finished on 56000/160703 queries. users per second: 33733.4"
      ]
     },
     "metadata": {},
     "output_type": "display_data"
    },
    {
     "data": {
      "text/html": [
       "<pre>recommendations finished on 57000/160703 queries. users per second: 33695.9</pre>"
      ],
      "text/plain": [
       "recommendations finished on 57000/160703 queries. users per second: 33695.9"
      ]
     },
     "metadata": {},
     "output_type": "display_data"
    },
    {
     "data": {
      "text/html": [
       "<pre>recommendations finished on 58000/160703 queries. users per second: 33738.3</pre>"
      ],
      "text/plain": [
       "recommendations finished on 58000/160703 queries. users per second: 33738.3"
      ]
     },
     "metadata": {},
     "output_type": "display_data"
    },
    {
     "data": {
      "text/html": [
       "<pre>recommendations finished on 59000/160703 queries. users per second: 33779.2</pre>"
      ],
      "text/plain": [
       "recommendations finished on 59000/160703 queries. users per second: 33779.2"
      ]
     },
     "metadata": {},
     "output_type": "display_data"
    },
    {
     "data": {
      "text/html": [
       "<pre>recommendations finished on 60000/160703 queries. users per second: 33733.3</pre>"
      ],
      "text/plain": [
       "recommendations finished on 60000/160703 queries. users per second: 33733.3"
      ]
     },
     "metadata": {},
     "output_type": "display_data"
    },
    {
     "data": {
      "text/html": [
       "<pre>recommendations finished on 61000/160703 queries. users per second: 33913.9</pre>"
      ],
      "text/plain": [
       "recommendations finished on 61000/160703 queries. users per second: 33913.9"
      ]
     },
     "metadata": {},
     "output_type": "display_data"
    },
    {
     "data": {
      "text/html": [
       "<pre>recommendations finished on 62000/160703 queries. users per second: 33867</pre>"
      ],
      "text/plain": [
       "recommendations finished on 62000/160703 queries. users per second: 33867"
      ]
     },
     "metadata": {},
     "output_type": "display_data"
    },
    {
     "data": {
      "text/html": [
       "<pre>recommendations finished on 63000/160703 queries. users per second: 33903.6</pre>"
      ],
      "text/plain": [
       "recommendations finished on 63000/160703 queries. users per second: 33903.6"
      ]
     },
     "metadata": {},
     "output_type": "display_data"
    },
    {
     "data": {
      "text/html": [
       "<pre>recommendations finished on 64000/160703 queries. users per second: 33957.2</pre>"
      ],
      "text/plain": [
       "recommendations finished on 64000/160703 queries. users per second: 33957.2"
      ]
     },
     "metadata": {},
     "output_type": "display_data"
    },
    {
     "data": {
      "text/html": [
       "<pre>recommendations finished on 65000/160703 queries. users per second: 33964.8</pre>"
      ],
      "text/plain": [
       "recommendations finished on 65000/160703 queries. users per second: 33964.8"
      ]
     },
     "metadata": {},
     "output_type": "display_data"
    },
    {
     "data": {
      "text/html": [
       "<pre>recommendations finished on 66000/160703 queries. users per second: 33998.4</pre>"
      ],
      "text/plain": [
       "recommendations finished on 66000/160703 queries. users per second: 33998.4"
      ]
     },
     "metadata": {},
     "output_type": "display_data"
    },
    {
     "data": {
      "text/html": [
       "<pre>recommendations finished on 67000/160703 queries. users per second: 33970.7</pre>"
      ],
      "text/plain": [
       "recommendations finished on 67000/160703 queries. users per second: 33970.7"
      ]
     },
     "metadata": {},
     "output_type": "display_data"
    },
    {
     "data": {
      "text/html": [
       "<pre>recommendations finished on 68000/160703 queries. users per second: 33952.4</pre>"
      ],
      "text/plain": [
       "recommendations finished on 68000/160703 queries. users per second: 33952.4"
      ]
     },
     "metadata": {},
     "output_type": "display_data"
    },
    {
     "data": {
      "text/html": [
       "<pre>recommendations finished on 69000/160703 queries. users per second: 33926.2</pre>"
      ],
      "text/plain": [
       "recommendations finished on 69000/160703 queries. users per second: 33926.2"
      ]
     },
     "metadata": {},
     "output_type": "display_data"
    },
    {
     "data": {
      "text/html": [
       "<pre>recommendations finished on 70000/160703 queries. users per second: 33900.8</pre>"
      ],
      "text/plain": [
       "recommendations finished on 70000/160703 queries. users per second: 33900.8"
      ]
     },
     "metadata": {},
     "output_type": "display_data"
    },
    {
     "data": {
      "text/html": [
       "<pre>recommendations finished on 71000/160703 queries. users per second: 33916.7</pre>"
      ],
      "text/plain": [
       "recommendations finished on 71000/160703 queries. users per second: 33916.7"
      ]
     },
     "metadata": {},
     "output_type": "display_data"
    },
    {
     "data": {
      "text/html": [
       "<pre>recommendations finished on 72000/160703 queries. users per second: 33908.1</pre>"
      ],
      "text/plain": [
       "recommendations finished on 72000/160703 queries. users per second: 33908.1"
      ]
     },
     "metadata": {},
     "output_type": "display_data"
    },
    {
     "data": {
      "text/html": [
       "<pre>recommendations finished on 73000/160703 queries. users per second: 33970.8</pre>"
      ],
      "text/plain": [
       "recommendations finished on 73000/160703 queries. users per second: 33970.8"
      ]
     },
     "metadata": {},
     "output_type": "display_data"
    },
    {
     "data": {
      "text/html": [
       "<pre>recommendations finished on 74000/160703 queries. users per second: 34039.9</pre>"
      ],
      "text/plain": [
       "recommendations finished on 74000/160703 queries. users per second: 34039.9"
      ]
     },
     "metadata": {},
     "output_type": "display_data"
    },
    {
     "data": {
      "text/html": [
       "<pre>recommendations finished on 75000/160703 queries. users per second: 34099.6</pre>"
      ],
      "text/plain": [
       "recommendations finished on 75000/160703 queries. users per second: 34099.6"
      ]
     },
     "metadata": {},
     "output_type": "display_data"
    },
    {
     "data": {
      "text/html": [
       "<pre>recommendations finished on 76000/160703 queries. users per second: 34181.1</pre>"
      ],
      "text/plain": [
       "recommendations finished on 76000/160703 queries. users per second: 34181.1"
      ]
     },
     "metadata": {},
     "output_type": "display_data"
    },
    {
     "data": {
      "text/html": [
       "<pre>recommendations finished on 77000/160703 queries. users per second: 34260.8</pre>"
      ],
      "text/plain": [
       "recommendations finished on 77000/160703 queries. users per second: 34260.8"
      ]
     },
     "metadata": {},
     "output_type": "display_data"
    },
    {
     "data": {
      "text/html": [
       "<pre>recommendations finished on 78000/160703 queries. users per second: 34331.2</pre>"
      ],
      "text/plain": [
       "recommendations finished on 78000/160703 queries. users per second: 34331.2"
      ]
     },
     "metadata": {},
     "output_type": "display_data"
    },
    {
     "data": {
      "text/html": [
       "<pre>recommendations finished on 79000/160703 queries. users per second: 34392.7</pre>"
      ],
      "text/plain": [
       "recommendations finished on 79000/160703 queries. users per second: 34392.7"
      ]
     },
     "metadata": {},
     "output_type": "display_data"
    },
    {
     "data": {
      "text/html": [
       "<pre>recommendations finished on 80000/160703 queries. users per second: 34467.6</pre>"
      ],
      "text/plain": [
       "recommendations finished on 80000/160703 queries. users per second: 34467.6"
      ]
     },
     "metadata": {},
     "output_type": "display_data"
    },
    {
     "data": {
      "text/html": [
       "<pre>recommendations finished on 81000/160703 queries. users per second: 34548.4</pre>"
      ],
      "text/plain": [
       "recommendations finished on 81000/160703 queries. users per second: 34548.4"
      ]
     },
     "metadata": {},
     "output_type": "display_data"
    },
    {
     "data": {
      "text/html": [
       "<pre>recommendations finished on 82000/160703 queries. users per second: 34627.6</pre>"
      ],
      "text/plain": [
       "recommendations finished on 82000/160703 queries. users per second: 34627.6"
      ]
     },
     "metadata": {},
     "output_type": "display_data"
    },
    {
     "data": {
      "text/html": [
       "<pre>recommendations finished on 83000/160703 queries. users per second: 34683.5</pre>"
      ],
      "text/plain": [
       "recommendations finished on 83000/160703 queries. users per second: 34683.5"
      ]
     },
     "metadata": {},
     "output_type": "display_data"
    },
    {
     "data": {
      "text/html": [
       "<pre>recommendations finished on 84000/160703 queries. users per second: 34716.7</pre>"
      ],
      "text/plain": [
       "recommendations finished on 84000/160703 queries. users per second: 34716.7"
      ]
     },
     "metadata": {},
     "output_type": "display_data"
    },
    {
     "data": {
      "text/html": [
       "<pre>recommendations finished on 85000/160703 queries. users per second: 34770.5</pre>"
      ],
      "text/plain": [
       "recommendations finished on 85000/160703 queries. users per second: 34770.5"
      ]
     },
     "metadata": {},
     "output_type": "display_data"
    },
    {
     "data": {
      "text/html": [
       "<pre>recommendations finished on 86000/160703 queries. users per second: 34851.5</pre>"
      ],
      "text/plain": [
       "recommendations finished on 86000/160703 queries. users per second: 34851.5"
      ]
     },
     "metadata": {},
     "output_type": "display_data"
    },
    {
     "data": {
      "text/html": [
       "<pre>recommendations finished on 87000/160703 queries. users per second: 34916.9</pre>"
      ],
      "text/plain": [
       "recommendations finished on 87000/160703 queries. users per second: 34916.9"
      ]
     },
     "metadata": {},
     "output_type": "display_data"
    },
    {
     "data": {
      "text/html": [
       "<pre>recommendations finished on 88000/160703 queries. users per second: 34988</pre>"
      ],
      "text/plain": [
       "recommendations finished on 88000/160703 queries. users per second: 34988"
      ]
     },
     "metadata": {},
     "output_type": "display_data"
    },
    {
     "data": {
      "text/html": [
       "<pre>recommendations finished on 89000/160703 queries. users per second: 35057.8</pre>"
      ],
      "text/plain": [
       "recommendations finished on 89000/160703 queries. users per second: 35057.8"
      ]
     },
     "metadata": {},
     "output_type": "display_data"
    },
    {
     "data": {
      "text/html": [
       "<pre>recommendations finished on 90000/160703 queries. users per second: 35146.9</pre>"
      ],
      "text/plain": [
       "recommendations finished on 90000/160703 queries. users per second: 35146.9"
      ]
     },
     "metadata": {},
     "output_type": "display_data"
    },
    {
     "data": {
      "text/html": [
       "<pre>recommendations finished on 91000/160703 queries. users per second: 35200.5</pre>"
      ],
      "text/plain": [
       "recommendations finished on 91000/160703 queries. users per second: 35200.5"
      ]
     },
     "metadata": {},
     "output_type": "display_data"
    },
    {
     "data": {
      "text/html": [
       "<pre>recommendations finished on 92000/160703 queries. users per second: 35280</pre>"
      ],
      "text/plain": [
       "recommendations finished on 92000/160703 queries. users per second: 35280"
      ]
     },
     "metadata": {},
     "output_type": "display_data"
    },
    {
     "data": {
      "text/html": [
       "<pre>recommendations finished on 93000/160703 queries. users per second: 35317.9</pre>"
      ],
      "text/plain": [
       "recommendations finished on 93000/160703 queries. users per second: 35317.9"
      ]
     },
     "metadata": {},
     "output_type": "display_data"
    },
    {
     "data": {
      "text/html": [
       "<pre>recommendations finished on 94000/160703 queries. users per second: 35375</pre>"
      ],
      "text/plain": [
       "recommendations finished on 94000/160703 queries. users per second: 35375"
      ]
     },
     "metadata": {},
     "output_type": "display_data"
    },
    {
     "data": {
      "text/html": [
       "<pre>recommendations finished on 95000/160703 queries. users per second: 35457.6</pre>"
      ],
      "text/plain": [
       "recommendations finished on 95000/160703 queries. users per second: 35457.6"
      ]
     },
     "metadata": {},
     "output_type": "display_data"
    },
    {
     "data": {
      "text/html": [
       "<pre>recommendations finished on 96000/160703 queries. users per second: 35558.6</pre>"
      ],
      "text/plain": [
       "recommendations finished on 96000/160703 queries. users per second: 35558.6"
      ]
     },
     "metadata": {},
     "output_type": "display_data"
    },
    {
     "data": {
      "text/html": [
       "<pre>recommendations finished on 97000/160703 queries. users per second: 35612.2</pre>"
      ],
      "text/plain": [
       "recommendations finished on 97000/160703 queries. users per second: 35612.2"
      ]
     },
     "metadata": {},
     "output_type": "display_data"
    },
    {
     "data": {
      "text/html": [
       "<pre>recommendations finished on 98000/160703 queries. users per second: 35658.4</pre>"
      ],
      "text/plain": [
       "recommendations finished on 98000/160703 queries. users per second: 35658.4"
      ]
     },
     "metadata": {},
     "output_type": "display_data"
    },
    {
     "data": {
      "text/html": [
       "<pre>recommendations finished on 99000/160703 queries. users per second: 35736</pre>"
      ],
      "text/plain": [
       "recommendations finished on 99000/160703 queries. users per second: 35736"
      ]
     },
     "metadata": {},
     "output_type": "display_data"
    },
    {
     "data": {
      "text/html": [
       "<pre>recommendations finished on 100000/160703 queries. users per second: 35799.5</pre>"
      ],
      "text/plain": [
       "recommendations finished on 100000/160703 queries. users per second: 35799.5"
      ]
     },
     "metadata": {},
     "output_type": "display_data"
    },
    {
     "data": {
      "text/html": [
       "<pre>recommendations finished on 101000/160703 queries. users per second: 35881.2</pre>"
      ],
      "text/plain": [
       "recommendations finished on 101000/160703 queries. users per second: 35881.2"
      ]
     },
     "metadata": {},
     "output_type": "display_data"
    },
    {
     "data": {
      "text/html": [
       "<pre>recommendations finished on 102000/160703 queries. users per second: 35929.9</pre>"
      ],
      "text/plain": [
       "recommendations finished on 102000/160703 queries. users per second: 35929.9"
      ]
     },
     "metadata": {},
     "output_type": "display_data"
    },
    {
     "data": {
      "text/html": [
       "<pre>recommendations finished on 103000/160703 queries. users per second: 35996.6</pre>"
      ],
      "text/plain": [
       "recommendations finished on 103000/160703 queries. users per second: 35996.6"
      ]
     },
     "metadata": {},
     "output_type": "display_data"
    },
    {
     "data": {
      "text/html": [
       "<pre>recommendations finished on 104000/160703 queries. users per second: 36056.1</pre>"
      ],
      "text/plain": [
       "recommendations finished on 104000/160703 queries. users per second: 36056.1"
      ]
     },
     "metadata": {},
     "output_type": "display_data"
    },
    {
     "data": {
      "text/html": [
       "<pre>recommendations finished on 105000/160703 queries. users per second: 36071.2</pre>"
      ],
      "text/plain": [
       "recommendations finished on 105000/160703 queries. users per second: 36071.2"
      ]
     },
     "metadata": {},
     "output_type": "display_data"
    },
    {
     "data": {
      "text/html": [
       "<pre>recommendations finished on 106000/160703 queries. users per second: 36073.7</pre>"
      ],
      "text/plain": [
       "recommendations finished on 106000/160703 queries. users per second: 36073.7"
      ]
     },
     "metadata": {},
     "output_type": "display_data"
    },
    {
     "data": {
      "text/html": [
       "<pre>recommendations finished on 107000/160703 queries. users per second: 36137.1</pre>"
      ],
      "text/plain": [
       "recommendations finished on 107000/160703 queries. users per second: 36137.1"
      ]
     },
     "metadata": {},
     "output_type": "display_data"
    },
    {
     "data": {
      "text/html": [
       "<pre>recommendations finished on 108000/160703 queries. users per second: 36175.3</pre>"
      ],
      "text/plain": [
       "recommendations finished on 108000/160703 queries. users per second: 36175.3"
      ]
     },
     "metadata": {},
     "output_type": "display_data"
    },
    {
     "data": {
      "text/html": [
       "<pre>recommendations finished on 109000/160703 queries. users per second: 36218.9</pre>"
      ],
      "text/plain": [
       "recommendations finished on 109000/160703 queries. users per second: 36218.9"
      ]
     },
     "metadata": {},
     "output_type": "display_data"
    },
    {
     "data": {
      "text/html": [
       "<pre>recommendations finished on 110000/160703 queries. users per second: 36249.9</pre>"
      ],
      "text/plain": [
       "recommendations finished on 110000/160703 queries. users per second: 36249.9"
      ]
     },
     "metadata": {},
     "output_type": "display_data"
    },
    {
     "data": {
      "text/html": [
       "<pre>recommendations finished on 111000/160703 queries. users per second: 36310</pre>"
      ],
      "text/plain": [
       "recommendations finished on 111000/160703 queries. users per second: 36310"
      ]
     },
     "metadata": {},
     "output_type": "display_data"
    },
    {
     "data": {
      "text/html": [
       "<pre>recommendations finished on 112000/160703 queries. users per second: 36339.7</pre>"
      ],
      "text/plain": [
       "recommendations finished on 112000/160703 queries. users per second: 36339.7"
      ]
     },
     "metadata": {},
     "output_type": "display_data"
    },
    {
     "data": {
      "text/html": [
       "<pre>recommendations finished on 113000/160703 queries. users per second: 36386.6</pre>"
      ],
      "text/plain": [
       "recommendations finished on 113000/160703 queries. users per second: 36386.6"
      ]
     },
     "metadata": {},
     "output_type": "display_data"
    },
    {
     "data": {
      "text/html": [
       "<pre>recommendations finished on 114000/160703 queries. users per second: 36409.4</pre>"
      ],
      "text/plain": [
       "recommendations finished on 114000/160703 queries. users per second: 36409.4"
      ]
     },
     "metadata": {},
     "output_type": "display_data"
    },
    {
     "data": {
      "text/html": [
       "<pre>recommendations finished on 115000/160703 queries. users per second: 36455</pre>"
      ],
      "text/plain": [
       "recommendations finished on 115000/160703 queries. users per second: 36455"
      ]
     },
     "metadata": {},
     "output_type": "display_data"
    },
    {
     "data": {
      "text/html": [
       "<pre>recommendations finished on 116000/160703 queries. users per second: 36511.4</pre>"
      ],
      "text/plain": [
       "recommendations finished on 116000/160703 queries. users per second: 36511.4"
      ]
     },
     "metadata": {},
     "output_type": "display_data"
    },
    {
     "data": {
      "text/html": [
       "<pre>recommendations finished on 117000/160703 queries. users per second: 36549.9</pre>"
      ],
      "text/plain": [
       "recommendations finished on 117000/160703 queries. users per second: 36549.9"
      ]
     },
     "metadata": {},
     "output_type": "display_data"
    },
    {
     "data": {
      "text/html": [
       "<pre>recommendations finished on 118000/160703 queries. users per second: 36593.4</pre>"
      ],
      "text/plain": [
       "recommendations finished on 118000/160703 queries. users per second: 36593.4"
      ]
     },
     "metadata": {},
     "output_type": "display_data"
    },
    {
     "data": {
      "text/html": [
       "<pre>recommendations finished on 119000/160703 queries. users per second: 36636.4</pre>"
      ],
      "text/plain": [
       "recommendations finished on 119000/160703 queries. users per second: 36636.4"
      ]
     },
     "metadata": {},
     "output_type": "display_data"
    },
    {
     "data": {
      "text/html": [
       "<pre>recommendations finished on 120000/160703 queries. users per second: 36673.1</pre>"
      ],
      "text/plain": [
       "recommendations finished on 120000/160703 queries. users per second: 36673.1"
      ]
     },
     "metadata": {},
     "output_type": "display_data"
    },
    {
     "data": {
      "text/html": [
       "<pre>recommendations finished on 121000/160703 queries. users per second: 36631.4</pre>"
      ],
      "text/plain": [
       "recommendations finished on 121000/160703 queries. users per second: 36631.4"
      ]
     },
     "metadata": {},
     "output_type": "display_data"
    },
    {
     "data": {
      "text/html": [
       "<pre>recommendations finished on 122000/160703 queries. users per second: 36579.6</pre>"
      ],
      "text/plain": [
       "recommendations finished on 122000/160703 queries. users per second: 36579.6"
      ]
     },
     "metadata": {},
     "output_type": "display_data"
    },
    {
     "data": {
      "text/html": [
       "<pre>recommendations finished on 123000/160703 queries. users per second: 36512.4</pre>"
      ],
      "text/plain": [
       "recommendations finished on 123000/160703 queries. users per second: 36512.4"
      ]
     },
     "metadata": {},
     "output_type": "display_data"
    },
    {
     "data": {
      "text/html": [
       "<pre>recommendations finished on 124000/160703 queries. users per second: 36554.1</pre>"
      ],
      "text/plain": [
       "recommendations finished on 124000/160703 queries. users per second: 36554.1"
      ]
     },
     "metadata": {},
     "output_type": "display_data"
    },
    {
     "data": {
      "text/html": [
       "<pre>recommendations finished on 125000/160703 queries. users per second: 36531</pre>"
      ],
      "text/plain": [
       "recommendations finished on 125000/160703 queries. users per second: 36531"
      ]
     },
     "metadata": {},
     "output_type": "display_data"
    },
    {
     "data": {
      "text/html": [
       "<pre>recommendations finished on 126000/160703 queries. users per second: 36513.6</pre>"
      ],
      "text/plain": [
       "recommendations finished on 126000/160703 queries. users per second: 36513.6"
      ]
     },
     "metadata": {},
     "output_type": "display_data"
    },
    {
     "data": {
      "text/html": [
       "<pre>recommendations finished on 127000/160703 queries. users per second: 36554.3</pre>"
      ],
      "text/plain": [
       "recommendations finished on 127000/160703 queries. users per second: 36554.3"
      ]
     },
     "metadata": {},
     "output_type": "display_data"
    },
    {
     "data": {
      "text/html": [
       "<pre>recommendations finished on 128000/160703 queries. users per second: 36536.9</pre>"
      ],
      "text/plain": [
       "recommendations finished on 128000/160703 queries. users per second: 36536.9"
      ]
     },
     "metadata": {},
     "output_type": "display_data"
    },
    {
     "data": {
      "text/html": [
       "<pre>recommendations finished on 129000/160703 queries. users per second: 36597.6</pre>"
      ],
      "text/plain": [
       "recommendations finished on 129000/160703 queries. users per second: 36597.6"
      ]
     },
     "metadata": {},
     "output_type": "display_data"
    },
    {
     "data": {
      "text/html": [
       "<pre>recommendations finished on 130000/160703 queries. users per second: 36595.6</pre>"
      ],
      "text/plain": [
       "recommendations finished on 130000/160703 queries. users per second: 36595.6"
      ]
     },
     "metadata": {},
     "output_type": "display_data"
    },
    {
     "data": {
      "text/html": [
       "<pre>recommendations finished on 131000/160703 queries. users per second: 36603.9</pre>"
      ],
      "text/plain": [
       "recommendations finished on 131000/160703 queries. users per second: 36603.9"
      ]
     },
     "metadata": {},
     "output_type": "display_data"
    },
    {
     "data": {
      "text/html": [
       "<pre>recommendations finished on 132000/160703 queries. users per second: 36642.5</pre>"
      ],
      "text/plain": [
       "recommendations finished on 132000/160703 queries. users per second: 36642.5"
      ]
     },
     "metadata": {},
     "output_type": "display_data"
    },
    {
     "data": {
      "text/html": [
       "<pre>recommendations finished on 133000/160703 queries. users per second: 36680.7</pre>"
      ],
      "text/plain": [
       "recommendations finished on 133000/160703 queries. users per second: 36680.7"
      ]
     },
     "metadata": {},
     "output_type": "display_data"
    },
    {
     "data": {
      "text/html": [
       "<pre>recommendations finished on 134000/160703 queries. users per second: 36693.2</pre>"
      ],
      "text/plain": [
       "recommendations finished on 134000/160703 queries. users per second: 36693.2"
      ]
     },
     "metadata": {},
     "output_type": "display_data"
    },
    {
     "data": {
      "text/html": [
       "<pre>recommendations finished on 135000/160703 queries. users per second: 36705.5</pre>"
      ],
      "text/plain": [
       "recommendations finished on 135000/160703 queries. users per second: 36705.5"
      ]
     },
     "metadata": {},
     "output_type": "display_data"
    },
    {
     "data": {
      "text/html": [
       "<pre>recommendations finished on 136000/160703 queries. users per second: 36737.5</pre>"
      ],
      "text/plain": [
       "recommendations finished on 136000/160703 queries. users per second: 36737.5"
      ]
     },
     "metadata": {},
     "output_type": "display_data"
    },
    {
     "data": {
      "text/html": [
       "<pre>recommendations finished on 137000/160703 queries. users per second: 36769.1</pre>"
      ],
      "text/plain": [
       "recommendations finished on 137000/160703 queries. users per second: 36769.1"
      ]
     },
     "metadata": {},
     "output_type": "display_data"
    },
    {
     "data": {
      "text/html": [
       "<pre>recommendations finished on 138000/160703 queries. users per second: 36805.2</pre>"
      ],
      "text/plain": [
       "recommendations finished on 138000/160703 queries. users per second: 36805.2"
      ]
     },
     "metadata": {},
     "output_type": "display_data"
    },
    {
     "data": {
      "text/html": [
       "<pre>recommendations finished on 139000/160703 queries. users per second: 36831.1</pre>"
      ],
      "text/plain": [
       "recommendations finished on 139000/160703 queries. users per second: 36831.1"
      ]
     },
     "metadata": {},
     "output_type": "display_data"
    },
    {
     "data": {
      "text/html": [
       "<pre>recommendations finished on 140000/160703 queries. users per second: 36856.6</pre>"
      ],
      "text/plain": [
       "recommendations finished on 140000/160703 queries. users per second: 36856.6"
      ]
     },
     "metadata": {},
     "output_type": "display_data"
    },
    {
     "data": {
      "text/html": [
       "<pre>recommendations finished on 141000/160703 queries. users per second: 36881.8</pre>"
      ],
      "text/plain": [
       "recommendations finished on 141000/160703 queries. users per second: 36881.8"
      ]
     },
     "metadata": {},
     "output_type": "display_data"
    },
    {
     "data": {
      "text/html": [
       "<pre>recommendations finished on 142000/160703 queries. users per second: 36906.7</pre>"
      ],
      "text/plain": [
       "recommendations finished on 142000/160703 queries. users per second: 36906.7"
      ]
     },
     "metadata": {},
     "output_type": "display_data"
    },
    {
     "data": {
      "text/html": [
       "<pre>recommendations finished on 143000/160703 queries. users per second: 36945.6</pre>"
      ],
      "text/plain": [
       "recommendations finished on 143000/160703 queries. users per second: 36945.6"
      ]
     },
     "metadata": {},
     "output_type": "display_data"
    },
    {
     "data": {
      "text/html": [
       "<pre>recommendations finished on 144000/160703 queries. users per second: 36979.3</pre>"
      ],
      "text/plain": [
       "recommendations finished on 144000/160703 queries. users per second: 36979.3"
      ]
     },
     "metadata": {},
     "output_type": "display_data"
    },
    {
     "data": {
      "text/html": [
       "<pre>recommendations finished on 145000/160703 queries. users per second: 37026.8</pre>"
      ],
      "text/plain": [
       "recommendations finished on 145000/160703 queries. users per second: 37026.8"
      ]
     },
     "metadata": {},
     "output_type": "display_data"
    },
    {
     "data": {
      "text/html": [
       "<pre>recommendations finished on 146000/160703 queries. users per second: 37054.9</pre>"
      ],
      "text/plain": [
       "recommendations finished on 146000/160703 queries. users per second: 37054.9"
      ]
     },
     "metadata": {},
     "output_type": "display_data"
    },
    {
     "data": {
      "text/html": [
       "<pre>recommendations finished on 147000/160703 queries. users per second: 37073.3</pre>"
      ],
      "text/plain": [
       "recommendations finished on 147000/160703 queries. users per second: 37073.3"
      ]
     },
     "metadata": {},
     "output_type": "display_data"
    },
    {
     "data": {
      "text/html": [
       "<pre>recommendations finished on 148000/160703 queries. users per second: 37119.4</pre>"
      ],
      "text/plain": [
       "recommendations finished on 148000/160703 queries. users per second: 37119.4"
      ]
     },
     "metadata": {},
     "output_type": "display_data"
    },
    {
     "data": {
      "text/html": [
       "<pre>recommendations finished on 149000/160703 queries. users per second: 37151.1</pre>"
      ],
      "text/plain": [
       "recommendations finished on 149000/160703 queries. users per second: 37151.1"
      ]
     },
     "metadata": {},
     "output_type": "display_data"
    },
    {
     "data": {
      "text/html": [
       "<pre>recommendations finished on 150000/160703 queries. users per second: 37196.3</pre>"
      ],
      "text/plain": [
       "recommendations finished on 150000/160703 queries. users per second: 37196.3"
      ]
     },
     "metadata": {},
     "output_type": "display_data"
    },
    {
     "data": {
      "text/html": [
       "<pre>recommendations finished on 151000/160703 queries. users per second: 37208.8</pre>"
      ],
      "text/plain": [
       "recommendations finished on 151000/160703 queries. users per second: 37208.8"
      ]
     },
     "metadata": {},
     "output_type": "display_data"
    },
    {
     "data": {
      "text/html": [
       "<pre>recommendations finished on 152000/160703 queries. users per second: 37248.6</pre>"
      ],
      "text/plain": [
       "recommendations finished on 152000/160703 queries. users per second: 37248.6"
      ]
     },
     "metadata": {},
     "output_type": "display_data"
    },
    {
     "data": {
      "text/html": [
       "<pre>recommendations finished on 153000/160703 queries. users per second: 37278.8</pre>"
      ],
      "text/plain": [
       "recommendations finished on 153000/160703 queries. users per second: 37278.8"
      ]
     },
     "metadata": {},
     "output_type": "display_data"
    },
    {
     "data": {
      "text/html": [
       "<pre>recommendations finished on 154000/160703 queries. users per second: 37313.2</pre>"
      ],
      "text/plain": [
       "recommendations finished on 154000/160703 queries. users per second: 37313.2"
      ]
     },
     "metadata": {},
     "output_type": "display_data"
    },
    {
     "data": {
      "text/html": [
       "<pre>recommendations finished on 155000/160703 queries. users per second: 37320.3</pre>"
      ],
      "text/plain": [
       "recommendations finished on 155000/160703 queries. users per second: 37320.3"
      ]
     },
     "metadata": {},
     "output_type": "display_data"
    },
    {
     "data": {
      "text/html": [
       "<pre>recommendations finished on 156000/160703 queries. users per second: 37372</pre>"
      ],
      "text/plain": [
       "recommendations finished on 156000/160703 queries. users per second: 37372"
      ]
     },
     "metadata": {},
     "output_type": "display_data"
    },
    {
     "data": {
      "text/html": [
       "<pre>recommendations finished on 157000/160703 queries. users per second: 37378.5</pre>"
      ],
      "text/plain": [
       "recommendations finished on 157000/160703 queries. users per second: 37378.5"
      ]
     },
     "metadata": {},
     "output_type": "display_data"
    },
    {
     "data": {
      "text/html": [
       "<pre>recommendations finished on 158000/160703 queries. users per second: 37362.9</pre>"
      ],
      "text/plain": [
       "recommendations finished on 158000/160703 queries. users per second: 37362.9"
      ]
     },
     "metadata": {},
     "output_type": "display_data"
    },
    {
     "data": {
      "text/html": [
       "<pre>recommendations finished on 159000/160703 queries. users per second: 37321.2</pre>"
      ],
      "text/plain": [
       "recommendations finished on 159000/160703 queries. users per second: 37321.2"
      ]
     },
     "metadata": {},
     "output_type": "display_data"
    },
    {
     "data": {
      "text/html": [
       "<pre>recommendations finished on 160000/160703 queries. users per second: 37215</pre>"
      ],
      "text/plain": [
       "recommendations finished on 160000/160703 queries. users per second: 37215"
      ]
     },
     "metadata": {},
     "output_type": "display_data"
    },
    {
     "data": {
      "text/html": [
       "<div style=\"max-height:1000px;max-width:1500px;overflow:auto;\"><table frame=\"box\" rules=\"cols\">\n",
       "    <tr>\n",
       "        <th style=\"padding-left: 1em; padding-right: 1em; text-align: center\">user_id</th>\n",
       "        <th style=\"padding-left: 1em; padding-right: 1em; text-align: center\">business_id</th>\n",
       "        <th style=\"padding-left: 1em; padding-right: 1em; text-align: center\">score</th>\n",
       "        <th style=\"padding-left: 1em; padding-right: 1em; text-align: center\">rank</th>\n",
       "    </tr>\n",
       "    <tr>\n",
       "        <td style=\"padding-left: 1em; padding-right: 1em; text-align: center; vertical-align: top\">0XVzm4kVIAaH4eQAxWbhvw</td>\n",
       "        <td style=\"padding-left: 1em; padding-right: 1em; text-align: center; vertical-align: top\">YnmtUJGqQIQL9tz1MRyfqA</td>\n",
       "        <td style=\"padding-left: 1em; padding-right: 1em; text-align: center; vertical-align: top\">0.0194874048233</td>\n",
       "        <td style=\"padding-left: 1em; padding-right: 1em; text-align: center; vertical-align: top\">1</td>\n",
       "    </tr>\n",
       "    <tr>\n",
       "        <td style=\"padding-left: 1em; padding-right: 1em; text-align: center; vertical-align: top\">0XVzm4kVIAaH4eQAxWbhvw</td>\n",
       "        <td style=\"padding-left: 1em; padding-right: 1em; text-align: center; vertical-align: top\">f9sU31meK0bqAD7922sCog</td>\n",
       "        <td style=\"padding-left: 1em; padding-right: 1em; text-align: center; vertical-align: top\">0.0191907739639</td>\n",
       "        <td style=\"padding-left: 1em; padding-right: 1em; text-align: center; vertical-align: top\">2</td>\n",
       "    </tr>\n",
       "    <tr>\n",
       "        <td style=\"padding-left: 1em; padding-right: 1em; text-align: center; vertical-align: top\">0XVzm4kVIAaH4eQAxWbhvw</td>\n",
       "        <td style=\"padding-left: 1em; padding-right: 1em; text-align: center; vertical-align: top\">LFs5jyYdXlzi0SpAYi1eSA</td>\n",
       "        <td style=\"padding-left: 1em; padding-right: 1em; text-align: center; vertical-align: top\">0.0191749799252</td>\n",
       "        <td style=\"padding-left: 1em; padding-right: 1em; text-align: center; vertical-align: top\">3</td>\n",
       "    </tr>\n",
       "    <tr>\n",
       "        <td style=\"padding-left: 1em; padding-right: 1em; text-align: center; vertical-align: top\">0XVzm4kVIAaH4eQAxWbhvw</td>\n",
       "        <td style=\"padding-left: 1em; padding-right: 1em; text-align: center; vertical-align: top\">HGitzBs7x_fUvdTtrTacXg</td>\n",
       "        <td style=\"padding-left: 1em; padding-right: 1em; text-align: center; vertical-align: top\">0.0190156114101</td>\n",
       "        <td style=\"padding-left: 1em; padding-right: 1em; text-align: center; vertical-align: top\">4</td>\n",
       "    </tr>\n",
       "    <tr>\n",
       "        <td style=\"padding-left: 1em; padding-right: 1em; text-align: center; vertical-align: top\">0XVzm4kVIAaH4eQAxWbhvw</td>\n",
       "        <td style=\"padding-left: 1em; padding-right: 1em; text-align: center; vertical-align: top\">EAwh1OmG6t6p3nRaZOW_AA</td>\n",
       "        <td style=\"padding-left: 1em; padding-right: 1em; text-align: center; vertical-align: top\">0.0180125570297</td>\n",
       "        <td style=\"padding-left: 1em; padding-right: 1em; text-align: center; vertical-align: top\">5</td>\n",
       "    </tr>\n",
       "    <tr>\n",
       "        <td style=\"padding-left: 1em; padding-right: 1em; text-align: center; vertical-align: top\">0XVzm4kVIAaH4eQAxWbhvw</td>\n",
       "        <td style=\"padding-left: 1em; padding-right: 1em; text-align: center; vertical-align: top\">0N53m33GANYeHHl-s22d4Q</td>\n",
       "        <td style=\"padding-left: 1em; padding-right: 1em; text-align: center; vertical-align: top\">0.0179874742031</td>\n",
       "        <td style=\"padding-left: 1em; padding-right: 1em; text-align: center; vertical-align: top\">6</td>\n",
       "    </tr>\n",
       "    <tr>\n",
       "        <td style=\"padding-left: 1em; padding-right: 1em; text-align: center; vertical-align: top\">0XVzm4kVIAaH4eQAxWbhvw</td>\n",
       "        <td style=\"padding-left: 1em; padding-right: 1em; text-align: center; vertical-align: top\">ZjSzUWHtnpCfjsa7CksSOg</td>\n",
       "        <td style=\"padding-left: 1em; padding-right: 1em; text-align: center; vertical-align: top\">0.0178435564041</td>\n",
       "        <td style=\"padding-left: 1em; padding-right: 1em; text-align: center; vertical-align: top\">7</td>\n",
       "    </tr>\n",
       "    <tr>\n",
       "        <td style=\"padding-left: 1em; padding-right: 1em; text-align: center; vertical-align: top\">0XVzm4kVIAaH4eQAxWbhvw</td>\n",
       "        <td style=\"padding-left: 1em; padding-right: 1em; text-align: center; vertical-align: top\">kJl3l4fSa2spv_Mkhgogmg</td>\n",
       "        <td style=\"padding-left: 1em; padding-right: 1em; text-align: center; vertical-align: top\">0.0174511444569</td>\n",
       "        <td style=\"padding-left: 1em; padding-right: 1em; text-align: center; vertical-align: top\">8</td>\n",
       "    </tr>\n",
       "    <tr>\n",
       "        <td style=\"padding-left: 1em; padding-right: 1em; text-align: center; vertical-align: top\">0XVzm4kVIAaH4eQAxWbhvw</td>\n",
       "        <td style=\"padding-left: 1em; padding-right: 1em; text-align: center; vertical-align: top\">jlm7UtOXnZ8azTpkqqppJA</td>\n",
       "        <td style=\"padding-left: 1em; padding-right: 1em; text-align: center; vertical-align: top\">0.0169328868389</td>\n",
       "        <td style=\"padding-left: 1em; padding-right: 1em; text-align: center; vertical-align: top\">9</td>\n",
       "    </tr>\n",
       "    <tr>\n",
       "        <td style=\"padding-left: 1em; padding-right: 1em; text-align: center; vertical-align: top\">0XVzm4kVIAaH4eQAxWbhvw</td>\n",
       "        <td style=\"padding-left: 1em; padding-right: 1em; text-align: center; vertical-align: top\">uWECX6-Uq9n8v5ipk9R29A</td>\n",
       "        <td style=\"padding-left: 1em; padding-right: 1em; text-align: center; vertical-align: top\">0.0165793585777</td>\n",
       "        <td style=\"padding-left: 1em; padding-right: 1em; text-align: center; vertical-align: top\">10</td>\n",
       "    </tr>\n",
       "</table>\n",
       "[1607030 rows x 4 columns]<br/>Note: Only the head of the SFrame is printed.<br/>You can use print_rows(num_rows=m, num_columns=n) to print more rows and columns.\n",
       "</div>"
      ],
      "text/plain": [
       "Columns:\n",
       "\tuser_id\tstr\n",
       "\tbusiness_id\tstr\n",
       "\tscore\tfloat\n",
       "\trank\tint\n",
       "\n",
       "Rows: 1607030\n",
       "\n",
       "Data:\n",
       "+------------------------+------------------------+-----------------+------+\n",
       "|        user_id         |      business_id       |      score      | rank |\n",
       "+------------------------+------------------------+-----------------+------+\n",
       "| 0XVzm4kVIAaH4eQAxWbhvw | YnmtUJGqQIQL9tz1MRyfqA | 0.0194874048233 |  1   |\n",
       "| 0XVzm4kVIAaH4eQAxWbhvw | f9sU31meK0bqAD7922sCog | 0.0191907739639 |  2   |\n",
       "| 0XVzm4kVIAaH4eQAxWbhvw | LFs5jyYdXlzi0SpAYi1eSA | 0.0191749799252 |  3   |\n",
       "| 0XVzm4kVIAaH4eQAxWbhvw | HGitzBs7x_fUvdTtrTacXg | 0.0190156114101 |  4   |\n",
       "| 0XVzm4kVIAaH4eQAxWbhvw | EAwh1OmG6t6p3nRaZOW_AA | 0.0180125570297 |  5   |\n",
       "| 0XVzm4kVIAaH4eQAxWbhvw | 0N53m33GANYeHHl-s22d4Q | 0.0179874742031 |  6   |\n",
       "| 0XVzm4kVIAaH4eQAxWbhvw | ZjSzUWHtnpCfjsa7CksSOg | 0.0178435564041 |  7   |\n",
       "| 0XVzm4kVIAaH4eQAxWbhvw | kJl3l4fSa2spv_Mkhgogmg | 0.0174511444569 |  8   |\n",
       "| 0XVzm4kVIAaH4eQAxWbhvw | jlm7UtOXnZ8azTpkqqppJA | 0.0169328868389 |  9   |\n",
       "| 0XVzm4kVIAaH4eQAxWbhvw | uWECX6-Uq9n8v5ipk9R29A | 0.0165793585777 |  10  |\n",
       "+------------------------+------------------------+-----------------+------+\n",
       "[1607030 rows x 4 columns]\n",
       "Note: Only the head of the SFrame is printed.\n",
       "You can use print_rows(num_rows=m, num_columns=n) to print more rows and columns."
      ]
     },
     "execution_count": 90,
     "metadata": {},
     "output_type": "execute_result"
    }
   ],
   "source": [
    "con_rec.recommend()"
   ]
  }
 ],
 "metadata": {
  "anaconda-cloud": {},
  "kernelspec": {
   "display_name": "Python 2",
   "language": "python",
   "name": "python2"
  },
  "language_info": {
   "codemirror_mode": {
    "name": "ipython",
    "version": 2
   },
   "file_extension": ".py",
   "mimetype": "text/x-python",
   "name": "python",
   "nbconvert_exporter": "python",
   "pygments_lexer": "ipython2",
   "version": "2.7.13"
  }
 },
 "nbformat": 4,
 "nbformat_minor": 1
}
